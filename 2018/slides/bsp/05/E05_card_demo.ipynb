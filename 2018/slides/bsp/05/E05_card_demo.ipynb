{
 "cells": [
  {
   "cell_type": "code",
   "execution_count": 194,
   "metadata": {},
   "outputs": [],
   "source": [
    "class Card():\n",
    "    def __init__(self, rank=None, suit=None):\n",
    "        if not suit or rank == None:\n",
    "            print(\"no Card I can accept\")\n",
    "        self.suit = suit\n",
    "        self.rank = rank\n",
    "    def getRank(self):\n",
    "        return self.rank\n",
    "    def getSuit(self):\n",
    "        return self.suit\n",
    "    def getCard(self):\n",
    "        return (self.suit, self.rank)\n",
    "    \n",
    "    def __lt__(self, c2):\n",
    "        return self._less_than(self, c2)\n",
    "    \n",
    "    def _less_than(self,c1,c2):\n",
    "        card1 = c1.getRank()\n",
    "        card2 = c2.getRank()\n",
    "        print(\"card1 : {}, card2: {}\".format(card1,card2))\n",
    "        if type(card1) == str and card1 in \"JCQKA\":\n",
    "            print(self.rank, self.suit)\n",
    "            card1 = 11 + \"JCQKA\".index(card1)\n",
    "        if type(card2) == str and card2 in \"JCQKA\":\n",
    "            card2 = 11 + \"JCQKA\".index(card2)\n",
    "        return card1 < card2 \n",
    "    def __gt__(self, c2):\n",
    "        return self._less_than(c2, self)\n",
    "    \n",
    "    def __eq__(self, c2):\n",
    "        return self.rank == c2.getRank()\n",
    "        \n",
    "    def __repr__(self):\n",
    "        return (str(self.suit)+str(self.rank))"
   ]
  },
  {
   "cell_type": "code",
   "execution_count": 195,
   "metadata": {},
   "outputs": [],
   "source": [
    "c = Card(rank=2, suit='H')"
   ]
  },
  {
   "cell_type": "code",
   "execution_count": 196,
   "metadata": {},
   "outputs": [
    {
     "data": {
      "text/plain": [
       "('H', 2)"
      ]
     },
     "execution_count": 196,
     "metadata": {},
     "output_type": "execute_result"
    }
   ],
   "source": [
    "c.getCard()"
   ]
  },
  {
   "cell_type": "code",
   "execution_count": 197,
   "metadata": {},
   "outputs": [],
   "source": [
    "class Deck():\n",
    "    def __init__(self):\n",
    "        self.suits = [\"H\", \"S\", \"D\", \"C\"]\n",
    "        self.ranks = [\"A\",2,3,4,5,6,7,8,9,10,\"J\",\"C\",\"Q\",\"K\"]\n",
    "        self.cards = [Card(r,s) for s in self.suits for r in self.ranks]\n"
   ]
  },
  {
   "cell_type": "code",
   "execution_count": 198,
   "metadata": {},
   "outputs": [],
   "source": [
    "class FrenchDeck(Deck):\n",
    "    def __init__(self):\n",
    "        super().__init__()\n",
    "        self.ranks = self.ranks[0:-3] + self.ranks[-2:]\n",
    "        # del(self.ranks[-3])\n",
    "        self.cards = [Card(r,s) for s in self.suits for r in self.ranks]"
   ]
  },
  {
   "cell_type": "code",
   "execution_count": 199,
   "metadata": {},
   "outputs": [],
   "source": [
    "dec = Deck()"
   ]
  },
  {
   "cell_type": "code",
   "execution_count": 200,
   "metadata": {},
   "outputs": [
    {
     "data": {
      "text/plain": [
       "'A'"
      ]
     },
     "execution_count": 200,
     "metadata": {},
     "output_type": "execute_result"
    }
   ],
   "source": [
    "dec.cards[0].rank"
   ]
  },
  {
   "cell_type": "code",
   "execution_count": 201,
   "metadata": {},
   "outputs": [
    {
     "data": {
      "text/plain": [
       "56"
      ]
     },
     "execution_count": 201,
     "metadata": {},
     "output_type": "execute_result"
    }
   ],
   "source": [
    "len(dec.cards)"
   ]
  },
  {
   "cell_type": "code",
   "execution_count": 202,
   "metadata": {},
   "outputs": [],
   "source": [
    "french_cards = FrenchDeck()"
   ]
  },
  {
   "cell_type": "code",
   "execution_count": 203,
   "metadata": {},
   "outputs": [
    {
     "data": {
      "text/plain": [
       "52"
      ]
     },
     "execution_count": 203,
     "metadata": {},
     "output_type": "execute_result"
    }
   ],
   "source": [
    "len(french_cards.cards)"
   ]
  },
  {
   "cell_type": "code",
   "execution_count": 204,
   "metadata": {},
   "outputs": [],
   "source": [
    "from random import shuffle"
   ]
  },
  {
   "cell_type": "code",
   "execution_count": 205,
   "metadata": {},
   "outputs": [],
   "source": [
    "shuffle(french_cards.cards)"
   ]
  },
  {
   "cell_type": "code",
   "execution_count": 206,
   "metadata": {},
   "outputs": [
    {
     "data": {
      "text/plain": [
       "H8"
      ]
     },
     "execution_count": 206,
     "metadata": {},
     "output_type": "execute_result"
    }
   ],
   "source": [
    "french_cards.cards[0]"
   ]
  },
  {
   "cell_type": "code",
   "execution_count": 207,
   "metadata": {},
   "outputs": [],
   "source": [
    "spades =   '🂡🂢🂣🂤🂥🂦🂧🂨🂩🂪🂫🂬🂭🂮'\n",
    "hearts =   '🂱🂲🂳🂴🂵🂶🂷🂸🂹🂺🂻🂼🂽🂾'\n",
    "diamonds = '🃁🃂🃃🃄🃅🃆🃇🃈🃉🃊🃋🃌🃍🃎'\n",
    "clubs =    '🃑🃒🃓🃔🃕🃖🃗🃘🃙🃚🃛🃜🃝🃞'\n"
   ]
  },
  {
   "cell_type": "code",
   "execution_count": 208,
   "metadata": {},
   "outputs": [],
   "source": [
    "card1 = french_cards.cards[39]"
   ]
  },
  {
   "cell_type": "code",
   "execution_count": 209,
   "metadata": {},
   "outputs": [],
   "source": [
    "card2 = french_cards.cards[51]"
   ]
  },
  {
   "cell_type": "code",
   "execution_count": 210,
   "metadata": {},
   "outputs": [
    {
     "name": "stdout",
     "output_type": "stream",
     "text": [
      "card1 : 4, card2: 3\n"
     ]
    },
    {
     "data": {
      "text/plain": [
       "False"
      ]
     },
     "execution_count": 210,
     "metadata": {},
     "output_type": "execute_result"
    }
   ],
   "source": [
    "card1 < card2"
   ]
  },
  {
   "cell_type": "code",
   "execution_count": 211,
   "metadata": {},
   "outputs": [
    {
     "name": "stdout",
     "output_type": "stream",
     "text": [
      "S4 D3\n"
     ]
    }
   ],
   "source": [
    "print(card1, card2)"
   ]
  },
  {
   "cell_type": "code",
   "execution_count": 212,
   "metadata": {},
   "outputs": [
    {
     "data": {
      "text/plain": [
       "False"
      ]
     },
     "execution_count": 212,
     "metadata": {},
     "output_type": "execute_result"
    }
   ],
   "source": [
    "card1 == card2"
   ]
  },
  {
   "cell_type": "code",
   "execution_count": 213,
   "metadata": {},
   "outputs": [
    {
     "name": "stdout",
     "output_type": "stream",
     "text": [
      "card1 : 4, card2: 3\n"
     ]
    },
    {
     "data": {
      "text/plain": [
       "False"
      ]
     },
     "execution_count": 213,
     "metadata": {},
     "output_type": "execute_result"
    }
   ],
   "source": [
    "card2 > card1"
   ]
  },
  {
   "cell_type": "code",
   "execution_count": 223,
   "metadata": {},
   "outputs": [],
   "source": [
    "card3 = Card(rank=2, suit=\"H\")\n",
    "card4 = Card(rank=7, suit=\"D\")"
   ]
  },
  {
   "cell_type": "code",
   "execution_count": 224,
   "metadata": {},
   "outputs": [
    {
     "name": "stdout",
     "output_type": "stream",
     "text": [
      "card1 : 2, card2: 7\n"
     ]
    },
    {
     "data": {
      "text/plain": [
       "True"
      ]
     },
     "execution_count": 224,
     "metadata": {},
     "output_type": "execute_result"
    }
   ],
   "source": [
    "card3 < card4\n"
   ]
  },
  {
   "cell_type": "code",
   "execution_count": 225,
   "metadata": {
    "scrolled": true
   },
   "outputs": [
    {
     "name": "stdout",
     "output_type": "stream",
     "text": [
      "card1 : 7, card2: 2\n"
     ]
    },
    {
     "data": {
      "text/plain": [
       "False"
      ]
     },
     "execution_count": 225,
     "metadata": {},
     "output_type": "execute_result"
    }
   ],
   "source": [
    "card3 > card4"
   ]
  },
  {
   "cell_type": "code",
   "execution_count": 226,
   "metadata": {},
   "outputs": [
    {
     "data": {
      "text/plain": [
       "False"
      ]
     },
     "execution_count": 226,
     "metadata": {},
     "output_type": "execute_result"
    }
   ],
   "source": [
    "card3 == card4\n"
   ]
  },
  {
   "cell_type": "code",
   "execution_count": 233,
   "metadata": {},
   "outputs": [
    {
     "data": {
      "text/plain": [
       "[H8,\n",
       " D2,\n",
       " D6,\n",
       " S7,\n",
       " C6,\n",
       " DK,\n",
       " HK,\n",
       " H5,\n",
       " C3,\n",
       " S8,\n",
       " HJ,\n",
       " D10,\n",
       " C9,\n",
       " SK,\n",
       " H2,\n",
       " H3,\n",
       " S5,\n",
       " SQ,\n",
       " D5,\n",
       " DQ,\n",
       " HA,\n",
       " H7,\n",
       " SA,\n",
       " DJ,\n",
       " CQ,\n",
       " H9,\n",
       " C2,\n",
       " DA,\n",
       " CA,\n",
       " D9,\n",
       " C5,\n",
       " S3,\n",
       " D7,\n",
       " H4,\n",
       " S9,\n",
       " H10,\n",
       " S6,\n",
       " HQ,\n",
       " D8,\n",
       " S4,\n",
       " S2,\n",
       " S10,\n",
       " D4,\n",
       " C7,\n",
       " CJ,\n",
       " C10,\n",
       " C8,\n",
       " C4,\n",
       " SJ,\n",
       " CK,\n",
       " H6,\n",
       " D3]"
      ]
     },
     "execution_count": 233,
     "metadata": {},
     "output_type": "execute_result"
    }
   ],
   "source": [
    "french_cards.cards"
   ]
  },
  {
   "cell_type": "code",
   "execution_count": 238,
   "metadata": {},
   "outputs": [
    {
     "name": "stdout",
     "output_type": "stream",
     "text": [
      "card1 : 6, card2: 3\n",
      "card1 : K, card2: 6\n",
      "K C\n",
      "card1 : J, card2: K\n",
      "J S\n",
      "card1 : J, card2: 6\n",
      "J S\n",
      "card1 : J, card2: K\n",
      "J S\n",
      "card1 : 4, card2: J\n",
      "card1 : 4, card2: 6\n",
      "card1 : 4, card2: 3\n",
      "card1 : 8, card2: 6\n",
      "card1 : 8, card2: K\n",
      "card1 : 8, card2: J\n",
      "card1 : 10, card2: 8\n",
      "card1 : 10, card2: K\n",
      "card1 : 10, card2: J\n",
      "card1 : J, card2: 8\n",
      "J C\n",
      "card1 : J, card2: J\n",
      "J C\n",
      "card1 : J, card2: K\n",
      "J C\n",
      "card1 : 7, card2: 10\n",
      "card1 : 7, card2: 6\n",
      "card1 : 7, card2: 8\n",
      "card1 : 4, card2: 8\n",
      "card1 : 4, card2: 6\n",
      "card1 : 4, card2: 4\n",
      "card1 : 10, card2: 8\n",
      "card1 : 10, card2: J\n",
      "card1 : 10, card2: J\n",
      "card1 : 10, card2: 10\n",
      "card1 : 2, card2: 8\n",
      "card1 : 2, card2: 4\n",
      "card1 : 2, card2: 4\n",
      "card1 : 2, card2: 3\n",
      "card1 : 4, card2: 8\n",
      "card1 : 4, card2: 4\n",
      "card1 : 4, card2: 7\n",
      "card1 : 4, card2: 6\n",
      "card1 : 8, card2: 7\n",
      "card1 : 8, card2: J\n",
      "card1 : 8, card2: 10\n",
      "card1 : 8, card2: 8\n",
      "card1 : Q, card2: 8\n",
      "Q H\n",
      "card1 : Q, card2: J\n",
      "Q H\n",
      "card1 : Q, card2: K\n",
      "Q H\n",
      "card1 : Q, card2: J\n",
      "Q H\n",
      "card1 : 6, card2: 8\n",
      "card1 : 6, card2: 4\n",
      "card1 : 6, card2: 6\n",
      "card1 : 6, card2: 7\n",
      "card1 : 10, card2: 8\n",
      "card1 : 10, card2: J\n",
      "card1 : 10, card2: 10\n",
      "card1 : 10, card2: 10\n",
      "card1 : 9, card2: 8\n",
      "card1 : 9, card2: J\n",
      "card1 : 9, card2: 10\n",
      "card1 : 9, card2: 10\n",
      "card1 : 9, card2: 8\n",
      "card1 : 4, card2: 8\n",
      "card1 : 4, card2: 4\n",
      "card1 : 4, card2: 7\n",
      "card1 : 4, card2: 6\n",
      "card1 : 4, card2: 6\n",
      "card1 : 7, card2: 8\n",
      "card1 : 7, card2: 4\n",
      "card1 : 7, card2: 6\n",
      "card1 : 7, card2: 7\n",
      "card1 : 3, card2: 8\n",
      "card1 : 3, card2: 4\n",
      "card1 : 3, card2: 4\n",
      "card1 : 3, card2: 3\n",
      "card1 : 5, card2: 7\n",
      "card1 : 5, card2: 4\n",
      "card1 : 5, card2: 6\n",
      "card1 : 5, card2: 6\n",
      "card1 : 5, card2: 4\n",
      "card1 : 9, card2: 7\n",
      "card1 : 9, card2: 10\n",
      "card1 : 9, card2: 9\n",
      "card1 : 9, card2: 10\n",
      "card1 : 9, card2: 10\n",
      "card1 : A, card2: 7\n",
      "A C\n",
      "card1 : A, card2: 10\n",
      "A C\n",
      "card1 : A, card2: J\n",
      "A C\n",
      "card1 : A, card2: K\n",
      "A C\n",
      "card1 : A, card2: 8\n",
      "A D\n",
      "card1 : A, card2: 10\n",
      "A D\n",
      "card1 : A, card2: Q\n",
      "A D\n",
      "card1 : A, card2: A\n",
      "A D\n",
      "card1 : 2, card2: 8\n",
      "card1 : 2, card2: 4\n",
      "card1 : 2, card2: 4\n",
      "card1 : 2, card2: 3\n",
      "card1 : 2, card2: 2\n",
      "card1 : 9, card2: 8\n",
      "card1 : 9, card2: J\n",
      "card1 : 9, card2: 10\n",
      "card1 : 9, card2: 9\n",
      "card1 : 9, card2: 9\n",
      "card1 : Q, card2: 8\n",
      "Q C\n",
      "card1 : Q, card2: 10\n",
      "Q C\n",
      "card1 : Q, card2: K\n",
      "Q C\n",
      "card1 : Q, card2: J\n",
      "Q C\n",
      "card1 : Q, card2: Q\n",
      "Q C\n",
      "card1 : J, card2: 8\n",
      "J D\n",
      "card1 : J, card2: J\n",
      "J D\n",
      "card1 : J, card2: K\n",
      "J D\n",
      "card1 : J, card2: Q\n",
      "J D\n",
      "card1 : J, card2: J\n",
      "J D\n",
      "card1 : A, card2: 8\n",
      "A S\n",
      "card1 : A, card2: J\n",
      "A S\n",
      "card1 : A, card2: K\n",
      "A S\n",
      "card1 : A, card2: A\n",
      "A S\n",
      "card1 : 7, card2: 9\n",
      "card1 : 7, card2: 4\n",
      "card1 : 7, card2: 7\n",
      "card1 : 7, card2: 8\n",
      "card1 : 7, card2: 7\n",
      "card1 : A, card2: 8\n",
      "A H\n",
      "card1 : A, card2: J\n",
      "A H\n",
      "card1 : A, card2: K\n",
      "A H\n",
      "card1 : A, card2: A\n",
      "A H\n",
      "card1 : A, card2: A\n",
      "A H\n",
      "card1 : Q, card2: 9\n",
      "Q D\n",
      "card1 : Q, card2: J\n",
      "Q D\n",
      "card1 : Q, card2: A\n",
      "Q D\n",
      "card1 : Q, card2: Q\n",
      "Q D\n",
      "card1 : Q, card2: K\n",
      "Q D\n",
      "card1 : 5, card2: 9\n",
      "card1 : 5, card2: 5\n",
      "card1 : 5, card2: 7\n",
      "card1 : 5, card2: 6\n",
      "card1 : 5, card2: 6\n",
      "card1 : Q, card2: 9\n",
      "Q S\n",
      "card1 : Q, card2: Q\n",
      "Q S\n",
      "card1 : Q, card2: A\n",
      "Q S\n",
      "card1 : Q, card2: Q\n",
      "Q S\n",
      "card1 : Q, card2: K\n",
      "Q S\n",
      "card1 : 5, card2: 9\n",
      "card1 : 5, card2: 5\n",
      "card1 : 5, card2: 7\n",
      "card1 : 5, card2: 6\n",
      "card1 : 5, card2: 6\n",
      "card1 : 5, card2: 5\n",
      "card1 : 3, card2: 9\n",
      "card1 : 3, card2: 5\n",
      "card1 : 3, card2: 4\n",
      "card1 : 3, card2: 3\n",
      "card1 : 3, card2: 3\n",
      "card1 : 2, card2: 8\n",
      "card1 : 2, card2: 5\n",
      "card1 : 2, card2: 3\n",
      "card1 : 2, card2: 3\n",
      "card1 : 2, card2: 2\n",
      "card1 : K, card2: 8\n",
      "K S\n",
      "card1 : K, card2: Q\n",
      "K S\n",
      "card1 : K, card2: A\n",
      "K S\n",
      "card1 : K, card2: Q\n",
      "K S\n",
      "card1 : K, card2: K\n",
      "K S\n",
      "card1 : 9, card2: 8\n",
      "card1 : 9, card2: Q\n",
      "card1 : 9, card2: 10\n",
      "card1 : 9, card2: 9\n",
      "card1 : 9, card2: 10\n",
      "card1 : 10, card2: 9\n",
      "card1 : 10, card2: Q\n",
      "card1 : 10, card2: 10\n",
      "card1 : 10, card2: J\n",
      "card1 : 10, card2: J\n",
      "card1 : 10, card2: 10\n",
      "card1 : J, card2: 9\n",
      "J H\n",
      "card1 : J, card2: Q\n",
      "J H\n",
      "card1 : J, card2: 10\n",
      "J H\n",
      "card1 : J, card2: J\n",
      "J H\n",
      "card1 : J, card2: J\n",
      "J H\n",
      "card1 : 8, card2: 9\n",
      "card1 : 8, card2: 5\n",
      "card1 : 8, card2: 7\n",
      "card1 : 8, card2: 8\n",
      "card1 : 8, card2: 9\n",
      "card1 : 3, card2: 9\n",
      "card1 : 3, card2: 5\n",
      "card1 : 3, card2: 3\n",
      "card1 : 3, card2: 4\n",
      "card1 : 3, card2: 4\n",
      "card1 : 3, card2: 4\n",
      "card1 : 5, card2: 9\n",
      "card1 : 5, card2: 5\n",
      "card1 : 5, card2: 7\n",
      "card1 : 5, card2: 6\n",
      "card1 : 5, card2: 5\n",
      "card1 : K, card2: 8\n",
      "K H\n",
      "card1 : K, card2: J\n",
      "K H\n",
      "card1 : K, card2: K\n",
      "K H\n",
      "card1 : K, card2: A\n",
      "K H\n",
      "card1 : K, card2: A\n",
      "K H\n",
      "card1 : K, card2: A\n",
      "K H\n",
      "card1 : K, card2: 9\n",
      "K D\n",
      "card1 : K, card2: Q\n",
      "K D\n",
      "card1 : K, card2: K\n",
      "K D\n",
      "card1 : K, card2: A\n",
      "K D\n",
      "card1 : K, card2: A\n",
      "K D\n",
      "card1 : K, card2: A\n",
      "K D\n",
      "card1 : 6, card2: 9\n",
      "card1 : 6, card2: 5\n",
      "card1 : 6, card2: 7\n",
      "card1 : 6, card2: 5\n",
      "card1 : 6, card2: 6\n",
      "card1 : 7, card2: 9\n",
      "card1 : 7, card2: 5\n",
      "card1 : 7, card2: 7\n",
      "card1 : 7, card2: 8\n",
      "card1 : 7, card2: 7\n",
      "card1 : 6, card2: 8\n",
      "card1 : 6, card2: 5\n",
      "card1 : 6, card2: 7\n",
      "card1 : 6, card2: 6\n",
      "card1 : 6, card2: 6\n",
      "card1 : 2, card2: 8\n",
      "card1 : 2, card2: 5\n",
      "card1 : 2, card2: 3\n",
      "card1 : 2, card2: 3\n",
      "card1 : 2, card2: 2\n",
      "card1 : 2, card2: 2\n",
      "card1 : 8, card2: 8\n",
      "card1 : 8, card2: J\n",
      "card1 : 8, card2: 10\n",
      "card1 : 8, card2: 9\n",
      "card1 : 8, card2: 9\n",
      "card1 : 8, card2: 8\n"
     ]
    },
    {
     "data": {
      "text/plain": [
       "[HA,\n",
       " SA,\n",
       " DA,\n",
       " CA,\n",
       " DK,\n",
       " HK,\n",
       " SK,\n",
       " CK,\n",
       " SQ,\n",
       " DQ,\n",
       " CQ,\n",
       " HQ,\n",
       " HJ,\n",
       " DJ,\n",
       " CJ,\n",
       " SJ,\n",
       " D10,\n",
       " H10,\n",
       " S10,\n",
       " C10,\n",
       " C9,\n",
       " H9,\n",
       " D9,\n",
       " S9,\n",
       " H8,\n",
       " S8,\n",
       " D8,\n",
       " C8,\n",
       " S7,\n",
       " H7,\n",
       " D7,\n",
       " C7,\n",
       " D6,\n",
       " C6,\n",
       " S6,\n",
       " H6,\n",
       " H5,\n",
       " S5,\n",
       " D5,\n",
       " C5,\n",
       " H4,\n",
       " S4,\n",
       " D4,\n",
       " C4,\n",
       " C3,\n",
       " H3,\n",
       " S3,\n",
       " D3,\n",
       " D2,\n",
       " H2,\n",
       " C2,\n",
       " S2]"
      ]
     },
     "execution_count": 238,
     "metadata": {},
     "output_type": "execute_result"
    }
   ],
   "source": [
    "sorted(french_cards.cards, reverse=True)"
   ]
  },
  {
   "cell_type": "code",
   "execution_count": 237,
   "metadata": {},
   "outputs": [],
   "source": [
    "sorted?"
   ]
  },
  {
   "cell_type": "code",
   "execution_count": null,
   "metadata": {},
   "outputs": [],
   "source": []
  }
 ],
 "metadata": {
  "kernelspec": {
   "display_name": "Python 3",
   "language": "python",
   "name": "python3"
  },
  "language_info": {
   "codemirror_mode": {
    "name": "ipython",
    "version": 3
   },
   "file_extension": ".py",
   "mimetype": "text/x-python",
   "name": "python",
   "nbconvert_exporter": "python",
   "pygments_lexer": "ipython3",
   "version": "3.6.5"
  }
 },
 "nbformat": 4,
 "nbformat_minor": 2
}
