{
 "cells": [
  {
   "cell_type": "code",
   "execution_count": 1,
   "metadata": {},
   "outputs": [],
   "source": [
    "# cards\n",
    "suits = [\"H\", \"S\", \"C\", \"D\"]\n",
    "ranks = [\"A\", \"K\", \"Q\", \"J\", \"10\", \"9\", \"8\", \"7\", \"6\", \"5\", \"4\", \"3\", \"2\"]"
   ]
  },
  {
   "cell_type": "code",
   "execution_count": 79,
   "metadata": {},
   "outputs": [],
   "source": [
    "possible_cards = [(suit,rank) for suit in suits for rank in ranks]"
   ]
  },
  {
   "cell_type": "code",
   "execution_count": 80,
   "metadata": {},
   "outputs": [
    {
     "data": {
      "text/plain": [
       "[('H', 'A'),\n",
       " ('H', 'K'),\n",
       " ('H', 'Q'),\n",
       " ('H', 'J'),\n",
       " ('H', '10'),\n",
       " ('H', '9'),\n",
       " ('H', '8'),\n",
       " ('H', '7'),\n",
       " ('H', '6'),\n",
       " ('H', '5')]"
      ]
     },
     "execution_count": 80,
     "metadata": {},
     "output_type": "execute_result"
    }
   ],
   "source": [
    "possible_cards[:10]"
   ]
  },
  {
   "cell_type": "code",
   "execution_count": 81,
   "metadata": {},
   "outputs": [],
   "source": [
    "possible_cards.append(\"Joker\")"
   ]
  },
  {
   "cell_type": "code",
   "execution_count": 19,
   "metadata": {},
   "outputs": [],
   "source": [
    "# deck = possible_cards[:]\n",
    "deck = [x for x in possible_cards if x != \"Joker\"]"
   ]
  },
  {
   "cell_type": "code",
   "execution_count": 8,
   "metadata": {},
   "outputs": [],
   "source": [
    "# vorsicht beim Kopieren von Arrays!!\n",
    "# deck = possible_cards\n"
   ]
  },
  {
   "cell_type": "code",
   "execution_count": 15,
   "metadata": {},
   "outputs": [],
   "source": []
  },
  {
   "cell_type": "code",
   "execution_count": 20,
   "metadata": {},
   "outputs": [
    {
     "data": {
      "text/plain": [
       "52"
      ]
     },
     "execution_count": 20,
     "metadata": {},
     "output_type": "execute_result"
    }
   ],
   "source": [
    "len(deck)"
   ]
  },
  {
   "cell_type": "code",
   "execution_count": 21,
   "metadata": {},
   "outputs": [
    {
     "data": {
      "text/plain": [
       "53"
      ]
     },
     "execution_count": 21,
     "metadata": {},
     "output_type": "execute_result"
    }
   ],
   "source": [
    "len(possible_cards)"
   ]
  },
  {
   "cell_type": "code",
   "execution_count": 22,
   "metadata": {},
   "outputs": [],
   "source": [
    "import random\n"
   ]
  },
  {
   "cell_type": "code",
   "execution_count": 24,
   "metadata": {},
   "outputs": [
    {
     "data": {
      "text/plain": [
       "[('S', '3'),\n",
       " ('H', 'Q'),\n",
       " ('D', '3'),\n",
       " ('H', '8'),\n",
       " ('H', '9'),\n",
       " ('H', '6'),\n",
       " ('S', 'K'),\n",
       " ('C', 'J'),\n",
       " ('H', '3'),\n",
       " ('D', '8')]"
      ]
     },
     "execution_count": 24,
     "metadata": {},
     "output_type": "execute_result"
    }
   ],
   "source": [
    "random.shuffle(deck)\n",
    "deck[:10]"
   ]
  },
  {
   "cell_type": "code",
   "execution_count": 25,
   "metadata": {},
   "outputs": [],
   "source": [
    "player1 = deck[0:2]\n",
    "player2 = deck[2:4]\n",
    "player3 = deck[4:6]"
   ]
  },
  {
   "cell_type": "code",
   "execution_count": 26,
   "metadata": {},
   "outputs": [
    {
     "data": {
      "text/plain": [
       "[('S', '3'), ('H', 'Q')]"
      ]
     },
     "execution_count": 26,
     "metadata": {},
     "output_type": "execute_result"
    }
   ],
   "source": [
    "player1\n"
   ]
  },
  {
   "cell_type": "code",
   "execution_count": 27,
   "metadata": {},
   "outputs": [
    {
     "data": {
      "text/plain": [
       "52"
      ]
     },
     "execution_count": 27,
     "metadata": {},
     "output_type": "execute_result"
    }
   ],
   "source": [
    "len(deck)"
   ]
  },
  {
   "cell_type": "code",
   "execution_count": 28,
   "metadata": {},
   "outputs": [],
   "source": [
    "del deck[:6]"
   ]
  },
  {
   "cell_type": "code",
   "execution_count": 29,
   "metadata": {},
   "outputs": [
    {
     "data": {
      "text/plain": [
       "46"
      ]
     },
     "execution_count": 29,
     "metadata": {},
     "output_type": "execute_result"
    }
   ],
   "source": [
    "len(deck)"
   ]
  },
  {
   "cell_type": "code",
   "execution_count": 30,
   "metadata": {},
   "outputs": [],
   "source": [
    "def burn(deck):\n",
    "    return deck[1:]"
   ]
  },
  {
   "cell_type": "code",
   "execution_count": 32,
   "metadata": {},
   "outputs": [],
   "source": [
    "deck=burn(deck)"
   ]
  },
  {
   "cell_type": "code",
   "execution_count": 33,
   "metadata": {},
   "outputs": [
    {
     "data": {
      "text/plain": [
       "45"
      ]
     },
     "execution_count": 33,
     "metadata": {},
     "output_type": "execute_result"
    }
   ],
   "source": [
    "len(deck)"
   ]
  },
  {
   "cell_type": "code",
   "execution_count": 34,
   "metadata": {},
   "outputs": [],
   "source": [
    "flop = deck[:3]"
   ]
  },
  {
   "cell_type": "code",
   "execution_count": 35,
   "metadata": {},
   "outputs": [],
   "source": [
    "del deck[:3]"
   ]
  },
  {
   "cell_type": "code",
   "execution_count": 36,
   "metadata": {},
   "outputs": [
    {
     "data": {
      "text/plain": [
       "[('C', 'J'), ('H', '3'), ('D', '8')]"
      ]
     },
     "execution_count": 36,
     "metadata": {},
     "output_type": "execute_result"
    }
   ],
   "source": [
    "flop"
   ]
  },
  {
   "cell_type": "code",
   "execution_count": 37,
   "metadata": {},
   "outputs": [
    {
     "data": {
      "text/plain": [
       "[('S', '3'), ('H', 'Q')]"
      ]
     },
     "execution_count": 37,
     "metadata": {},
     "output_type": "execute_result"
    }
   ],
   "source": [
    "player1"
   ]
  },
  {
   "cell_type": "code",
   "execution_count": 38,
   "metadata": {},
   "outputs": [
    {
     "data": {
      "text/plain": [
       "[('D', '3'), ('H', '8')]"
      ]
     },
     "execution_count": 38,
     "metadata": {},
     "output_type": "execute_result"
    }
   ],
   "source": [
    "player2"
   ]
  },
  {
   "cell_type": "code",
   "execution_count": 39,
   "metadata": {},
   "outputs": [
    {
     "data": {
      "text/plain": [
       "[('H', '9'), ('H', '6')]"
      ]
     },
     "execution_count": 39,
     "metadata": {},
     "output_type": "execute_result"
    }
   ],
   "source": [
    "player3"
   ]
  },
  {
   "cell_type": "code",
   "execution_count": 40,
   "metadata": {},
   "outputs": [
    {
     "data": {
      "text/plain": [
       "42"
      ]
     },
     "execution_count": 40,
     "metadata": {},
     "output_type": "execute_result"
    }
   ],
   "source": [
    "len(deck)"
   ]
  },
  {
   "cell_type": "code",
   "execution_count": 41,
   "metadata": {},
   "outputs": [],
   "source": [
    "deck = burn(deck)"
   ]
  },
  {
   "cell_type": "code",
   "execution_count": 42,
   "metadata": {},
   "outputs": [],
   "source": [
    "turn = deck[0]"
   ]
  },
  {
   "cell_type": "code",
   "execution_count": 43,
   "metadata": {},
   "outputs": [],
   "source": [
    "del deck[0]"
   ]
  },
  {
   "cell_type": "code",
   "execution_count": 44,
   "metadata": {},
   "outputs": [
    {
     "data": {
      "text/plain": [
       "('S', 'J')"
      ]
     },
     "execution_count": 44,
     "metadata": {},
     "output_type": "execute_result"
    }
   ],
   "source": [
    "turn"
   ]
  },
  {
   "cell_type": "code",
   "execution_count": 45,
   "metadata": {},
   "outputs": [],
   "source": [
    "desk = flop"
   ]
  },
  {
   "cell_type": "code",
   "execution_count": 46,
   "metadata": {},
   "outputs": [],
   "source": [
    "desk.append(turn)"
   ]
  },
  {
   "cell_type": "code",
   "execution_count": 47,
   "metadata": {},
   "outputs": [
    {
     "data": {
      "text/plain": [
       "[('C', 'J'), ('H', '3'), ('D', '8'), ('S', 'J')]"
      ]
     },
     "execution_count": 47,
     "metadata": {},
     "output_type": "execute_result"
    }
   ],
   "source": [
    "desk\n"
   ]
  },
  {
   "cell_type": "code",
   "execution_count": 48,
   "metadata": {},
   "outputs": [],
   "source": [
    "deck = burn(deck)"
   ]
  },
  {
   "cell_type": "code",
   "execution_count": 49,
   "metadata": {},
   "outputs": [
    {
     "data": {
      "text/plain": [
       "39"
      ]
     },
     "execution_count": 49,
     "metadata": {},
     "output_type": "execute_result"
    }
   ],
   "source": [
    "len(deck)"
   ]
  },
  {
   "cell_type": "code",
   "execution_count": 50,
   "metadata": {},
   "outputs": [],
   "source": [
    "river = deck[0]"
   ]
  },
  {
   "cell_type": "code",
   "execution_count": 51,
   "metadata": {},
   "outputs": [],
   "source": [
    "del deck[0]"
   ]
  },
  {
   "cell_type": "code",
   "execution_count": 52,
   "metadata": {},
   "outputs": [],
   "source": [
    "desk.append(river)"
   ]
  },
  {
   "cell_type": "code",
   "execution_count": 53,
   "metadata": {},
   "outputs": [
    {
     "data": {
      "text/plain": [
       "[('C', 'J'), ('H', '3'), ('D', '8'), ('S', 'J'), ('H', 'J')]"
      ]
     },
     "execution_count": 53,
     "metadata": {},
     "output_type": "execute_result"
    }
   ],
   "source": [
    "desk"
   ]
  },
  {
   "cell_type": "code",
   "execution_count": 54,
   "metadata": {},
   "outputs": [
    {
     "data": {
      "text/plain": [
       "[('D', '3'), ('H', '8')]"
      ]
     },
     "execution_count": 54,
     "metadata": {},
     "output_type": "execute_result"
    }
   ],
   "source": [
    "player2\n"
   ]
  },
  {
   "cell_type": "code",
   "execution_count": 55,
   "metadata": {},
   "outputs": [
    {
     "data": {
      "text/plain": [
       "38"
      ]
     },
     "execution_count": 55,
     "metadata": {},
     "output_type": "execute_result"
    }
   ],
   "source": [
    "len(deck)"
   ]
  },
  {
   "cell_type": "code",
   "execution_count": 56,
   "metadata": {},
   "outputs": [],
   "source": [
    "deck.append(player1)\n",
    "deck.append(player2)\n",
    "deck.append(player3)\n",
    "deck.append(desk)"
   ]
  },
  {
   "cell_type": "code",
   "execution_count": 57,
   "metadata": {},
   "outputs": [
    {
     "data": {
      "text/plain": [
       "42"
      ]
     },
     "execution_count": 57,
     "metadata": {},
     "output_type": "execute_result"
    }
   ],
   "source": [
    "len(deck)"
   ]
  },
  {
   "cell_type": "code",
   "execution_count": 58,
   "metadata": {},
   "outputs": [],
   "source": [
    "deck = possible_cards"
   ]
  },
  {
   "cell_type": "code",
   "execution_count": 59,
   "metadata": {},
   "outputs": [
    {
     "data": {
      "text/plain": [
       "53"
      ]
     },
     "execution_count": 59,
     "metadata": {},
     "output_type": "execute_result"
    }
   ],
   "source": [
    "len(deck)"
   ]
  },
  {
   "cell_type": "code",
   "execution_count": 60,
   "metadata": {},
   "outputs": [],
   "source": [
    "deck.append(player1)"
   ]
  },
  {
   "cell_type": "code",
   "execution_count": 61,
   "metadata": {},
   "outputs": [
    {
     "data": {
      "text/plain": [
       "[('H', 'A'),\n",
       " ('H', 'K'),\n",
       " ('H', 'Q'),\n",
       " ('H', 'J'),\n",
       " ('H', '10'),\n",
       " ('H', '9'),\n",
       " ('H', '8'),\n",
       " ('H', '7'),\n",
       " ('H', '6'),\n",
       " ('H', '5'),\n",
       " ('H', '4'),\n",
       " ('H', '3'),\n",
       " ('H', '2'),\n",
       " ('S', 'A'),\n",
       " ('S', 'K'),\n",
       " ('S', 'Q'),\n",
       " ('S', 'J'),\n",
       " ('S', '10'),\n",
       " ('S', '9'),\n",
       " ('S', '8'),\n",
       " ('S', '7'),\n",
       " ('S', '6'),\n",
       " ('S', '5'),\n",
       " ('S', '4'),\n",
       " ('S', '3'),\n",
       " ('S', '2'),\n",
       " ('C', 'A'),\n",
       " ('C', 'K'),\n",
       " ('C', 'Q'),\n",
       " ('C', 'J'),\n",
       " ('C', '10'),\n",
       " ('C', '9'),\n",
       " ('C', '8'),\n",
       " ('C', '7'),\n",
       " ('C', '6'),\n",
       " ('C', '5'),\n",
       " ('C', '4'),\n",
       " ('C', '3'),\n",
       " ('C', '2'),\n",
       " ('D', 'A'),\n",
       " ('D', 'K'),\n",
       " ('D', 'Q'),\n",
       " ('D', 'J'),\n",
       " ('D', '10'),\n",
       " ('D', '9'),\n",
       " ('D', '8'),\n",
       " ('D', '7'),\n",
       " ('D', '6'),\n",
       " ('D', '5'),\n",
       " ('D', '4'),\n",
       " ('D', '3'),\n",
       " ('D', '2'),\n",
       " 'Joker',\n",
       " [('S', '3'), ('H', 'Q')]]"
      ]
     },
     "execution_count": 61,
     "metadata": {},
     "output_type": "execute_result"
    }
   ],
   "source": [
    "deck\n"
   ]
  },
  {
   "cell_type": "code",
   "execution_count": 62,
   "metadata": {},
   "outputs": [],
   "source": [
    "deck.extend(player3)"
   ]
  },
  {
   "cell_type": "code",
   "execution_count": 66,
   "metadata": {},
   "outputs": [
    {
     "data": {
      "text/plain": [
       "'H'"
      ]
     },
     "execution_count": 66,
     "metadata": {},
     "output_type": "execute_result"
    }
   ],
   "source": [
    "deck[0][0]"
   ]
  },
  {
   "cell_type": "code",
   "execution_count": 70,
   "metadata": {},
   "outputs": [],
   "source": [
    "# sorting cards in the next lecture"
   ]
  },
  {
   "cell_type": "code",
   "execution_count": 89,
   "metadata": {},
   "outputs": [],
   "source": [
    "deck.sort()"
   ]
  },
  {
   "cell_type": "code",
   "execution_count": 90,
   "metadata": {},
   "outputs": [
    {
     "data": {
      "text/plain": [
       "[('C', '10'),\n",
       " ('C', '2'),\n",
       " ('C', '3'),\n",
       " ('C', '4'),\n",
       " ('C', '5'),\n",
       " ('C', '6'),\n",
       " ('C', '7'),\n",
       " ('C', '8'),\n",
       " ('C', '9'),\n",
       " ('C', 'A'),\n",
       " ('C', 'J'),\n",
       " ('C', 'K'),\n",
       " ('C', 'Q'),\n",
       " ('D', '10'),\n",
       " ('D', '2'),\n",
       " ('D', '3'),\n",
       " ('D', '4'),\n",
       " ('D', '5'),\n",
       " ('D', '6'),\n",
       " ('D', '7'),\n",
       " ('D', '8'),\n",
       " ('D', '9'),\n",
       " ('D', 'A'),\n",
       " ('D', 'J'),\n",
       " ('D', 'K'),\n",
       " ('D', 'Q'),\n",
       " ('H', '10'),\n",
       " ('H', '2'),\n",
       " ('H', '3'),\n",
       " ('H', '4'),\n",
       " ('H', '5'),\n",
       " ('H', '6'),\n",
       " ('H', '7'),\n",
       " ('H', '8'),\n",
       " ('H', '9'),\n",
       " ('H', 'A'),\n",
       " ('H', 'J'),\n",
       " ('H', 'K'),\n",
       " ('H', 'Q'),\n",
       " ('S', '10'),\n",
       " ('S', '2'),\n",
       " ('S', '3'),\n",
       " ('S', '4'),\n",
       " ('S', '5'),\n",
       " ('S', '6'),\n",
       " ('S', '7'),\n",
       " ('S', '8'),\n",
       " ('S', '9'),\n",
       " ('S', 'A'),\n",
       " ('S', 'J'),\n",
       " ('S', 'K'),\n",
       " ('S', 'Q')]"
      ]
     },
     "execution_count": 90,
     "metadata": {},
     "output_type": "execute_result"
    }
   ],
   "source": [
    "deck"
   ]
  },
  {
   "cell_type": "code",
   "execution_count": 82,
   "metadata": {},
   "outputs": [],
   "source": [
    "deck = [ card for card in possible_cards if card != 'Joker' ]"
   ]
  },
  {
   "cell_type": "code",
   "execution_count": 84,
   "metadata": {},
   "outputs": [],
   "source": [
    "deck.sort()\n"
   ]
  },
  {
   "cell_type": "code",
   "execution_count": 88,
   "metadata": {},
   "outputs": [
    {
     "data": {
      "text/plain": [
       "[('C', '10'),\n",
       " ('C', '2'),\n",
       " ('C', '3'),\n",
       " ('C', '4'),\n",
       " ('C', '5'),\n",
       " ('C', '6'),\n",
       " ('C', '7'),\n",
       " ('C', '8'),\n",
       " ('C', '9'),\n",
       " ('C', 'A'),\n",
       " ('C', 'J'),\n",
       " ('C', 'K'),\n",
       " ('C', 'Q'),\n",
       " ('D', '10'),\n",
       " ('D', '2'),\n",
       " ('D', '3'),\n",
       " ('D', '4'),\n",
       " ('D', '5'),\n",
       " ('D', '6'),\n",
       " ('D', '7'),\n",
       " ('D', '8'),\n",
       " ('D', '9'),\n",
       " ('D', 'A'),\n",
       " ('D', 'J'),\n",
       " ('D', 'K'),\n",
       " ('D', 'Q'),\n",
       " ('H', '10'),\n",
       " ('H', '2'),\n",
       " ('H', '3'),\n",
       " ('H', '4'),\n",
       " ('H', '5'),\n",
       " ('H', '6'),\n",
       " ('H', '7'),\n",
       " ('H', '8'),\n",
       " ('H', '9'),\n",
       " ('H', 'A'),\n",
       " ('H', 'J'),\n",
       " ('H', 'K'),\n",
       " ('H', 'Q'),\n",
       " ('S', '10'),\n",
       " ('S', '2'),\n",
       " ('S', '3'),\n",
       " ('S', '4'),\n",
       " ('S', '5'),\n",
       " ('S', '6'),\n",
       " ('S', '7'),\n",
       " ('S', '8'),\n",
       " ('S', '9'),\n",
       " ('S', 'A'),\n",
       " ('S', 'J'),\n",
       " ('S', 'K'),\n",
       " ('S', 'Q')]"
      ]
     },
     "execution_count": 88,
     "metadata": {},
     "output_type": "execute_result"
    }
   ],
   "source": [
    "sorted(deck,key=lambda card: (card[0],card[1]))"
   ]
  },
  {
   "cell_type": "code",
   "execution_count": null,
   "metadata": {},
   "outputs": [],
   "source": []
  }
 ],
 "metadata": {
  "kernelspec": {
   "display_name": "Python 3",
   "language": "python",
   "name": "python3"
  },
  "language_info": {
   "codemirror_mode": {
    "name": "ipython",
    "version": 3
   },
   "file_extension": ".py",
   "mimetype": "text/x-python",
   "name": "python",
   "nbconvert_exporter": "python",
   "pygments_lexer": "ipython3",
   "version": "3.6.5"
  }
 },
 "nbformat": 4,
 "nbformat_minor": 2
}
