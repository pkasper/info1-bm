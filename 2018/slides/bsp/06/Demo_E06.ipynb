{
 "cells": [
  {
   "cell_type": "code",
   "execution_count": 1,
   "metadata": {},
   "outputs": [
    {
     "ename": "BlockingIOError",
     "evalue": "Test",
     "output_type": "error",
     "traceback": [
      "\u001b[0;31m---------------------------------------------------------------------------\u001b[0m",
      "\u001b[0;31mBlockingIOError\u001b[0m                           Traceback (most recent call last)",
      "\u001b[0;32m<ipython-input-1-7c6ba357f1ba>\u001b[0m in \u001b[0;36m<module>\u001b[0;34m()\u001b[0m\n\u001b[0;32m----> 1\u001b[0;31m \u001b[0;32mraise\u001b[0m \u001b[0mBlockingIOError\u001b[0m\u001b[0;34m(\u001b[0m\u001b[0;34m\"Test\"\u001b[0m\u001b[0;34m)\u001b[0m\u001b[0;34m\u001b[0m\u001b[0m\n\u001b[0m",
      "\u001b[0;31mBlockingIOError\u001b[0m: Test"
     ]
    }
   ],
   "source": [
    "raise BlockingIOError(\"Test\")\n"
   ]
  },
  {
   "cell_type": "code",
   "execution_count": 3,
   "metadata": {},
   "outputs": [
    {
     "name": "stdout",
     "output_type": "stream",
     "text": [
      "Error: Test\n"
     ]
    }
   ],
   "source": [
    "try:\n",
    "    raise BlockingIOError(\"Error: Test\")\n",
    "except BlockingIOError as ex:\n",
    "    print(ex)"
   ]
  },
  {
   "cell_type": "code",
   "execution_count": 8,
   "metadata": {},
   "outputs": [
    {
     "name": "stdout",
     "output_type": "stream",
     "text": [
      "Error: please provide a valid file!\n",
      "cleaning up\n"
     ]
    }
   ],
   "source": [
    "try:\n",
    "    open(\"/tmp/not_existing_file\")\n",
    "except NameError:\n",
    "    print(\"NameError caught!\")\n",
    "except FileNotFoundError:\n",
    "    print(\"Error: please provide a valid file!\")\n",
    "except OSError:\n",
    "    print(\"OSError\")\n",
    "    raise\n",
    "# don't catch all errors!!!\n",
    "# except:\n",
    "#     print(\"Caught all! :)\")\n",
    "\n",
    "else:\n",
    "    print(\"test else\")\n",
    "finally:\n",
    "    print(\"cleaning up\")"
   ]
  },
  {
   "cell_type": "code",
   "execution_count": 9,
   "metadata": {},
   "outputs": [
    {
     "name": "stdout",
     "output_type": "stream",
     "text": [
      "error found, change user\n",
      "cleaning up this mess\n"
     ]
    }
   ],
   "source": [
    "def funny_function(test):\n",
    "    if True:\n",
    "        # error\n",
    "        raise SyntaxError(\"spelling not right\")\n",
    "\n",
    "try:\n",
    "    funny_function(\"bla blub\")\n",
    "except SyntaxError:\n",
    "    print(\"error found, change user\")\n",
    "finally:\n",
    "    print(\"cleaning up this mess\")\n",
    "    "
   ]
  },
  {
   "cell_type": "code",
   "execution_count": 14,
   "metadata": {},
   "outputs": [
    {
     "name": "stdout",
     "output_type": "stream",
     "text": [
      "just kidding\n",
      "error found, change user\n",
      "cleaning up this mess\n"
     ]
    }
   ],
   "source": [
    "def funny_function(test):\n",
    "    if True:\n",
    "        # error\n",
    "        try:\n",
    "            raise SyntaxError(\"spelling not right\")\n",
    "        except:\n",
    "            print(\"just kidding\")\n",
    "            raise\n",
    "\n",
    "try:\n",
    "    funny_function(\"bla blub\")\n",
    "except SyntaxError:\n",
    "    print(\"error found, change user\")\n",
    "else:\n",
    "    print(\"everything running smoothly\")\n",
    "finally:\n",
    "    print(\"cleaning up this mess\")\n",
    "    "
   ]
  },
  {
   "cell_type": "code",
   "execution_count": 12,
   "metadata": {},
   "outputs": [
    {
     "name": "stdout",
     "output_type": "stream",
     "text": [
      "all fine\n",
      "everything running smoothly\n",
      "cleaning up this mess\n",
      ":)\n"
     ]
    }
   ],
   "source": [
    "def funny_function(test):\n",
    "    if True:\n",
    "        # error\n",
    "        try:\n",
    "            print(\"all fine\")\n",
    "        except NameError:\n",
    "            print(\"just kidding\")\n",
    "            raise\n",
    "\n",
    "try:\n",
    "    funny_function(\"bla blub\")\n",
    "except SyntaxError:\n",
    "    print(\"error found, change user\")\n",
    "else:\n",
    "    print(\"everything running smoothly\")\n",
    "finally:\n",
    "    print(\"cleaning up this mess\")\n",
    "    \n",
    "print(\":)\")"
   ]
  },
  {
   "cell_type": "code",
   "execution_count": 15,
   "metadata": {},
   "outputs": [
    {
     "name": "stdout",
     "output_type": "stream",
     "text": [
      "just kidding\n",
      "oj oj oj\n",
      "error found, change user\n",
      "cleaning up this mess\n"
     ]
    }
   ],
   "source": [
    "def funny_function(test):\n",
    "    if True:\n",
    "        # error\n",
    "        try:\n",
    "            raise SyntaxError(\"spelling not right\")\n",
    "        except:\n",
    "            print(\"just kidding\")\n",
    "            raise\n",
    "        finally:\n",
    "            print(\"oj oj oj\")\n",
    "\n",
    "try:\n",
    "    funny_function(\"bla blub\")\n",
    "except SyntaxError:\n",
    "    print(\"error found, change user\")\n",
    "else:\n",
    "    print(\"everything running smoothly\")\n",
    "finally:\n",
    "    print(\"cleaning up this mess\")\n",
    "    "
   ]
  },
  {
   "cell_type": "code",
   "execution_count": 16,
   "metadata": {},
   "outputs": [],
   "source": [
    "def myfunction(value):\n",
    "    assert value < 100\n",
    "    assert 0 < value\n",
    "    return value**2"
   ]
  },
  {
   "cell_type": "code",
   "execution_count": 17,
   "metadata": {},
   "outputs": [
    {
     "data": {
      "text/plain": [
       "25"
      ]
     },
     "execution_count": 17,
     "metadata": {},
     "output_type": "execute_result"
    }
   ],
   "source": [
    "myfunction(5)"
   ]
  },
  {
   "cell_type": "code",
   "execution_count": 18,
   "metadata": {},
   "outputs": [
    {
     "ename": "AssertionError",
     "evalue": "",
     "output_type": "error",
     "traceback": [
      "\u001b[0;31m---------------------------------------------------------------------------\u001b[0m",
      "\u001b[0;31mAssertionError\u001b[0m                            Traceback (most recent call last)",
      "\u001b[0;32m<ipython-input-18-3e26b13d9041>\u001b[0m in \u001b[0;36m<module>\u001b[0;34m()\u001b[0m\n\u001b[0;32m----> 1\u001b[0;31m \u001b[0mmyfunction\u001b[0m\u001b[0;34m(\u001b[0m\u001b[0;36m1000\u001b[0m\u001b[0;34m)\u001b[0m\u001b[0;34m\u001b[0m\u001b[0m\n\u001b[0m",
      "\u001b[0;32m<ipython-input-16-fdb7755ca867>\u001b[0m in \u001b[0;36mmyfunction\u001b[0;34m(value)\u001b[0m\n\u001b[1;32m      1\u001b[0m \u001b[0;32mdef\u001b[0m \u001b[0mmyfunction\u001b[0m\u001b[0;34m(\u001b[0m\u001b[0mvalue\u001b[0m\u001b[0;34m)\u001b[0m\u001b[0;34m:\u001b[0m\u001b[0;34m\u001b[0m\u001b[0m\n\u001b[0;32m----> 2\u001b[0;31m     \u001b[0;32massert\u001b[0m \u001b[0mvalue\u001b[0m \u001b[0;34m<\u001b[0m \u001b[0;36m100\u001b[0m\u001b[0;34m\u001b[0m\u001b[0m\n\u001b[0m\u001b[1;32m      3\u001b[0m     \u001b[0;32massert\u001b[0m \u001b[0;36m0\u001b[0m \u001b[0;34m<\u001b[0m \u001b[0mvalue\u001b[0m\u001b[0;34m\u001b[0m\u001b[0m\n\u001b[1;32m      4\u001b[0m     \u001b[0;32mreturn\u001b[0m \u001b[0mvalue\u001b[0m\u001b[0;34m**\u001b[0m\u001b[0;36m2\u001b[0m\u001b[0;34m\u001b[0m\u001b[0m\n",
      "\u001b[0;31mAssertionError\u001b[0m: "
     ]
    }
   ],
   "source": [
    "myfunction(1000)"
   ]
  },
  {
   "cell_type": "code",
   "execution_count": null,
   "metadata": {},
   "outputs": [],
   "source": [
    "def myfunction(value):\n",
    "    assert value < 100\n",
    "    assert 0 < value\n",
    "    raise ValueError()\n",
    "    return value**2"
   ]
  }
 ],
 "metadata": {
  "kernelspec": {
   "display_name": "Python 3",
   "language": "python",
   "name": "python3"
  },
  "language_info": {
   "codemirror_mode": {
    "name": "ipython",
    "version": 3
   },
   "file_extension": ".py",
   "mimetype": "text/x-python",
   "name": "python",
   "nbconvert_exporter": "python",
   "pygments_lexer": "ipython3",
   "version": "3.6.5"
  }
 },
 "nbformat": 4,
 "nbformat_minor": 2
}
