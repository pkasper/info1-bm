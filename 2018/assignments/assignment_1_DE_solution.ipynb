{
 "cells": [
  {
   "cell_type": "code",
   "execution_count": null,
   "metadata": {},
   "outputs": [],
   "source": [
    "######################################################################\n",
    "# Author:      [VORNAME] [NACHNAME]\n",
    "# MatNr:       [MATRIKELNUMMER]\n",
    "# Description: [KURZBESCHREIBUNG DER DATEI]\n",
    "# Comments:    [KOMMENTARE ZUR ABGABE.\n",
    "#              KANN MEHRZEILIG SEIN]\n",
    "######################################################################"
   ]
  },
  {
   "cell_type": "markdown",
   "metadata": {},
   "source": [
    "# Assignment 1\n",
    "## Informatik 1 für Biomedical Engineering 2018/2019"
   ]
  },
  {
   "cell_type": "markdown",
   "metadata": {},
   "source": [
    "Lösen Sie diese einzelnen Aufgaben. Schreiben Sie die Lösung für jede Aufgabe als einzelne Funktion (in die leeren Codezellen unterhalb der Aufgabenbeschreibungen). Achten Sie darauf, die Funktionen genau wie gefragt zu benennen!\n",
    "\n",
    "#### Beispiel\n",
    "**Mit** Rückgabewert und Funktionsparameter:          \n",
    "Schreiben Sie eine Funktion _add(a, b)_, die die Summe zweier gegebener Zahlen a und b berechnet und zurückgibt.\n",
    "```python\n",
    "def add(a, b):\n",
    "    result = a + b\n",
    "    return result\n",
    "\n",
    "#for testing:\n",
    "x = 2\n",
    "print(add(x, 5)) # -> 7\n",
    "```\n",
    "\n",
    "**Ohne** Rückgabewert und Funktionsparameter:  \n",
    "Schreibe eine Funktion _print_\\__hello_, die den String \"Hello!\" Ausgibt.\n",
    "\n",
    "```python\n",
    "def print_hello():\n",
    "    print(\"Hello!\")\n",
    "\n",
    "#for testing:\n",
    "print_hello() # -> Hello!\n",
    "```"
   ]
  },
  {
   "cell_type": "markdown",
   "metadata": {},
   "source": [
    "## 1 Input/Output"
   ]
  },
  {
   "cell_type": "markdown",
   "metadata": {},
   "source": [
    "### 1.1 I/O kombiniert\n",
    "Schreiben Sie eine Funktion _io_\\__1()_. Verwenden Sie _input_ um nach dem Namen und dem Alter eines Benutzers zu fragen. Als Output soll die Funktion folgenden Satz (mit den eingegebenen Daten) ausgeben:        \n",
    "Hi, my name is _name_ and I'm _age_ years old."
   ]
  },
  {
   "cell_type": "code",
   "execution_count": null,
   "metadata": {},
   "outputs": [],
   "source": [
    "def io_1():\n",
    "    name = input(\"Enter your name: \")\n",
    "    age = input(\"Enter your age:\")\n",
    "    print(f\"Hi, my name is {name} and I'm {age} years old.\")"
   ]
  },
  {
   "cell_type": "code",
   "execution_count": null,
   "metadata": {},
   "outputs": [],
   "source": [
    "io_1()"
   ]
  },
  {
   "cell_type": "markdown",
   "metadata": {},
   "source": [
    "### 1.2 Datei I/O\n",
    "Schreiben Sie eine Funktion _io_\\__2()_. \n",
    "Die Funktion soll die Datei \"query.txt\" einlesen. Verwenden Sie die Datei als Abfrage für Benutzereingaben und schreiben Sie die eingegebene Antwort in eine Datei namens \"result.txt\"."
   ]
  },
  {
   "cell_type": "code",
   "execution_count": null,
   "metadata": {},
   "outputs": [],
   "source": [
    "def io_2():\n",
    "    with open(\"query.txt\") as f:\n",
    "        answer = input(f.readline())\n",
    "        \n",
    "    with open(\"result.txt\", \"w\") as f:\n",
    "        f.write(answer)"
   ]
  },
  {
   "cell_type": "code",
   "execution_count": null,
   "metadata": {},
   "outputs": [],
   "source": [
    "io_2()"
   ]
  },
  {
   "cell_type": "markdown",
   "metadata": {},
   "source": [
    "## 2 Funktionen"
   ]
  },
  {
   "cell_type": "markdown",
   "metadata": {},
   "source": [
    "Erstellen Sie eine Funktion _solve_\\__quadratic_, um die quadratische Formel zu berechnen. Die Funktion soll drei Argumente annehmen, die die Koeffizienten a, b und c sind, und die Ergebnisse als Tupel zurückgeben. Sie müssen sich keine Gedanken über komplexe Zahlen machen, Python weiß was zu tun ist.\n",
    "Testen Sie die Funktion mit den folgenden Gleichungen:   \n",
    "$x^2+2x-15=0$  \n",
    "$2x^2-6x-36=0$  \n",
    "(Die Ergebnisse sollten $(3, -5)$ und $(6, -3)$ sein)"
   ]
  },
  {
   "cell_type": "code",
   "execution_count": null,
   "metadata": {},
   "outputs": [],
   "source": [
    "def solve_quadratic(a,b,c):\n",
    "    x_1 = (-b + (b**2 - 4 * a * c)**0.5) / (2 * a)\n",
    "    x_2 = (-b - (b**2 - 4 * a * c)**0.5) / (2 * a)\n",
    "    return x_1, x_2"
   ]
  },
  {
   "cell_type": "code",
   "execution_count": null,
   "metadata": {},
   "outputs": [],
   "source": [
    "solve_quadratic(1, 2, -15)"
   ]
  },
  {
   "cell_type": "markdown",
   "metadata": {},
   "source": [
    "## 3 Datentypen"
   ]
  },
  {
   "cell_type": "markdown",
   "metadata": {},
   "source": [
    "### 3.1 Listen"
   ]
  },
  {
   "cell_type": "markdown",
   "metadata": {},
   "source": [
    "#### 3.1.1\n",
    "Schreibe eine Funktion _lists_\\__1()_. Erstellen Sie eine Liste mit allen Vielfachen von 3, beginnend bei 0 und endend bei 21. Berechnen Sie die Quadratwurzel jedes Elements und speichern Sie es in einer neuen Liste. Geben Sie die Summe des ersten und letzten Elements der neuen Liste aus."
   ]
  },
  {
   "cell_type": "code",
   "execution_count": null,
   "metadata": {},
   "outputs": [],
   "source": [
    "def lists_1():\n",
    "    threes = list(range(0, 22, 3))\n",
    "    sqrts = [x**0.5 for x in threes]\n",
    "    print(sqrts[0] + sqrts[-1])"
   ]
  },
  {
   "cell_type": "code",
   "execution_count": null,
   "metadata": {},
   "outputs": [],
   "source": [
    "lists_1()"
   ]
  },
  {
   "cell_type": "markdown",
   "metadata": {},
   "source": [
    "#### 3.1.2\n",
    "Schreiben Sie eine Funktion _task_\\__3_1_\\__2(given_\\__numbers)_. \n",
    "Erstellen Sie eine Liste mit den Quadraten der Zahlen 1 bis 10. Fügen Sie sie mit einem an die Funktion übergebenen Tupel zusammen (Sie können _given_\\__example_ zum Testen verwenden) und entfernen Sie jede Zahl, die durch 5 teilbar ist. Berechnen Sie die Summe über die restlichen Zahlen und lassen Sie die Summe anschließend ausgeben."
   ]
  },
  {
   "cell_type": "code",
   "execution_count": null,
   "metadata": {},
   "outputs": [],
   "source": [
    "# do not edit this cell\n",
    "given_example = (4, 1, 5, 23, 5)"
   ]
  },
  {
   "cell_type": "code",
   "execution_count": null,
   "metadata": {},
   "outputs": [],
   "source": [
    "def task_3_1_2(given_numbers):\n",
    "    squares = [x**2 for x in range(1, 11)]\n",
    "    squares.extend(given_numbers)\n",
    "    squares_without_5 = [x for x in squares if x % 5 != 0]\n",
    "    print(sum(squares_without_5))"
   ]
  },
  {
   "cell_type": "code",
   "execution_count": null,
   "metadata": {},
   "outputs": [],
   "source": [
    "task_3_1_2(given_example)"
   ]
  },
  {
   "cell_type": "markdown",
   "metadata": {},
   "source": [
    "#### 3.1.3\n",
    "Schreiben Sie eine Funktion _lists_\\__3()_.  \n",
    "Erstelle eine Liste von Listen, die das folgende Tic-Tac-Toe-Spiel repräsentieren (verwenden Sie Strings für X und O):      \n",
    "$ X O O $  \n",
    "$ O X O $  \n",
    "$ X X O $  \n",
    "Anschließend Drehen Sie das Raster 4-mal um 90 ° im Uhrzeigersinn, wobei Sie das Ergebniss inklusieve einer leeren Zeile nach jedem Schritt wie folgt ausgeben:      \n",
    "$ X O X $  \n",
    "$ X X O $  \n",
    "$ O O O $ \n",
    "\n",
    "$ O X X $  \n",
    "$ O X O $  \n",
    "$ O O X $ \n",
    "..."
   ]
  },
  {
   "cell_type": "code",
   "execution_count": null,
   "metadata": {},
   "outputs": [],
   "source": [
    "def lists_3():\n",
    "    grid = [[\"X\", \"O\", \"O\"],\n",
    "            [\"O\", \"X\", \"O\"],\n",
    "            [\"X\", \"X\", \"O\"]]\n",
    "    \n",
    "    for _ in range(4):    \n",
    "        new_grid = [[\" \", \" \", \" \"],\n",
    "                    [\" \", \" \", \" \"],\n",
    "                    [\" \", \" \", \" \"]]\n",
    "        \n",
    "        for row in range(3):\n",
    "            for col in range(3):\n",
    "                new_grid[col][2-row] = grid[row][col]\n",
    "        grid = new_grid\n",
    "            \n",
    "        for row in grid:\n",
    "            print(\"\".join(row))\n",
    "        print()"
   ]
  },
  {
   "cell_type": "code",
   "execution_count": null,
   "metadata": {},
   "outputs": [],
   "source": [
    "lists_3()"
   ]
  },
  {
   "cell_type": "markdown",
   "metadata": {},
   "source": [
    "### 3.2 Strings"
   ]
  },
  {
   "cell_type": "markdown",
   "metadata": {},
   "source": [
    "#### 3.2.1\n",
    "Warum verwenden die Deutschen immer Kommas anstatt Dezimalpunkten? Schreiben Sie eine Funktion _strings_\\__1()_. Konvertieren Sie die in dem folgenden String angegebenen Zahlen in eine Liste von Gleitkommazahlen. Summiere Sie daraufhin alle Zahlen und geben Sie die Berechnung und ihr Ergebnis im folgenden Stil aus (Begrenze die Anzahl der Dezimalstellen für das Ergebnis auf zwei!):  \n",
    "$1.22 + 3.56 + 3.21 = 7.99$"
   ]
  },
  {
   "cell_type": "code",
   "execution_count": null,
   "metadata": {},
   "outputs": [],
   "source": [
    "# do not edit this cell\n",
    "numbers = \"8,78; 2,89; 9,5; 0,71; 4,14; 1,27; 9,7; 1,65; 7,31; 6,21; \"\n",
    "numbers += \"6,2; 9,02; 0,49; 1,73; 0,54; 0,9; 7,63; 9,69; 1,81; 8,07\""
   ]
  },
  {
   "cell_type": "code",
   "execution_count": null,
   "metadata": {},
   "outputs": [],
   "source": [
    "def strings_1():\n",
    "    number_list = numbers.replace(\",\", \".\").split(\";\")\n",
    "    floats = [float(x) for x in number_list]\n",
    "    print(\" + \".join(str(x) for x in floats), \"=\", round(sum(floats), 2))"
   ]
  },
  {
   "cell_type": "code",
   "execution_count": null,
   "metadata": {},
   "outputs": [],
   "source": [
    "strings_1()"
   ]
  },
  {
   "cell_type": "markdown",
   "metadata": {},
   "source": [
    "#### 3.2.2\n",
    "Schreibe eine Funktion _strings_\\__2()_. Nehmen Sie für jedes Wort in der gegebenen Zeichenfolge nur jeden zweiten Buchstaben und kehren Sie das Wort um. Geben Sie den resultierenden Satz aus!"
   ]
  },
  {
   "cell_type": "code",
   "execution_count": null,
   "metadata": {},
   "outputs": [],
   "source": [
    "# do not edit this cell\n",
    "encrypted = \"MeAhGT bkDcxizuDq vnxwNoPrsb ixfoCf ysHpMmsuOj orbeJvgo bejhBt yywzZazl A.ugaond\""
   ]
  },
  {
   "cell_type": "code",
   "execution_count": null,
   "metadata": {},
   "outputs": [],
   "source": [
    "def strings_2():\n",
    "    words = encrypted.split()\n",
    "    words_reversed = [word[::-2] for word in words]\n",
    "    print(*words_reversed)"
   ]
  },
  {
   "cell_type": "code",
   "execution_count": null,
   "metadata": {},
   "outputs": [],
   "source": [
    "strings_2()"
   ]
  },
  {
   "cell_type": "markdown",
   "metadata": {},
   "source": [
    "#### 3.2.3\n",
    "Ein Text wurde in dem String _mystery_ codiert und benötigt Ihre Hilfe um entschlüsselt zu werden. Schreiben Sie eine Funktion _strings_\\__3()_, die den folgenden Schritten folgt, um den Text zu ändern und den richtigen Text zu erhalten. Geben Sie das Ergebnis aus.\n",
    "1. Jeder Großbuchstabe wurde kleingeschrieben, links und rechts davon steht \"big\"\n",
    "2. Jeder Buchstabe a hat ein x auf beiden Seiten\n",
    "3. Jedes Komma wurde in einen Hashtag umgewandelt\n",
    "4. Jedes Wort endet mit 1b und beginnt mit .8\n",
    "5. Jedes r wurde zu einer \"rat\" erweitert und t wurde in eine \"turtle\" verwandelt\n",
    "6. Jedes Leerzeichen wurde durch einen Unterstrich ersetzt"
   ]
  },
  {
   "cell_type": "code",
   "execution_count": null,
   "metadata": {},
   "outputs": [],
   "source": [
    "# do not edit this cell\n",
    "mystery = \".8biglbigxaxnd1b_.8derat1b_.8bigbbigeratge1b#_.8biglbigxaxnd1b_.8xaxm1b_.8bigsbigturtleratome1b#\"\n",
    "mystery += \"_.8biglbigxaxnd1b_.8derat1b_.8xbigabigxckerat1b#_.8biglbigxaxnd1b_.8derat1b_.8bigdbigome1b#\"\n",
    "mystery += \"_.8biglbigxaxnd1b_.8derat1b_.8bighbigxäxmmerat1b#_.8zukunfturtlesrateich1b\""
   ]
  },
  {
   "cell_type": "code",
   "execution_count": null,
   "metadata": {},
   "outputs": [],
   "source": [
    "def strings_3():\n",
    "    result = mystery[:]\n",
    "    for letter in \"abcdefghijklmnopqrstuvw\":\n",
    "        result = result.replace(f\"big{letter}big\", letter.upper())\n",
    "        \n",
    "    result = result.replace(\"xax\", \"a\")\n",
    "    result = result.replace(\"xäx\", \"ä\")\n",
    "    result = result.replace(\"xAx\", \"A\")\n",
    "    result = result.replace(\"#\", \",\")\n",
    "    result = result.replace(\"1b\", \"\")\n",
    "    result = result.replace(\".8\", \"\")\n",
    "    result = result.replace(\"rat\", \"r\")\n",
    "    result = result.replace(\"turtle\", \"t\")\n",
    "    result = result.replace(\"_\", \" \")\n",
    "    print(result)"
   ]
  },
  {
   "cell_type": "code",
   "execution_count": null,
   "metadata": {},
   "outputs": [],
   "source": [
    "strings_3()"
   ]
  },
  {
   "cell_type": "markdown",
   "metadata": {},
   "source": [
    "#### 3.2.4\n",
    "Schreiben Sie eine Funktion _strings_\\__4()_. Konvertiere den gegebenen String _num_ in eine Liste von zweistelligen Zahlen. Entfernen Sie die Ganzzahl 23 aus der Liste, und fügen Sie dann die Ganzzahl 96 ein. Sortieren Sie anschließend die Liste in aufsteigender Reihenfolge mit ganzen Zahlen und geben Sie den Mittelwert, Minimum und Maximum, sowie die Entfernung dazwischen aus (z. B. \"Der Mittelwert ist 28\")."
   ]
  },
  {
   "cell_type": "code",
   "execution_count": null,
   "metadata": {},
   "outputs": [],
   "source": [
    "# do not edit this cell\n",
    "num = \"28561823817394\""
   ]
  },
  {
   "cell_type": "code",
   "execution_count": null,
   "metadata": {},
   "outputs": [],
   "source": [
    "def strings_4():\n",
    "    n_list = [int(num[i:i+2]) for i in range(0, len(num), 2)]\n",
    "    n_list[n_list.index(23)] = 96\n",
    "    n_list.sort()\n",
    "    print(\"The mean is\", sum(n_list)/len(n_list))\n",
    "    print(\"The range is\", n_list[-1] - n_list[0])\n",
    "    print(\"The min is\", min(n_list))\n",
    "    print(\"The max is\", max(n_list))"
   ]
  },
  {
   "cell_type": "code",
   "execution_count": null,
   "metadata": {},
   "outputs": [],
   "source": [
    "strings_4()"
   ]
  },
  {
   "cell_type": "markdown",
   "metadata": {},
   "source": [
    "### 3.3 Dictionaries"
   ]
  },
  {
   "cell_type": "markdown",
   "metadata": {},
   "source": [
    "#### 3.3.1\n",
    "Schreiben Sie eine Funktion _dicts_\\__1()_. Bitten Sie den Benutzer, Name, Menge und Preis pro Artikel für 3 verschiedene Artikel einzugeben (verwenden Sie _input_!). Speichern Sie die eingegebenen Informationen in einem dictionary (Produktnamen als Schlüssel, die anderen beiden Werte als Tupel (Preis, Betrag); z.B. {\"Milch\": (1.00, 2), ...}). Verwenden Sie geeignete Datentypen! Fügen Sie das übergebene dictionary mit weiteren Produkten (_old_\\__products_) demselben dictionary hinzu. Ändern Sie den Käsepreis auf 3,65 (aber behalten Sie die Menge). Geben Sie alle Produkte zusammen mit ihren Preisen im folgenden Stil aus:\n",
    "\n",
    "cheese: 4.65€  \n",
    "flour: 0.49€  \n",
    "...\n",
    "\n",
    "\n",
    "Berechnen Sie, was alle Produkte mit ihren angegebenen Mengen kosten würden und geben Sie das Ergebnis wie folgt aus: \n",
    "\"The total price is 123.45€\""
   ]
  },
  {
   "cell_type": "code",
   "execution_count": null,
   "metadata": {},
   "outputs": [],
   "source": [
    "# do not edit this cell\n",
    "old_products = {\"cheese\": (4.65, 1), \"flour\": (0.49, 2)}"
   ]
  },
  {
   "cell_type": "code",
   "execution_count": null,
   "metadata": {},
   "outputs": [],
   "source": [
    "def dicts_1():\n",
    "    products = {}\n",
    "    for _ in range(3):\n",
    "        name = input(\"Enter a product name: \")\n",
    "        amount = int(input(\"Enter an amount: \"))\n",
    "        price = float(input(\"Enter the product's price: \"))\n",
    "        products[name] = (price, amount)\n",
    "        \n",
    "    products.update(old_products)\n",
    "    products[\"cheese\"] = (3.65, products[\"cheese\"][1])\n",
    "    for name, info in products.items():\n",
    "            print(f\"{name}: {info[0]}€\")\n",
    "    total_price = sum(price*amount for price, amount in products.values())\n",
    "    print(f\"The total price is {total_price:.2f}€\")"
   ]
  },
  {
   "cell_type": "code",
   "execution_count": null,
   "metadata": {},
   "outputs": [],
   "source": [
    "dicts_1()"
   ]
  },
  {
   "cell_type": "markdown",
   "metadata": {},
   "source": [
    "#### 3.3.2\n",
    "Schreiben Sie eine Funktion _dicts_\\__2()_. Lesen Sie die Datei \"data.csv\" ein, um ein verschachteltes dictionary der Gesundheitsprofile von vier Patienten zu erstellen. Jeder Patient hat sowohl persönliche als auch medizinische Daten. Verwenden Sie in der ersten Ebene des dictionary  die Namen als Schlüssel, die Werte sollen dictionary mit key-value Paaren für Geburtsstatus, Geschlecht, Herzfrequenz und Anzahl der roten Blutkörperchen sein. Das dictionary für jeden Patient soll das gleiche Format haben. Achten Sie darauf korrekte Datentypen zu verwenden. Einheiten können ignoriert werden!    \n",
    "Das fertige dictionary für eine Person soll folgendermaßen aussehen:    \n",
    "health_profile = {\"Max\": {\"Birth state\": \"Bayern\", \"Gender\": \"Male\", \"Resting Heart Rate\": 74, \"Red blood cell count\": 4.33}, \"Omar\": {...}, ...}"
   ]
  },
  {
   "cell_type": "code",
   "execution_count": null,
   "metadata": {},
   "outputs": [],
   "source": [
    "def dicts_2():\n",
    "    with open(\"data.csv\") as csv_file:\n",
    "        health_profile = {}\n",
    "        keys = csv_file.readline().strip().split(\",\")[1:]\n",
    "        for line in csv_file:\n",
    "            name, *patient_data = line.strip().split(\",\")\n",
    "            health_profile[name] = {}\n",
    "            health_profile[name][keys[0]] = patient_data[0]\n",
    "            health_profile[name][keys[1]] = patient_data[1]\n",
    "            health_profile[name][keys[2]] = int(patient_data[2].split()[0])\n",
    "            health_profile[name][keys[3]] = float(patient_data[3].split()[0])"
   ]
  },
  {
   "cell_type": "code",
   "execution_count": null,
   "metadata": {},
   "outputs": [],
   "source": [
    "dicts_2()"
   ]
  },
  {
   "cell_type": "markdown",
   "metadata": {},
   "source": [
    "### 3.4 Tuples"
   ]
  },
  {
   "cell_type": "markdown",
   "metadata": {},
   "source": [
    "#### 3.4.1\n",
    "Schreibe eine Funktion _tuples_\\__1()_.\n",
    "Erstelle zwei Tupel mit den Koordinaten zweier Punkte:\n",
    "* $P_1 = \\begin{pmatrix}2\\\\3\\end{pmatrix}$\n",
    "* $P_2 = \\begin{pmatrix}7\\\\-4\\end{pmatrix}$  \n",
    "\n",
    "Berechnen und printen Sie den Abstand zwischen den beiden Punkten $d=\\sqrt{(P_{1_x}-P_{2_x})^2+(P_{1_y}-P_{2_y})^2}$.  \n",
    "Ändern Sie die x-Koordinate von $P_1$ auf $4$. Berechne den Abstand erneut und gebe ihn aus!"
   ]
  },
  {
   "cell_type": "code",
   "execution_count": null,
   "metadata": {},
   "outputs": [],
   "source": [
    "def tuples_1():\n",
    "    p_1 = (2, 3)\n",
    "    p_2 = (7, -4)\n",
    "    \n",
    "    d = ((p_1[0] - p_2[0])**2 + (p_1[1] - p_2[1])**2)**0.5\n",
    "    print(d)\n",
    "    \n",
    "    p_1 = (4, p_1[1])\n",
    "    d = ((p_1[0] - p_2[0])**2 + (p_1[1] - p_2[1])**2)**0.5\n",
    "    print(d)"
   ]
  },
  {
   "cell_type": "code",
   "execution_count": null,
   "metadata": {},
   "outputs": [],
   "source": [
    "tuples_1()"
   ]
  },
  {
   "cell_type": "markdown",
   "metadata": {},
   "source": [
    "#### 3.4.2\n",
    "Schreiben Sie eine Funktion _tuples_\\__2()_. Erstelle ein Tupel mit den Zahlen von 1 bis 10 (inklusive). Verwenden Sie Mehrfachzuweisung/tuple unpacking um den Variablen a bis c (Ganzzahlen) die Werte 1 bis 3 zuzuweisen, speichern Sie die restlichen Zahlen in d (eine Liste). Returnen Sie alle 4 Variablen."
   ]
  },
  {
   "cell_type": "code",
   "execution_count": null,
   "metadata": {},
   "outputs": [],
   "source": [
    "def tuples_2():\n",
    "    x = tuple(range(1, 11))\n",
    "    a, b, c, *d = x\n",
    "    return a, b, c, d"
   ]
  },
  {
   "cell_type": "code",
   "execution_count": null,
   "metadata": {},
   "outputs": [],
   "source": [
    "tuples_2()"
   ]
  },
  {
   "cell_type": "markdown",
   "metadata": {},
   "source": [
    "### 3.5 Sets"
   ]
  },
  {
   "cell_type": "markdown",
   "metadata": {},
   "source": [
    "Schreibe eine Funktion _sets_\\__1()_.\n",
    "Erstellen Sie drei sets:\n",
    "* even_numbers: Enthält alle geraden Zahlen von 2 bis 100 (inklusive)\n",
    "* multiples_of_3: Enthält alle Vielfachen von 3 bis 100\n",
    "* multiples_of_7: Enthält alle Vielfachen von 7 bis 100\n",
    "\n",
    "Gib nun alle Nummern aus (in dieser Reihenfolge), \n",
    "* die durch 2 und 7 teilbar sind\n",
    "* die ungerade und durch 7 teilbar sind\n",
    "\n",
    "Addiere die kleinste und größte Zahlen, die entweder durch 7 oder 3 teilbar ist (aber nicht beides!) Und gebe das Ergebnis aus!"
   ]
  },
  {
   "cell_type": "code",
   "execution_count": null,
   "metadata": {},
   "outputs": [],
   "source": [
    "def sets_1():\n",
    "    even_numbers = set(range(2, 101, 2))\n",
    "    multiples_of_3 = set(range(3, 101, 3))\n",
    "    multiples_of_7 = set(range(7, 101, 7))\n",
    "    \n",
    "    print(even_numbers & multiples_of_7)\n",
    "    print(multiples_of_7 - even_numbers)\n",
    "    res = multiples_of_7 ^ multiples_of_3\n",
    "    print(min(res) + max(res))"
   ]
  },
  {
   "cell_type": "code",
   "execution_count": null,
   "metadata": {},
   "outputs": [],
   "source": [
    "sets_1()"
   ]
  },
  {
   "cell_type": "markdown",
   "metadata": {},
   "source": [
    "## 4 Control Flow Statements"
   ]
  },
  {
   "cell_type": "markdown",
   "metadata": {},
   "source": [
    "### 4.1 If/Else "
   ]
  },
  {
   "cell_type": "markdown",
   "metadata": {},
   "source": [
    "#### 4.1.1\n",
    "Schreiben Sie eine Funktion _ifelse_\\__1()_. Iteriere über die Zahlen von 1 bis 100 (beide inklusive). Für Zahlen, die durch 5 teilbar sind, geben Sie \"Fizz\" aus. Bei Zahlen mit einer Ziffernsumme von 7 geben Sie \"Buzz\" aus. Wenn beide Bedingungen zutreffen soll \"FizzBuzz\" ausgegeben werden. Wenn beides nicht zutrifft, printen Sie einfach die Nummer."
   ]
  },
  {
   "cell_type": "code",
   "execution_count": null,
   "metadata": {},
   "outputs": [],
   "source": [
    "def ifelse_1():\n",
    "    for i in range(1, 101):\n",
    "        if not i % 5 and sum([int(x) for x in str(i)]) == 7:\n",
    "            print(\"FizzBuzz\")\n",
    "        elif not i % 5:\n",
    "            print(\"Fizz\")\n",
    "        elif sum([int(x) for x in str(i)]) == 7:\n",
    "            print(\"Buzz\")\n",
    "        else:\n",
    "            print(i)"
   ]
  },
  {
   "cell_type": "code",
   "execution_count": null,
   "metadata": {},
   "outputs": [],
   "source": [
    "ifelse_1()"
   ]
  },
  {
   "cell_type": "markdown",
   "metadata": {},
   "source": [
    "#### 4.1.2\n",
    "Schreibe eine Funktion _ifelse_\\__2()_, die dem Benutzer die Note in Abhängigkeit von den eingegebenen Punkten (mit _input_) mitteilt. Es sollte folgendermaßen funktionieren:\n",
    "  \n",
    "Enter your points: 77  \n",
    "You got a C!\n",
    "  \n",
    "Berechnen Sie die Noten nach folgender Tabelle:\n",
    "\n",
    "\n",
    "| Grade | Range        |\n",
    "|-------|--------------|\n",
    "| A     | 90 <= P      |\n",
    "| B     | 80 <= P < 90 |\n",
    "| C     | 70 <= P < 80 |\n",
    "| D     | 60 <= P < 70 |\n",
    "| E     | 50 <= P < 60 |\n",
    "| F     | P < 50       |\n"
   ]
  },
  {
   "cell_type": "code",
   "execution_count": null,
   "metadata": {},
   "outputs": [],
   "source": [
    "def ifelse_2():\n",
    "    p = int(input(\"Enter your points: \"))\n",
    "    if p >= 90:\n",
    "        print(\"You got an A!\")\n",
    "    elif p >= 80:\n",
    "        print(\"You got a B!\")\n",
    "    elif p >= 70:\n",
    "        print(\"You got a C!\")\n",
    "    elif p >= 60:\n",
    "        print(\"You got a D!\")\n",
    "    elif p < 50:\n",
    "        print(\"You got an F!\")"
   ]
  },
  {
   "cell_type": "code",
   "execution_count": null,
   "metadata": {},
   "outputs": [],
   "source": [
    "ifelse_2()"
   ]
  },
  {
   "cell_type": "markdown",
   "metadata": {},
   "source": [
    "### 4.2 For Schleifen"
   ]
  },
  {
   "cell_type": "markdown",
   "metadata": {},
   "source": [
    "#### 4.2.1\n",
    "Schreibe eine Funktion _for_\\__loops_\\__1()_. Erstellen Sie eine leere Liste. Fügen Sie in einer for-Schleife dieser Liste insgesamt 1000 zufällige Ganzzahlen von 0 bis 100 hinzu. Geben Sie eine Liste mit nur den geraden Zahlen zurück."
   ]
  },
  {
   "cell_type": "code",
   "execution_count": null,
   "metadata": {},
   "outputs": [],
   "source": [
    "# do not edit this cell\n",
    "import random"
   ]
  },
  {
   "cell_type": "code",
   "execution_count": null,
   "metadata": {},
   "outputs": [],
   "source": [
    "def for_loops_1():\n",
    "        numbers = [random.randint(0,101) for _ in range(1000)]\n",
    "        return [x for x in numbers if not x % 2]"
   ]
  },
  {
   "cell_type": "code",
   "execution_count": null,
   "metadata": {},
   "outputs": [],
   "source": [
    "for_loops_1()"
   ]
  },
  {
   "cell_type": "markdown",
   "metadata": {},
   "source": [
    "#### 4.2.2\n",
    "Schreibe eine Funktion _for_\\__loops_\\__2()_.\n",
    "Öffnen Sie dafür die Datei \"for_loops.txt\". Lesen Sie Zeile für Zeile und zeigen Sie den Inhalt jeder Zeile im folgenden Stil an\n",
    "\n",
    "Line No. 1: \"Whatever line 1 says\"  \n",
    "Line No. 2: \"Whatever line 2 says\"  \n",
    "...\n",
    "\n",
    "\n",
    "Stoppen Sie die Ausgabe nach der ersten Zeile mit dem Wort \"end\"."
   ]
  },
  {
   "cell_type": "code",
   "execution_count": null,
   "metadata": {},
   "outputs": [],
   "source": [
    "def for_loops_2():\n",
    "    with open(\"for_loops.txt\") as f:\n",
    "        for n, line in enumerate(f):\n",
    "            print(f'Line No. {n+1}: \"{line.strip()}\"')\n",
    "            if \"end\" in line:\n",
    "                return"
   ]
  },
  {
   "cell_type": "code",
   "execution_count": null,
   "metadata": {},
   "outputs": [],
   "source": [
    "for_loops_2()"
   ]
  },
  {
   "cell_type": "markdown",
   "metadata": {},
   "source": [
    "### 4.3 While Schleifen"
   ]
  },
  {
   "cell_type": "markdown",
   "metadata": {},
   "source": [
    "Schreibe eine Funktion _while_\\__loops_\\__1()_. Erstellen Sie eine leere Liste. Vordern Sie nun mit _input_ den Benutzer auf eine Nummer einzugeben. Überprüfen Sie, ob das, was eingegeben wurde, tatsächlich eine ganze Zahl ist, andernfalls geben Sie eine Warnmeldung aus. Ist es eine Zahl, so hängen Sie diese an die Liste an (verwenden Sie den entsprechenden Datentyp!). Wiederholen Sie diesen Vorgang, bis die Zeichenfolge \"stop\" eingegeben wird. Geben Sie dann alle Nummern in der Liste in umgekehrter Reihenfolge aus."
   ]
  },
  {
   "cell_type": "code",
   "execution_count": null,
   "metadata": {},
   "outputs": [],
   "source": [
    "def while_loops_1():\n",
    "    numbers = []\n",
    "    while True:\n",
    "        new_number = input(\"Please enter a number: \")\n",
    "        if new_number == \"stop\":\n",
    "            break\n",
    "        if not new_number.isdigit():\n",
    "            print(\"This was not an integer!\")\n",
    "        else:\n",
    "            numbers.append(new_number)\n",
    "    print(*numbers[::-1])"
   ]
  },
  {
   "cell_type": "code",
   "execution_count": null,
   "metadata": {},
   "outputs": [],
   "source": [
    "while_loops_1()"
   ]
  },
  {
   "cell_type": "code",
   "execution_count": null,
   "metadata": {},
   "outputs": [],
   "source": []
  }
 ],
 "metadata": {
  "kernelspec": {
   "display_name": "Python 3",
   "language": "python",
   "name": "python3"
  },
  "language_info": {
   "codemirror_mode": {
    "name": "ipython",
    "version": 3
   },
   "file_extension": ".py",
   "mimetype": "text/x-python",
   "name": "python",
   "nbconvert_exporter": "python",
   "pygments_lexer": "ipython3",
   "version": "3.7.0"
  }
 },
 "nbformat": 4,
 "nbformat_minor": 2
}
