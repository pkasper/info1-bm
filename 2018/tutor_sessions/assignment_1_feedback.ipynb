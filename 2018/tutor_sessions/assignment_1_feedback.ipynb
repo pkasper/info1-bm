{
 "cells": [
  {
   "cell_type": "markdown",
   "metadata": {},
   "source": [
    "# Feedback Assignment 1 Info 1 BM:\n",
    "Die häufigsten Fehlerquellen und deren Abzüge für Assignment 1 sind in folgendem Dokument zusammengefasst. Schaut euch das am besten vor der Abgabe von Assignment 2 an, damit die Fehler nicht zwei Mal passieren. Es sind jeweils schlechte Beispiele aus den Abgaben zu finden als Referenz für euch, bitte so **NICHT** machen.\n",
    "## Coding Standard (CS)\n",
    "Maximaler Abzug 50%\n",
    "* Zur Überprüfung von Zeichenlimit, Einrückungen, Tabs und sonstigen Schönheitsfehlern gibts endlos praktische Tools. zB. pylint (zeigt diese Dinge und alle anderen PEP8-Verstöße an... das führt zwar nicht alles zu Punkteabzügen, macht den Code aber um einiges lesbarer!) - nur bei Variablennamen kann euch leider kein Programm helfen \n",
    "* schaut euch mal https://pep8.org/ an! da wird der ganze Codingstandard schön erklärt und begründet, sollte auch die \"wie rücke ich nach einem Zeilenumbruch ein\"-Frage klären  \n",
    "\n",
    "#### 1. \tSprache und Namen\n",
    "* English Names  \n",
    "**WICHTIG:** Deutsche Variablen führen direkt zu 50% Abzug auf das ganze Programm!"
   ]
  },
  {
   "cell_type": "code",
   "execution_count": null,
   "metadata": {},
   "outputs": [],
   "source": [
    "# SO NICHT MACHEN!!!\n",
    "quersum = 0\n",
    "zahlen = [x for x in range(1,101)]\n",
    "liste = []\n",
    "eingabe = 0\n",
    "lauf_var = 0\n",
    "summe = 0\n",
    "liste_1 = [0, 3, 6, 9, 12, 18, 21]\n",
    "liste_2 = []\n",
    "\n",
    "def ziffernsumme_1(zahl):\n",
    "    result = 0\n",
    "    while zahl:\n",
    "        result += zahl % 10\n",
    "        zahl = int(zahl / 10)\n",
    "    return result\n",
    "\n",
    "Mittelwert =sum(second_list)/ float(len(second_list))\n",
    "\n",
    "M_Menge = input(\"Menge eingeben\")\n",
    "M_Preis = input(\"Preis eingeben\")"
   ]
  },
  {
   "cell_type": "markdown",
   "metadata": {},
   "source": [
    "* Sprechende Namen\n",
    "Wenn man nur list1, list2, list3, dic, var1, var2, var3, a, b, c, x, y, z schreibt, dann kennt man sich am Ende selbst nicht mehr aus in welcher Variable was gespeichert ist und wir noch weniger, wenn wir 140 solche Programme durchschauen sollen. Daher bitte bitte **SPRECHENDE** Namen benutzen. Also überlegt euch immer: Was speichere ich jetzt in dieser Variable? Ist es vllt? even_numbers, oder multiples_of_7, oder decrypting_step etc.  "
   ]
  },
  {
   "cell_type": "code",
   "execution_count": null,
   "metadata": {},
   "outputs": [],
   "source": [
    "# SO NICHT MACHEN!!!!\n",
    "\n",
    "# Example 1:\n",
    "    a = encrypted[0:6]\n",
    "    a_word = a[1::2]\n",
    "    a_reverse = a_word[::-1]\n",
    "    b = encrypted[7:17]\n",
    "    b_word = b[1::2]\n",
    "    b_reverse = b_word[::-1]\n",
    "    c = encrypted[18:28]\n",
    "    c_word = c[1::2]\n",
    "    c_reverse = c_word[::-1]\n",
    "    d = encrypted[29:35]\n",
    "    d_word = d[1::2]\n",
    "    d_reverse = d_word[::-1]\n",
    "    e = encrypted[36:46]\n",
    "    e_word = e[1::2]\n",
    "    e_reverse = e_word[::-1]\n",
    "    f = encrypted[47:56]\n",
    "    f_word = f[1::2]\n",
    "    f_reverse = f_word[::-1]\n",
    "    g = encrypted[56:63]\n",
    "    g_word = g[1::2]\n",
    "    g_reverse = g_word[::-1]\n",
    "    h = encrypted[63:72]\n",
    "    h_word = h[1::2]\n",
    "    h_reverse = h_word[::-1]\n",
    "    i = encrypted[72:80]\n",
    "    i_word = i[1::2]\n",
    "    i_reverse = i_word[::-1]\n",
    "    \n",
    "# Example 2:\n",
    "    oldlist[0][0] = listnew[0][0]\n",
    "    listnew[0][2] = oldlist[0][0]\n",
    "    \n",
    "# Example 3:\n",
    "    text5 = mystery.replace(\"rat\",\"r\")\n",
    "    #print(text5+\"\\n\")\n",
    "    text5 = text5.replace(\"turtle\",\"t\")\n",
    "    #print(text5+\"\\n\")\n",
    "    text6 = text5.replace(\"_\",\" \")\n",
    "    #print(text6+\"\\n\")\n",
    "    text4 = text6.replace(\".8\",\"\")\n",
    "    #print(text4+\"\\n\")\n",
    "    text4 = text4.replace(\"1b\",\"\")\n",
    "    #print(text4+\"\\n\")\n",
    "    text3 = text4.replace(\"#\",\",\")\n",
    "    #print(text3+\"\\n\")\n",
    "    text1 = text3.split(\" \")\n",
    "    text = encrypted.split(\" \")\n",
    "    \n",
    "# Example 4:\n",
    "    word1 = text[0]\n",
    "    word1 = word1[1:6:2]\n",
    "    word1 = word1[::-1]\n",
    "    word2 = text[1]\n",
    "    word2 = word2[1:10:2]\n",
    "    word2 = word2[::-1]\n",
    "    word3 = text[2]\n",
    "    word3 = word3[1:10:2]\n",
    "    word3 = word3[::-1]\n",
    "    word4 = text[3]\n",
    "    word4 = word4[1:6:2]\n",
    "    word4 = word4[::-1]\n",
    "    word5 = text[4]\n",
    "    word5 = word5[1:10:2]\n",
    "    word5 = word5[::-1]\n",
    "    word6 = text[5]\n",
    "    word6 = word6[1:8:2]\n",
    "    word6 = word6[::-1]\n",
    "    word7 = text[6]\n",
    "    word7 = word7[1:6:2]\n",
    "    word7 = word7[::-1]\n",
    "    word8 = text[7]\n",
    "    word8 = word8[1:8:2]\n",
    "    word8 = word8[::-1]\n",
    "    word9 = text[8]\n",
    "    word9 = word9[1:8:2]\n",
    "    word9 = word9[::-1]\n",
    "    \n",
    "# Example 5:\n",
    "    l1 = list(lambda: x**2 for x in range(1, 10))\n",
    "    l2 = map(lambda x,y: (x,y), l1, given_example) \n",
    "    l3 = [x for x in l1 if ((x % 5) == 0)]\n",
    "    \n",
    "# Example 6:  \n",
    "    Sum1 = list2[0] + list2[-1]\n",
    "    sum1 = round(Sum1,2)\n",
    "    \n",
    "# Example 7:\n",
    "    a = list_1[0]\n",
    "    b = list_1[1]\n",
    "    c = list_1[2]\n",
    "    d = list_1[3]\n",
    "    e = list_1[4]\n",
    "    f = list_1[5]\n",
    "    g = list_1[6]\n",
    "    h = list_1[7]\n",
    "    i = list_1[8]\n",
    "    a = a[-1:0:-2]\n",
    "    b = b[-1:0:-2]\n",
    "    c = c[-1:0:-2]\n",
    "    d = d[-1:0:-2]\n",
    "    e = e[-1:0:-2]\n",
    "    f = f[-1:0:-2]\n",
    "    g = g[-1:0:-2]\n",
    "    h = h[-1:0:-2]\n",
    "    i = i[-1:0:-2]\n",
    "    \n",
    "# Example 8:\n",
    "    numbers = \"1,22; 3,56; 3,21\"\n",
    "    numbs = numbers.replace(\",\", \".\")\n",
    "    num = numbs.split(\";\")\n",
    "    \n",
    "# Example 9: \n",
    "def ifelse_1():\n",
    "    for i in range(1, 101, 1):\n",
    "        s = \"\"\n",
    "        s1 = \"Fizz\"\n",
    "        s2 = \"Buzz\"\n",
    "        if (i%5)==0:\n",
    "            s = s1\n",
    "            if i==16:\n",
    "                s+=s2\n",
    "            elif i==61:\n",
    "                s+=s2\n",
    "            elif i==25:\n",
    "                s+=s2\n",
    "            elif i==52:\n",
    "                s+=s2\n",
    "            elif i==34:\n",
    "                s+=s2\n",
    "            elif i==43:\n",
    "                s+=s2\n",
    "            elif i==7:\n",
    "                s+=s2\n",
    "            elif i==70:\n",
    "                s+=s2\n",
    "        elif i==16:\n",
    "            s=s2\n",
    "        elif i==61:\n",
    "            s=s2\n",
    "        elif i==25:\n",
    "            s=s2\n",
    "        elif i==52:\n",
    "            s=s2\n",
    "        elif i==34:\n",
    "            s=s2\n",
    "        elif i==43:\n",
    "            s=s2\n",
    "        elif i==7:\n",
    "            s=s2\n",
    "        elif i==70:\n",
    "            s=s2\n",
    "        else:\n",
    "            print(i)\n",
    "        print(s)\n",
    "    return\n",
    "\n",
    "# Example 10: \n",
    "def list_3():\n",
    "    text=[\"X\",\"O\",\"O\",\"O\",\"X\",\"O\",\"X\",\"X\",\"O\"]\n",
    "    T=text.reshape(3,3)\n",
    "    U=T'\n",
    "    V=U'\n",
    "    W=V'\n",
    "    print(T)\n",
    "    \n",
    "# Example 11:    \n",
    "        point = word.replace(',', '.')\n",
    "        pointt = point.replace(';', '')\n",
    "        floats = float(pointt)\n",
    "        output.append(floats)\n",
    "        result1 = sum(output)\n",
    "        result2 = (\"%.2f\" % result1)"
   ]
  },
  {
   "cell_type": "markdown",
   "metadata": {},
   "source": [
    "* Vordefinierte built in functions nicht als Variablen Namen verwenden bitte, da die Funktion dann nicht mehr verwendet werden kann. (Alle built in Functions findet ihr hier: https://docs.python.org/3/library/functions.html)  \n",
    "--> Hat dieses Mal nicht zu Abzügen geführt, aber ab Assignment 2 dann."
   ]
  },
  {
   "cell_type": "code",
   "execution_count": null,
   "metadata": {},
   "outputs": [],
   "source": [
    "# SO NICHT MACHEN!!!! \n",
    "list = list([1,2,3,4])\n",
    "max = max(list)\n",
    "min = min(list)\n",
    "tuple = tuple(list)\n",
    "dict = dict([(\"max\", max), (\"min\", min)])\n",
    "# etc..."
   ]
  },
  {
   "cell_type": "markdown",
   "metadata": {},
   "source": [
    "#### 2.\tTabs\n",
    "Python funktioniert nur mit den richitgen Einrückungen. Wenn ihr Tabs benutzt und es dann mit einem anderen Editor geöffnet wird, stimmen die Einrückungen nicht evtl. nicht mehr. Ihr solltet alle in euren Editoren eingestellt haben, dass Tabs mit **4 Leerzeichen** ersetzt werden. Manchmal kommen durch cpy, paste oder öffnen in anderen Editoren trotzdem Tabs in den Code. Also bitte vor der Abgabe immer checken, ob überall auch Leerzeichen statt Tabs sind: Wie? Zum Beispiel diesen check ausführen:"
   ]
  },
  {
   "cell_type": "code",
   "execution_count": null,
   "metadata": {},
   "outputs": [],
   "source": [
    "with open(\"assignment_2.py\") as pyfile:\n",
    "    for n, line in enumerate(pyfile):\n",
    "        if \"\\t\" in line:\n",
    "            print(n+1, line.replace(\"\\t\", \"....\"), end=\"\")"
   ]
  },
  {
   "cell_type": "markdown",
   "metadata": {},
   "source": [
    "#### 3.\tZeilenlänge\n",
    "Nicht über 120 Zeichen gehen! Ihr könnt euch auch einen Ruler in eurem Editor anzeigen lassen und vor der Abgabe einmal drüber schaun, ob ihr zu lange Zeilen habt. Wenn es nur ein, zwei Zeilen sind und nicht so viele Zeichen mehr, dann könnt ihr das auch ignorieren. Dann sind die Zeilenumbrüche eher nerviger.\n",
    "Wichtig: Nur Enter drücken wird nicht funktionieren^^  \n",
    "WICHTIG! Immer vor dem Abgeben noch einmal testen ob es auch funktioniert und ausführbar ist!\n",
    "Hier sind Beispiele wie ihr es lösen könnt:"
   ]
  },
  {
   "cell_type": "code",
   "execution_count": null,
   "metadata": {},
   "outputs": [],
   "source": [
    "print(\"I have a really really really really\\\n",
    "really really really really really \" + \n",
    "\"really really really long text to print\")"
   ]
  },
  {
   "cell_type": "markdown",
   "metadata": {},
   "source": [
    "#### 4.\tUnerlaubte Imports\n",
    "Wer Imports verwendet hat, die nicht erlaubt waren, deren Funktionen waren natürlich nicht ausführbar, da wir davon ausgehen, dass die Tasks ohne diese Imports geschrieben wurden und zum testen keine extra Imports eingefügt haben."
   ]
  },
  {
   "cell_type": "markdown",
   "metadata": {},
   "source": [
    "## Falsche Dateinamen\n",
    "Wir würden die Programme gerne automatisiert testen, das geht natürlich nur, wenn sie auch genau so heißen und abgegeben werden, wie in der Angabe definiert. Es gab daher Abzug für:\n",
    "* **ungültige Filenamen** (auch Groß und Kleinschreibung beachten, underscores, Ziffern verdreht, verwechselt etc.) : -1 Punkt\n",
    "* **ungültige Ordner Namen** (das gleiche gil hier) : -1 Punkt\n",
    "* **extra Dateien** (oft ipynb Dateien) : -1 Punkt\n",
    "* den **Ordner gezipt** und nicht die Dateien gezipt (Die Dateien sollen in der ersten Ebene im ZIP- Ordner zu finden sein) : -0.5 Punkte\n",
    "* **falscher Readme Name** : -0.5 Punkte\n",
    "* **falscher Readme Typ** : -0.5 Punkte\n",
    "* **fehlende Kommentarheader** : -1 Punkt\n",
    "* **ungültige .py oder .zip Dateien**: Manche haben die Endungen der Dateien verändert, das macht nicht viel Sinn und die Datei dann unbrauchbar. Dadurch waren sie auch nicht ausführbar : -5 Punkte  \n",
    "\n",
    "Bitte bitte gebt die Programme genau so ab, wie in der Angabe definiert. Es ist super schade, da Punkte zu verlieren.  \n",
    "**WICHTIG:** Ungültige Filetypen führen zu **0 Punkten** bei den nächsten Abgaben."
   ]
  },
  {
   "cell_type": "markdown",
   "metadata": {},
   "source": [
    "## Negativ Beispiele aus den Programmen mit Feedback"
   ]
  },
  {
   "cell_type": "markdown",
   "metadata": {},
   "source": [
    "#### Ist euer Programm ausführbar?\n",
    "\n",
    "Schaut, dass ihr euer Programm unbedingt selbst genug testet. Denkt euch verschiedene Situationen aus, die beim benutzen des Programms auftreten könnten (Testcases). Funktionen müssen aufgerufen werden um sie richtig zu testen, da Python Compiler hat. Dieses Mal haben wir jede Funktion einzeln auf einen Absturz überprüft, bei Assignment 2 und 3 wird jedoch jedes Programm, welches **nicht ausführbar** ist, also zu einem Absturz führt, mit **0 Punkten** bewertet. (zB. \"SyntaxError\", \"IndentationError\", \"NameError\", \"IndexError\")\n",
    "\n",
    "Findet hier die Fehler:"
   ]
  },
  {
   "cell_type": "code",
   "execution_count": null,
   "metadata": {},
   "outputs": [],
   "source": [
    "def ifelse_2():\n",
    "    points=input(\"Please enter your points:\")   # man könnte schon hier auf integer casten, \n",
    "                                                # dann braucht man es später nicht immer wieder machen,\n",
    "                                                # ist aber ne Schönheitssache\n",
    "    if  0<= int(points) < 50: \n",
    "        \"grade\" == F # Die Variable F in einem String \"grade\" zu speichern wird schwierig\n",
    "    elif 50<= int(points) <60:\n",
    "        \"grade\" == E\n",
    "    elif 60<= int(points) <70:\n",
    "        \"grade\"== D\n",
    "    elif 70<= int(points) <80:\n",
    "        \"grade\"== C\n",
    "    elif 80<= int(points) <90:\n",
    "        \"grade\" == B\n",
    "    else:\n",
    "        \"grade\" == A\n",
    "    print(\"You got a\"+str(grade)+\"!\") # Die Variable grade wurde nie angelegt, ist daher nicht vorhanden\n",
    "    \n",
    "# Die Funktion wird aufgerufen und funktioniert auch bis zum ersten Input, dann kommt der Absturz.\n",
    "# testet also alle Möglichkeiten, der Funktion durch!\n",
    "ifelse_2()"
   ]
  },
  {
   "cell_type": "markdown",
   "metadata": {},
   "source": [
    "#### return und print() sind NICHT das Selbe!\n",
    "* Der Wert soll **ausgegeben** werden => print()\n",
    "* Der Wert soll **zurückgegeben** werden => return\n",
    "\n",
    "Bitte die zwei nicht verwechseln und auch nicht vermischen, wie im folgenden Beispiel der Fall ist:"
   ]
  },
  {
   "cell_type": "code",
   "execution_count": null,
   "metadata": {},
   "outputs": [],
   "source": [
    "def solve_quadratic(a, b, c):\n",
    "    result_1 = (-b + (b*b - 4*a*c)**0.5)/(2*a)\n",
    "    result_2 = (-b - (b*b - 4*a*c)**0.5)/(2*a)\n",
    "    return print((result_1, result_2)) # Hier wird der Rückgabewert der print() Funktion zurückgegeben also None\n",
    "result = solve_quadratic(1, 2, 3)\n",
    "print(result)"
   ]
  },
  {
   "cell_type": "code",
   "execution_count": null,
   "metadata": {},
   "outputs": [],
   "source": [
    "print(print(\"Das macht so keinen Sinn...\")) # Der Rückgabewert der print() Funktion ist None"
   ]
  },
  {
   "cell_type": "code",
   "execution_count": null,
   "metadata": {},
   "outputs": [],
   "source": [
    "# Diese Funktion gibt nur Ergebnisse aus, aber nichts zurück!\n",
    "def solve_quadratic(a, b, c):\n",
    "    if a!=0:\n",
    "        x1 = (-b+(b*b-4*a*c)**0.5)/(2*a)\n",
    "        x2 = (-b-(b*b-4*a*c)**0.5)/(2*a)\n",
    "        print((x1, x2))\n",
    "    if a == 0:\n",
    "        x1 = -c/b\n",
    "        x2 = x1\n",
    "        print(x1)\n",
    "result = solve_quadratic(1, 2, 3)\n",
    "print(result) # Es wir nichts zurückgegeben, daher erhalten wir None"
   ]
  },
  {
   "cell_type": "markdown",
   "metadata": {},
   "source": [
    "#### Datentypen\n",
    "Wenn ein bestimmter Datentyp gefordert ist, dann bitte auch genau den Wiedergeben:\n"
   ]
  },
  {
   "cell_type": "code",
   "execution_count": null,
   "metadata": {},
   "outputs": [],
   "source": [
    "# Hier sollte ein Tupel zurück gegeben werden, hier wird aber eine Liste zurück gegeben:\n",
    "def solve_quadratic(a,b,c):\n",
    "    x = []\n",
    "    x.append((-b+(b**2-4*a*c)**(1/2))/(2*a))\n",
    "    x.append((-b-(b**2-4*a*c)**(1/2))/(2*a))\n",
    "    return x # x ist eine Liste kein Tupel\n",
    "result = solve_quadratic(1, 2, 3)\n",
    "print(result)                               "
   ]
  },
  {
   "cell_type": "markdown",
   "metadata": {},
   "source": [
    "#### Dateien müssen auch geschlossen werden\n",
    "Wenn ihr einen File öffnet, dann bitte auch nach dem Benutzen schließen. Das wird oft vergessen. Am besten ihr öffnet die Dateien immer so, dann übernimmt Python den Rest und ihr müsst euch um Nichts mehr Sorgen machen:"
   ]
  },
  {
   "cell_type": "code",
   "execution_count": null,
   "metadata": {},
   "outputs": [],
   "source": [
    "with open('output.txt', 'w') as file:\n",
    "    file.write('Hi there!')"
   ]
  },
  {
   "cell_type": "markdown",
   "metadata": {},
   "source": [
    "#### Ausgaben\n",
    "Bitte **keine zusätzlichen Ausgaben** hinzufügen. Also printed immer genau das, was in der Angabe gefordert ist, nicht mehr nicht weniger! Bitte achtet auf Leerzeichen und genaue Wortwahl.  \n",
    "wenn steht: gebt \"Hi, my name is _name_ and I'm _age_ years old.\" aus, dann soll auch genau das da stehen.\n",
    "Folgende Beispiele sind falsch und führen zu Punkteabzug:"
   ]
  },
  {
   "cell_type": "code",
   "execution_count": null,
   "metadata": {},
   "outputs": [],
   "source": [
    "# So NICHT machen:\n",
    "# Please print \"File not found!\"\n",
    "name = \"Tim\"\n",
    "age = \"23\"\n",
    "\n",
    "print(f\"Hi, my name is {name} and I am {age} years old.\")\n",
    "print(f\"Hi, my name is {name} and I'm {age} years old\")\n",
    "print(f\"Hi, my name is {name} and I´m {age} years old.\") # akzent statt apostroph\n",
    "print(f\"Hello, my name is {name} and I'm {age} years old.\")\n",
    "print(f\"Hi, my name is {name} and I'am {age} years old.\")\n",
    "print(f\"Hi, my name is {name} and I'm {age} years old!\")\n",
    "print(f\"Hi my name is {name} and I'm {age} years old.\")\n",
    "print(f\"Hi, my name is  {name}  and I'm  {age}  years old.\")\n",
    "print(f\"Hi, my name is{name}and I'm{age}years old.\")\n",
    "# All diese Ausgaben sehen ähnlich aus, sind aber unterschiedlich\n",
    "# Wenn wir genau auf den geforderten String überprüfen, dann schlagen alle Testcases fehl\n",
    "# Wir können auch nicht erahnen wie ihr eure Ausgaben evtl genannt habt...\n",
    "print()\n",
    "# so, und nur so ists RICHTIG:\n",
    "print(f\"Hi, my name is {name} and I'm {age} years old.\")\n"
   ]
  },
  {
   "cell_type": "markdown",
   "metadata": {},
   "source": [
    "#### Vorgegebene Namen einhalten\n",
    "**WICHTIG!** Vorgegebene Namen bitte genau so übernehmen, wie sie in der Angabe sind! Bei Assignment 2 trifft dies insbesondere die Kommandozeilen Parameter."
   ]
  }
 ],
 "metadata": {
  "kernelspec": {
   "display_name": "Python 3",
   "language": "python",
   "name": "python3"
  },
  "language_info": {
   "codemirror_mode": {
    "name": "ipython",
    "version": 3
   },
   "file_extension": ".py",
   "mimetype": "text/x-python",
   "name": "python",
   "nbconvert_exporter": "python",
   "pygments_lexer": "ipython3",
   "version": "3.6.7"
  }
 },
 "nbformat": 4,
 "nbformat_minor": 2
}
