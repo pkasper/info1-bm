{
 "cells": [
  {
   "cell_type": "markdown",
   "metadata": {},
   "source": [
    "# Matplotlib"
   ]
  },
  {
   "cell_type": "markdown",
   "metadata": {},
   "source": [
    "## Setup for Notebooks"
   ]
  },
  {
   "cell_type": "code",
   "execution_count": null,
   "metadata": {},
   "outputs": [],
   "source": [
    "%matplotlib inline"
   ]
  },
  {
   "cell_type": "code",
   "execution_count": null,
   "metadata": {},
   "outputs": [],
   "source": [
    "# We will just use that a lot in general\n",
    "import numpy as np"
   ]
  },
  {
   "cell_type": "markdown",
   "metadata": {},
   "source": [
    "## My First Plot"
   ]
  },
  {
   "cell_type": "code",
   "execution_count": null,
   "metadata": {},
   "outputs": [],
   "source": [
    "from matplotlib import pyplot as plt\n",
    "\n",
    "plt.plot([0, 1, 3, 5, 17, 17, 25, 35])\n",
    "# plt.show() # Not needed in notebooks"
   ]
  },
  {
   "cell_type": "markdown",
   "metadata": {},
   "source": [
    "### Clean Version"
   ]
  },
  {
   "cell_type": "code",
   "execution_count": null,
   "metadata": {},
   "outputs": [],
   "source": [
    "from matplotlib import pyplot as plt\n",
    "\n",
    "figure, axis = plt.subplots()\n",
    "ys = [0, 1, 3, 5, 17, 17, 25, 35]\n",
    "xs = np.arange(len(ys))\n",
    "axis.plot(xs, ys)\n",
    "\n",
    "# axis.show() # Not needed in notebooks"
   ]
  },
  {
   "cell_type": "markdown",
   "metadata": {},
   "source": [
    "## Adding Labels"
   ]
  },
  {
   "cell_type": "code",
   "execution_count": null,
   "metadata": {},
   "outputs": [],
   "source": [
    "from matplotlib import pyplot as plt\n",
    "\n",
    "figure, axis = plt.subplots()\n",
    "ys = [0, 1, 3, 5, 17, 17, 25, 35]\n",
    "xs = np.arange(len(ys))\n",
    "axis.plot(xs, ys)\n",
    "axis.set_xlabel(\"Training Epoch\")\n",
    "axis.set_ylabel(\"Classification Rate\")"
   ]
  },
  {
   "cell_type": "markdown",
   "metadata": {},
   "source": [
    "## Adding Markers"
   ]
  },
  {
   "cell_type": "code",
   "execution_count": null,
   "metadata": {},
   "outputs": [],
   "source": [
    "from matplotlib import pyplot as plt\n",
    "\n",
    "figure, axis = plt.subplots()\n",
    "ys = [0, 1, 3, 5, 17, 17, 25, 35]\n",
    "xs = np.arange(len(ys))\n",
    "axis.plot(xs, ys, \n",
    "          marker=\"x\", \n",
    "          markersize=10, \n",
    "          markeredgecolor=\"red\")\n",
    "axis.set_xlabel(\"Training Epoch\")\n",
    "axis.set_ylabel(\"Classification Rate\")"
   ]
  },
  {
   "cell_type": "markdown",
   "metadata": {},
   "source": [
    "## Adding a Legend"
   ]
  },
  {
   "cell_type": "code",
   "execution_count": null,
   "metadata": {},
   "outputs": [],
   "source": [
    "from matplotlib import pyplot as plt\n",
    "\n",
    "figure, axis = plt.subplots()\n",
    "ys = [0, 1, 3, 5, 17, 17, 25, 35]\n",
    "xs = np.arange(len(ys))\n",
    "axis.plot(xs, ys, \n",
    "          marker=\"x\", \n",
    "          markersize=10, \n",
    "          markeredgecolor=\"red\",\n",
    "          label=\"Neural Network\")\n",
    "axis.set_xlabel(\"Training Epoch\")\n",
    "axis.set_ylabel(\"Classification Rate\")\n",
    "axis.legend()"
   ]
  },
  {
   "cell_type": "markdown",
   "metadata": {},
   "source": [
    "## Adding an Annotation"
   ]
  },
  {
   "cell_type": "code",
   "execution_count": null,
   "metadata": {},
   "outputs": [],
   "source": [
    "\n",
    "from matplotlib import pyplot as plt\n",
    "\n",
    "figure, axis = plt.subplots()\n",
    "ys = [0, 1, 3, 5, 17, 17, 25, 35]\n",
    "xs = np.arange(len(ys))\n",
    "axis.plot(xs, ys, \n",
    "          marker=\"x\", \n",
    "          markersize=10, \n",
    "          markeredgecolor=\"red\",\n",
    "          label=\"Neural Network\")\n",
    "axis.annotate('WTF?!?', \n",
    "              xy=(4.5, 16), \n",
    "              xytext=(5.5, 5), \n",
    "              arrowprops=dict(facecolor='black', \n",
    "                              shrink=0.05), \n",
    "              fontsize=20 )\n",
    "axis.set_xlabel(\"Training Epoch\")\n",
    "axis.set_ylabel(\"Classification Rate\")\n",
    "axis.legend()"
   ]
  },
  {
   "cell_type": "markdown",
   "metadata": {},
   "source": [
    "## Multiple Lines"
   ]
  },
  {
   "cell_type": "code",
   "execution_count": null,
   "metadata": {},
   "outputs": [],
   "source": [
    "from matplotlib import pyplot as plt\n",
    "\n",
    "figure, axis = plt.subplots()\n",
    "ys = [0, 1, 3, 5, 17, 17, 25, 35]\n",
    "xs = np.arange(len(ys))\n",
    "axis.plot(xs, ys, \n",
    "          marker=\"x\", \n",
    "          markersize=10, \n",
    "          markeredgecolor=\"red\",\n",
    "          label=\"Neural Network\")\n",
    "\n",
    "axis.plot(xs, [0, 0, 1, 1, 2, 3, 5, 9], \n",
    "          marker=\"o\", \n",
    "          markersize=10, \n",
    "          markeredgecolor=\"green\",\n",
    "          label=\"Boosted Decision Tree\")\n",
    "axis.set_xlabel(\"Training Epoch\")\n",
    "axis.set_ylabel(\"Classification Rate\")\n",
    "axis.legend()"
   ]
  },
  {
   "cell_type": "markdown",
   "metadata": {},
   "source": [
    "## Saving Plots"
   ]
  },
  {
   "cell_type": "code",
   "execution_count": null,
   "metadata": {},
   "outputs": [],
   "source": [
    "from matplotlib import pyplot as plt\n",
    "\n",
    "figure, axis = plt.subplots()\n",
    "ys = [0, 1, 3, 5, 17, 17, 25, 35]\n",
    "xs = np.arange(len(ys))\n",
    "axis.plot(xs, ys, \n",
    "          marker=\"x\", \n",
    "          markersize=10, \n",
    "          markeredgecolor=\"red\",\n",
    "          label=\"Neural Network\")\n",
    "\n",
    "axis.plot(xs, [0, 0, 1, 1, 2, 3, 5, 9], \n",
    "          marker=\"o\", \n",
    "          markersize=10, \n",
    "          markeredgecolor=\"green\",\n",
    "          label=\"Boosted Decision Tree\")\n",
    "axis.set_xlabel(\"Training Epoch\")\n",
    "axis.set_ylabel(\"Classification Rate\")\n",
    "axis.legend()\n",
    "figure.savefig(\"rate_over_epochs.png\", \n",
    "               transparent=True, \n",
    "               bbox_inches=\"tight\")\n",
    "figure.savefig(\"rate_over_epochs.pdf\", \n",
    "               transparent=True, \n",
    "               bbox_inches=\"tight\")"
   ]
  },
  {
   "cell_type": "markdown",
   "metadata": {},
   "source": [
    "## Other Plot Types"
   ]
  },
  {
   "cell_type": "code",
   "execution_count": 2,
   "metadata": {},
   "outputs": [
    {
     "ename": "ModuleNotFoundError",
     "evalue": "No module named 'bokeh'",
     "output_type": "error",
     "traceback": [
      "\u001b[1;31m---------------------------------------------------------------------------\u001b[0m",
      "\u001b[1;31mModuleNotFoundError\u001b[0m                       Traceback (most recent call last)",
      "\u001b[1;32m<ipython-input-2-a9cf28213031>\u001b[0m in \u001b[0;36m<module>\u001b[1;34m\u001b[0m\n\u001b[1;32m----> 1\u001b[1;33m \u001b[1;32mfrom\u001b[0m \u001b[0mbokeh\u001b[0m\u001b[1;33m.\u001b[0m\u001b[0msampledata\u001b[0m\u001b[1;33m.\u001b[0m\u001b[0mautompg\u001b[0m \u001b[1;32mimport\u001b[0m \u001b[0mautompg\u001b[0m \u001b[1;32mas\u001b[0m \u001b[0mcar_data\u001b[0m\u001b[1;33m\u001b[0m\u001b[0m\n\u001b[0m",
      "\u001b[1;31mModuleNotFoundError\u001b[0m: No module named 'bokeh'"
     ]
    }
   ],
   "source": [
    "from bokeh.sampledata.autompg import autompg as car_data"
   ]
  },
  {
   "cell_type": "markdown",
   "metadata": {},
   "source": [
    "### Histogram"
   ]
  },
  {
   "cell_type": "code",
   "execution_count": null,
   "metadata": {},
   "outputs": [],
   "source": [
    "mpgs = list(car_data['mpg'])\n",
    "figure, axis = plt.subplots()\n",
    "_ = axis.hist(mpgs, edgecolor=\"black\")\n",
    "axis.set_xlabel(\"Miles Per Gallon\")\n",
    "axis.set_ylabel(\"$\\#$ Cars\")\n",
    "figure.savefig(\"histogram.pdf\", transparent=True, bbox_inches=\"tight\")"
   ]
  },
  {
   "cell_type": "markdown",
   "metadata": {},
   "source": [
    "### Bar Chart"
   ]
  },
  {
   "cell_type": "code",
   "execution_count": null,
   "metadata": {},
   "outputs": [],
   "source": [
    "mpgs = list(car_data['mpg'])[0:10]\n",
    "hp = list(car_data['hp'])[0:10]\n",
    "names = list(car_data['name'])[0:10]\n",
    "indices = np.arange(len(mpgs))\n",
    "figure, axis = plt.subplots()\n",
    "bar_width = 0.3\n",
    "axis.bar(indices, mpgs, bar_width)\n",
    "axis.bar(indices + bar_width, hp, bar_width)\n",
    "axis.set_xticks(indices + bar_width / 2)\n",
    "axis.set_xticklabels(labels=names, rotation=\"vertical\")\n",
    "figure.tight_layout()\n",
    "axis.get_xticklabels()"
   ]
  },
  {
   "cell_type": "markdown",
   "metadata": {},
   "source": [
    "### Scatter"
   ]
  },
  {
   "cell_type": "code",
   "execution_count": null,
   "metadata": {},
   "outputs": [],
   "source": [
    "mpgs = list(car_data['mpg'])\n",
    "weights = list(car_data['weight'])\n",
    "figure, axis = plt.subplots()\n",
    "_ = axis.scatter(mpgs, weights)\n",
    "axis.set_xlabel(\"MPG\")\n",
    "axis.set_ylabel(\"Weight\")\n",
    "figure.tight_layout()"
   ]
  },
  {
   "cell_type": "markdown",
   "metadata": {},
   "source": [
    "## Subplots"
   ]
  },
  {
   "cell_type": "code",
   "execution_count": null,
   "metadata": {},
   "outputs": [],
   "source": [
    "figure, axes = plt.subplots((2), \n",
    "                            sharex=True)\n",
    "axes[0].hist(mpgs, edgecolor=\"black\")\n",
    "axes[0].set_ylabel(\"$\\#$ Cars\")\n",
    "\n",
    "axes[1].scatter(mpgs, weights)\n",
    "axes[1].set_xlabel(\"Miles Per Gallon\")\n",
    "axes[1].set_ylabel(\"Weight\")\n",
    "figure.tight_layout()"
   ]
  },
  {
   "cell_type": "code",
   "execution_count": null,
   "metadata": {},
   "outputs": [],
   "source": [
    "figure, axes = plt.subplots((2), \n",
    "                            sharex=True)\n",
    "axes[0].hist(mpgs, edgecolor=\"black\")\n",
    "axes[0].set_ylabel(\"$\\#$ Cars\")\n",
    "\n",
    "axes[1].scatter(mpgs, weights)\n",
    "axes[1].set_xlabel(\"Miles Per Gallon\")\n",
    "axes[1].set_ylabel(\"Weight\")\n",
    "figure.tight_layout()\n",
    "figure.subplots_adjust(hspace=0)"
   ]
  },
  {
   "cell_type": "markdown",
   "metadata": {},
   "source": [
    "# Examples for exercise interview"
   ]
  },
  {
   "cell_type": "markdown",
   "metadata": {},
   "source": [
    "Schreibe eine Funktion list_to_dict, die eine Liste als Parameter bekommt und diese in ein Dictionary umwandelt und zurückgibt, wobei das n.te Element der Key ist und das n+1.te Element das value. \n",
    "Beispiel: [1,2,3,4,] -> {1:2,3:4}"
   ]
  },
  {
   "cell_type": "code",
   "execution_count": null,
   "metadata": {},
   "outputs": [],
   "source": []
  },
  {
   "cell_type": "markdown",
   "metadata": {},
   "source": [
    "Schreibe eine Funktion sum_and_square die eine Liste als Parameter bekommt und jedes zweite Element dieser Liste addiert und die Wurzel aus dieser Summer zurückgibt."
   ]
  },
  {
   "cell_type": "code",
   "execution_count": null,
   "metadata": {},
   "outputs": [],
   "source": []
  },
  {
   "cell_type": "markdown",
   "metadata": {},
   "source": [
    "Schreibe eine Funktion string_finder, die einen String als Parameter bekommt und alle „a“ in  diesem String zählt. Anschließend gib die Anzahl zurück"
   ]
  },
  {
   "cell_type": "code",
   "execution_count": null,
   "metadata": {},
   "outputs": [],
   "source": []
  }
 ],
 "metadata": {
  "kernelspec": {
   "display_name": "Python 3",
   "language": "python",
   "name": "python3"
  },
  "language_info": {
   "codemirror_mode": {
    "name": "ipython",
    "version": 3
   },
   "file_extension": ".py",
   "mimetype": "text/x-python",
   "name": "python",
   "nbconvert_exporter": "python",
   "pygments_lexer": "ipython3",
   "version": "3.7.1"
  }
 },
 "nbformat": 4,
 "nbformat_minor": 2
}
