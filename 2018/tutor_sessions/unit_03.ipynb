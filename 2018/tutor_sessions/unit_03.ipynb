{
 "cells": [
  {
   "cell_type": "markdown",
   "metadata": {},
   "source": [
    "# Informatik 1 - Biomedical Engineering\n",
    "## Tutor Session 3 -  Datatypes and Errors"
   ]
  },
  {
   "cell_type": "markdown",
   "metadata": {},
   "source": [
    "## Overview\n",
    "<ul>\n",
    "<li>Dictionaries</li>\n",
    "<li>Sets</li>\n",
    "<li>Tuples</li>\n",
    "<li>Errors</li>\n",
    "\n",
    "\n",
    "</ul>"
   ]
  },
  {
   "cell_type": "markdown",
   "metadata": {},
   "source": [
    "## What are data structures?\n",
    "<ul>\n",
    "<li>Containers for data</li>\n",
    "<li>Store information in certain forms</li>\n",
    "<li>Access and manipulate stored data</li>"
   ]
  },
  {
   "cell_type": "markdown",
   "metadata": {},
   "source": [
    "## Python tuples\n",
    "<ul>\n",
    "<li>Immutable sequence type (iterable, but you cannot change single elements) -item assignment not supported\n",
    "</li>\n",
    "<li>cannot contain mutable objects (like lists)\n",
    "</li>\n",
    "\n",
    "Examples:"
   ]
  },
  {
   "cell_type": "code",
   "execution_count": null,
   "metadata": {},
   "outputs": [],
   "source": [
    "#Declaring tuples\n",
    "newspapers = 'Die_Presse', 'Der_Standard', 'FAZ'\n",
    "some_words_and_numbers = ('hi', 'bye', 15)  # Preferred\n",
    "\n",
    "#Special tuples\n",
    "one_element_tuple = ('singleton', )\n",
    "empty_tuple = ()\n",
    "\n",
    "#newspapers[2] = 'Die_Zeit'    <- Not a valid action for tuples!"
   ]
  },
  {
   "cell_type": "code",
   "execution_count": null,
   "metadata": {},
   "outputs": [],
   "source": [
    "print(newspapers[2])"
   ]
  },
  {
   "cell_type": "code",
   "execution_count": null,
   "metadata": {},
   "outputs": [],
   "source": [
    "#Value unpacking / multiple assingment\n",
    "np1, np2, np3 = newspapers\n",
    "print(np1, np2, np3)"
   ]
  },
  {
   "cell_type": "markdown",
   "metadata": {},
   "source": [
    "## Python sets\n",
    "<ul>\n",
    "<li>Mathematical sets </li>\n",
    "<li>Unordered collection with no duplicate elements</li>\n",
    "<li>Support mathematical operations, e.g. union, intersect, difference</li>\n",
    "<li>Sets with complex elements (lists, etc.): modification/extension necessary (not easy!)</li>\n",
    "<li>Elements have to be uniqe and easily comparable (hashable)</li>\n"
   ]
  },
  {
   "cell_type": "code",
   "execution_count": null,
   "metadata": {},
   "outputs": [],
   "source": [
    "#Declaring a set implicitly: curly brackets {}\n",
    "backpack = {'notebook', 'phone', 'key', 'gum', 'pen'}\n",
    "\n",
    "print(backpack)"
   ]
  },
  {
   "cell_type": "code",
   "execution_count": null,
   "metadata": {},
   "outputs": [],
   "source": [
    "#Declaring with funktion set()\n",
    "other_bag = set(['key', 'sandwitch', 'bottle'])\n",
    "one_element_set = set('singleton')\n",
    "\n",
    "#Empty set - explicit declaration: set(), not{}!\n",
    "empty_set = set()\n",
    "\n",
    "#Set with mixed elements\n",
    "my_set = {1,2,3,3,5,6,4,3,3,3,'hallo'}\n",
    "print(my_set)\n",
    "\n",
    "#test_set = {1,2,3,[1,2,3]} <- can't compare int and list (unhashable)"
   ]
  },
  {
   "cell_type": "markdown",
   "metadata": {},
   "source": [
    "## Set: methods"
   ]
  },
  {
   "cell_type": "code",
   "execution_count": null,
   "metadata": {},
   "outputs": [],
   "source": [
    "backpack = {'notebook', 'phone', 'key', 'gum'}\n",
    "other_bag = {'key', 'sandwitch', 'bottle', 'phone'}\n",
    "bag = {'phone', 'gum'}\n",
    "\n",
    "print(\"Intersection (AND): \", backpack & other_bag)          #Items in both bags\n",
    "print(\"Union (OR): \", backpack | other_bag)                  #Combine both bags\n",
    "print(\"Symmetric Difference (XOR): \", backpack ^ other_bag)  #Items in only one of the bags\n",
    "print(\"Difference: \", backpack - other_bag)                  #Items in the first, but not the second bag"
   ]
  },
  {
   "cell_type": "markdown",
   "metadata": {},
   "source": [
    "## Python dictionaries¶\n",
    "<li>Aka hash map, associative array</li>\n",
    "<li>Collection of key: value pairs</li>\n",
    "<li>Dictionary is indexed by keys, not numbers</li>\n",
    "<li>Keys</li>\n",
    "<li>...must be unique and of an immutable data type</li>\n",
    "<li>...can be strings or numbers (must be hashable)</li>\n",
    "<li>...are a set: sorted by hash values, do not stick to user-defined item order</li>"
   ]
  },
  {
   "cell_type": "code",
   "execution_count": null,
   "metadata": {},
   "outputs": [],
   "source": [
    "# Declaring a dictionary\n",
    "contact_info = {'name': 'someone', 'phone': 12345, 'city': 'Graz'}"
   ]
  },
  {
   "cell_type": "code",
   "execution_count": null,
   "metadata": {},
   "outputs": [],
   "source": [
    "print(\"Dictionary keys:\", contact_info.keys())\n",
    "print(\"Dictionary values:\", contact_info.values())\n",
    "print(\"Dictionary Items:\", contact_info.items())"
   ]
  },
  {
   "cell_type": "code",
   "execution_count": null,
   "metadata": {},
   "outputs": [],
   "source": [
    "#Working with dictionaries\n",
    "contact_info['phone'] = 98765  #Changing values using a key\n",
    "\n",
    "for key, value in contact_info.items():\n",
    "    print(key, value)"
   ]
  },
  {
   "cell_type": "code",
   "execution_count": null,
   "metadata": {},
   "outputs": [],
   "source": [
    "contact_info['mail'] = \"something@tugraz.at\"\n",
    "print(contact_info)"
   ]
  },
  {
   "cell_type": "code",
   "execution_count": null,
   "metadata": {},
   "outputs": [],
   "source": [
    "additional_data = {\"country\": \"Austria\", \"street\": \"Inffeldgasse\"}\n",
    "contact_info.update(additional_data)\n",
    "print(contact_info)"
   ]
  },
  {
   "cell_type": "code",
   "execution_count": null,
   "metadata": {},
   "outputs": [],
   "source": [
    "print(\"name\" in contact_info)\n",
    "print(\"test\" in contact_info)"
   ]
  },
  {
   "cell_type": "code",
   "execution_count": null,
   "metadata": {},
   "outputs": [],
   "source": [
    "contact_info[\"wrong_key\"]"
   ]
  },
  {
   "cell_type": "code",
   "execution_count": null,
   "metadata": {},
   "outputs": [],
   "source": [
    "del contact_info[\"mail\"]\n",
    "print(contact_info)"
   ]
  },
  {
   "cell_type": "markdown",
   "metadata": {},
   "source": [
    "## Combination of data structures\n",
    "<li>List of lists (matrix)</li>\n",
    "<li>Tuple of lists</li>\n",
    "<li>Dictionary with list as values</li>\n",
    "<li>A dictionary within a dictionary</li>\n",
    "<li>and so on</li>"
   ]
  },
  {
   "cell_type": "code",
   "execution_count": null,
   "metadata": {},
   "outputs": [],
   "source": [
    "#Simple matrix = list of lists\n",
    "my_map = []\n",
    "for x in range(3):\n",
    "    for y in range(3):\n",
    "        coordinates = [x,y]\n",
    "        my_map.append(coordinates)\n",
    "\n",
    "for coordinates in my_map:\n",
    "    print(coordinates)"
   ]
  },
  {
   "cell_type": "code",
   "execution_count": null,
   "metadata": {},
   "outputs": [],
   "source": [
    "#Declaring a list with dictionaries as elements\n",
    "list_of_grades = [\n",
    "    {'name': 'Musterman', 'grade': 4},\n",
    "    {'name': 'Musterfrau', 'grade': 1}\n",
    "]\n",
    "\n",
    "print(list_of_grades[0]['name'])"
   ]
  },
  {
   "cell_type": "code",
   "execution_count": null,
   "metadata": {},
   "outputs": [],
   "source": [
    "#Declaring two combined dictionaries\n",
    "children = {'son': 15, 'daughter': 18}\n",
    "cars = {'label': 'volvo', 'power': '120ps'}\n",
    "parents = {'mother': children, 'father': cars}\n",
    "\n",
    "print(parents['mother']['son'])\n",
    "print(parents['father']['power'])"
   ]
  },
  {
   "cell_type": "markdown",
   "metadata": {},
   "source": [
    "## Finding Errors"
   ]
  },
  {
   "cell_type": "code",
   "execution_count": 6,
   "metadata": {},
   "outputs": [
    {
     "ename": "SyntaxError",
     "evalue": "invalid syntax (<ipython-input-6-47b4cd541e40>, line 15)",
     "output_type": "error",
     "traceback": [
      "\u001b[0;36m  File \u001b[0;32m\"<ipython-input-6-47b4cd541e40>\"\u001b[0;36m, line \u001b[0;32m15\u001b[0m\n\u001b[0;31m    if guessed_number = random_number:\u001b[0m\n\u001b[0m                      ^\u001b[0m\n\u001b[0;31mSyntaxError\u001b[0m\u001b[0;31m:\u001b[0m invalid syntax\n"
     ]
    }
   ],
   "source": [
    "from random import randit\n",
    "\n",
    "def guessing():\n",
    "    guessed_number = input()\n",
    "     \n",
    "    \n",
    "if __name__ == \"__main__\":\n",
    "    main()\n",
    "    \n",
    "def main():\n",
    "    random_number = randint(100)\n",
    "    for i in range(5):\n",
    "        guessed_number = guessing\n",
    "        guesses.append(guessed_number)\n",
    "        if guessed_number = random_number:\n",
    "            print(\"Congratulation you found the\n",
    "                                  mysterious number!\")\n",
    "            break\n",
    "        elif guessed_number < random_number:\n",
    "            print(\"The mysterious number is higher than\" guessed_number)\n",
    "        elif guessed_number > random_number:\n",
    "            print(\"Try a lower number)\n",
    "        else:\n",
    "    \n",
    "    print(\"Your final guess was\", guesses[len(guesses)])"
   ]
  },
  {
   "cell_type": "markdown",
   "metadata": {},
   "source": [
    "## Example Program¶\n",
    "Create a tic tac toe game.\n",
    "\n",
    "<li>Create a matrix with 3 columns and rows</li>\n",
    "<li>Fill matrix with '_'</li>\n",
    "<li>Fill the matrix with 3 'X' or 'O' (horizontally or vertically) to win</li>"
   ]
  },
  {
   "cell_type": "code",
   "execution_count": null,
   "metadata": {
    "collapsed": true
   },
   "outputs": [],
   "source": []
  }
 ],
 "metadata": {
  "kernelspec": {
   "display_name": "Python 3",
   "language": "python",
   "name": "python3"
  },
  "language_info": {
   "codemirror_mode": {
    "name": "ipython",
    "version": 3
   },
   "file_extension": ".py",
   "mimetype": "text/x-python",
   "name": "python",
   "nbconvert_exporter": "python",
   "pygments_lexer": "ipython3",
   "version": "3.7.1"
  }
 },
 "nbformat": 4,
 "nbformat_minor": 2
}
