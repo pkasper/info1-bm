{
 "cells": [
  {
   "cell_type": "markdown",
   "metadata": {},
   "source": [
    "## Informatik 1 - Biomedical Engineering\n",
    "## Tutor Session 4 -  Error Handling and Assignment 2 "
   ]
  },
  {
   "cell_type": "markdown",
   "metadata": {},
   "source": [
    "## Exceptions\n",
    "<ul>\n",
    "<li>Can be used to present warnings or error messages to the user</li>\n",
    "<li>Can be as specific as the programmer wants it to be</li>\n",
    "<li>Examples: ValueError, TypeError, NameError, etc.</li>\n",
    "\n",
    "\n",
    "</ul>"
   ]
  },
  {
   "cell_type": "code",
   "execution_count": null,
   "metadata": {},
   "outputs": [],
   "source": [
    "#Raising generic exception\n",
    "\n",
    "raise Exception(\"This is your first exception!\")"
   ]
  },
  {
   "cell_type": "code",
   "execution_count": null,
   "metadata": {},
   "outputs": [],
   "source": [
    "def exceptionFunction():\n",
    "    list_strings = [\"hat\", \"car\", \"sky\", 3, \"motorcycle\"]\n",
    "\n",
    "    for item in list_strings:\n",
    "        if type(item) == str:\n",
    "            continue\n",
    "        else:\n",
    "            raise TypeError(\"Element in list is not a string!\")\n",
    "    print(\"You have skipped the error!\")\n",
    "    \n",
    "exceptionFunction()"
   ]
  },
  {
   "cell_type": "code",
   "execution_count": null,
   "metadata": {},
   "outputs": [],
   "source": [
    "#Tries to run the program but if the error is present continues \n",
    "\n",
    "try:\n",
    "    exceptionFunction()\n",
    "except TypeError as error:\n",
    "    print(\"Success!\")"
   ]
  },
  {
   "cell_type": "code",
   "execution_count": null,
   "metadata": {},
   "outputs": [],
   "source": [
    "#Works even if specific error is not given\n",
    "\n",
    "try:\n",
    "    exceptionFunction()\n",
    "except:\n",
    "    print(\"Success!\")"
   ]
  },
  {
   "cell_type": "code",
   "execution_count": null,
   "metadata": {},
   "outputs": [],
   "source": [
    "while True:\n",
    "    try:\n",
    "        x = int(input(\"Please enter your age: \"))\n",
    "        \n",
    "        break\n",
    "    except ValueError:\n",
    "        print(\"Oops!  That was no valid number.  Try again...\")"
   ]
  },
  {
   "cell_type": "code",
   "execution_count": null,
   "metadata": {},
   "outputs": [],
   "source": [
    "try:\n",
    "    raise NameError('Hello there!')\n",
    "except NameError:\n",
    "    print('An exception flew by!')\n",
    "    raise"
   ]
  },
  {
   "cell_type": "code",
   "execution_count": null,
   "metadata": {},
   "outputs": [],
   "source": [
    "def divide(x, y):\n",
    "    try:\n",
    "        result = x / y\n",
    "    except ZeroDivisionError as e:\n",
    "        print(type(e))    # the exception instance\n",
    "        print(e)\n",
    "    else:\n",
    "        print(\"result is\", result)\n",
    "    finally:\n",
    "        print(\"executing finally clause\")\n"
   ]
  },
  {
   "cell_type": "code",
   "execution_count": null,
   "metadata": {},
   "outputs": [],
   "source": [
    "divide(2, 1)"
   ]
  },
  {
   "cell_type": "code",
   "execution_count": null,
   "metadata": {},
   "outputs": [],
   "source": [
    "divide(2, 0)"
   ]
  },
  {
   "cell_type": "code",
   "execution_count": null,
   "metadata": {},
   "outputs": [],
   "source": [
    "divide(\"2\", \"1\")"
   ]
  },
  {
   "cell_type": "code",
   "execution_count": null,
   "metadata": {},
   "outputs": [],
   "source": [
    "name_list = [\"Max\", \"Alex\", \"John\", \"Michael\"]\n",
    "age_list = [10, 20, 30, 14, 15]\n",
    "assert len(name_list) == len(age_list)"
   ]
  },
  {
   "cell_type": "markdown",
   "metadata": {},
   "source": [
    "## Assignment 2\n",
    "<ul>\n",
    "<li>Restrictions</li>\n",
    "<li>Coding Standard</li>\n",
    "<li>File Header</li>\n",
    "<li>File Submission</li>\n",
    "\n",
    "\n",
    "\n",
    "</ul>"
   ]
  },
  {
   "cell_type": "markdown",
   "metadata": {},
   "source": [
    "## Restrictions\n",
    "<ul>\n",
    "<li>Only import allowed packages: argparse, copy, os, sys, numpy</li>\n",
    "<li>Do not add any bloat to your submissions</li>\n",
    "<li>Do not turn in a corrupt or empty file</li>\n",
    "\n",
    "</ul>"
   ]
  },
  {
   "cell_type": "markdown",
   "metadata": {},
   "source": [
    "## Coding Standard\n",
    "<ul>\n",
    "<li>Programming Language: English</li>\n",
    "<li>Use four spaces instead of tabs!</li>\n",
    "<li>Descriptive names for functions and variables</li>\n",
    "<li>120 character line limit</li>\n",
    "\n",
    "\n",
    "\n",
    "</ul>"
   ]
  },
  {
   "cell_type": "markdown",
   "metadata": {},
   "source": [
    "## File Submission\n",
    "<ul>\n",
    "<li>Deadline: December 4th at 23:59:59</li>\n",
    "<li>assignment_2.zip (or assignment_2.tar.gz):</li>\n",
    "    <li>assignment_2.py</li>\n",
    "    <li>readme.txt</li>\n",
    "\n",
    "</ul>"
   ]
  },
  {
   "cell_type": "markdown",
   "metadata": {},
   "source": [
    "## Any questions?\n"
   ]
  },
  {
   "cell_type": "code",
   "execution_count": null,
   "metadata": {},
   "outputs": [],
   "source": []
  }
 ],
 "metadata": {
  "kernelspec": {
   "display_name": "Python 3",
   "language": "python",
   "name": "python3"
  },
  "language_info": {
   "codemirror_mode": {
    "name": "ipython",
    "version": 3
   },
   "file_extension": ".py",
   "mimetype": "text/x-python",
   "name": "python",
   "nbconvert_exporter": "python",
   "pygments_lexer": "ipython3",
   "version": "3.6.4"
  }
 },
 "nbformat": 4,
 "nbformat_minor": 1
}
