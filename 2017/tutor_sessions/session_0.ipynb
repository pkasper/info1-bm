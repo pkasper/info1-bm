{
 "cells": [
  {
   "cell_type": "markdown",
   "metadata": {},
   "source": [
    "# Informatik 1 - Biomedical Engineering\n",
    "## Tutor Session 0 -  Setup / anaconda / packages / jupyter"
   ]
  },
  {
   "cell_type": "markdown",
   "metadata": {},
   "source": [
    "<center><img src=\"https://raw.githubusercontent.com/pkasper/info1-bm/master/2017/tutor_sessions/assets/logo_python.png\"></center>"
   ]
  },
  {
   "cell_type": "markdown",
   "metadata": {},
   "source": [
    "## 1) Installing python on your system"
   ]
  },
  {
   "cell_type": "markdown",
   "metadata": {},
   "source": [
    "Plain Python: https://www.python.org/downloads/\n",
    "\n",
    "For this course: https://www.anaconda.com/download/\n",
    "(Select the default Python 3.6 version 64 bit version)"
   ]
  },
  {
   "cell_type": "markdown",
   "metadata": {},
   "source": [
    "<center><img src=\"https://raw.githubusercontent.com/pkasper/info1-bm/master/2017/tutor_sessions/assets/logo_anaconda.png\"></center>\n",
    "### 1.1) What is Anaconda?"
   ]
  },
  {
   "cell_type": "markdown",
   "metadata": {},
   "source": [
    "Anaconda is a complete suite for Python development in the scientific domain. And it takes care of the setup for you...\n",
    "\n",
    "It contains:\n",
    "<ul>\n",
    "<li>The interpreter</li>\n",
    "<li>A large number of useful packages</li>\n",
    "<li>A command line interface. (Anaconda prompt/anaconda command prompt)</li>\n",
    "<li>Anaconda Navigator (launching can take a bit)</li>\n",
    "<ul>\n",
    "<li>A package manager</li>\n",
    "<li>The Spyder IDE</li>\n",
    "<li>jupyter notebooks</li>\n",
    "<li>Extensive learning ressources</li>\n",
    "</ul>\n",
    "</ul>"
   ]
  },
  {
   "cell_type": "markdown",
   "metadata": {},
   "source": [
    "<center><img src=\"https://raw.githubusercontent.com/pkasper/info1-bm/master/2017/tutor_sessions/assets/jupyter.png\"></center>"
   ]
  },
  {
   "cell_type": "markdown",
   "metadata": {},
   "source": [
    "### 1.2) Environment Variables (if not set automatically)"
   ]
  },
  {
   "cell_type": "markdown",
   "metadata": {},
   "source": [
    "<center><img src=\"https://raw.githubusercontent.com/pkasper/info1-bm/master/2017/tutor_sessions/assets/path.png\"></center>\n",
    "\n",
    "<center><img src=\"https://raw.githubusercontent.com/pkasper/info1-bm/master/2017/tutor_sessions/assets/path_2.png\"><img src=\"https://raw.githubusercontent.com/pkasper/info1-bm/master/2017/tutor_sessions/assets/path_3.png\"></center>"
   ]
  },
  {
   "cell_type": "markdown",
   "metadata": {},
   "source": [
    "## 2) See if it works"
   ]
  },
  {
   "cell_type": "markdown",
   "metadata": {},
   "source": [
    "<ol>\n",
    "<li>Open your console of choice</li>\n",
    "<li>Type <code>python</code></li>\n",
    "<li>See what happens. Your precise text might be different (i.e.:version number...)</li>\n",
    "<li>Exit by typing <code>exit()</code> and pressing enter</li>\n",
    "</ol>\n",
    "\n",
    "<center><img src=\"https://raw.githubusercontent.com/pkasper/info1-bm/master/2017/tutor_sessions/assets/console.png\"></center>"
   ]
  },
  {
   "cell_type": "markdown",
   "metadata": {},
   "source": [
    "<ol>\n",
    "<li>Create a textfile and name it <code>hello_python.py</code></li>\n",
    "<li>Open the file and write the following: <code>print(\"Hello, Python!\")</code></li>\n",
    "<li>Save the file</li>\n",
    "<li>Use a console (cmd or powershell for windows) and navigate to the folder of the previously created file</li>\n",
    "<li>type <code>python hello_python.py</code></li>\n",
    "</ol>\n",
    "\n",
    "<center><img src=\"assets/console2.png\"></center>"
   ]
  },
  {
   "cell_type": "markdown",
   "metadata": {},
   "source": [
    "## 3) Jupyter"
   ]
  },
  {
   "cell_type": "markdown",
   "metadata": {},
   "source": [
    "Launch via Anaconda Navigator\n",
    "\n",
    "Default address: http://127.0.0.1:8888/tree (localhost on unix systems)\n",
    "\n",
    "Upload Tutorial sheets and play around"
   ]
  },
  {
   "cell_type": "markdown",
   "metadata": {},
   "source": [
    "### 3.1) Basic Usage"
   ]
  },
  {
   "cell_type": "markdown",
   "metadata": {},
   "source": [
    "<ul>\n",
    "<li>Code is written in cells</li>\n",
    "<li>Cells can be executed individually and out of sequence. (You can run cell 1, cell 2 and then cell 1 again)</li>\n",
    "<li>System state is saved</li>\n",
    "<li>Hotkey to run a cell: Shift + Enter</li>\n",
    "<li>\"File -> Download as -> Python (.py) \" to get the full source</li> \n",
    "<ul><li>Open in editor and clean up the comments if you use this for submitting</li></ul>\n",
    "<li>It can do a lot more which is not needed for now...</li>\n",
    "</ul>"
   ]
  },
  {
   "cell_type": "markdown",
   "metadata": {},
   "source": [
    "### 3.2) Example"
   ]
  },
  {
   "cell_type": "code",
   "execution_count": null,
   "metadata": {},
   "outputs": [],
   "source": [
    "print(\"Hello, World!\")"
   ]
  },
  {
   "cell_type": "markdown",
   "metadata": {},
   "source": [
    "### 3.3) Working with cells\n",
    "\n",
    "<ol>\n",
    "<li>Run the 1st cell (a = 0) below</li>\n",
    "<li>Run the 3rd cell (print(a))</li>\n",
    "<li>Run the 2nd cell (a = a + 1). That increases the value by 1. Repead as often as wanted.</li>\n",
    "<li>Run the 3rd cell (print(a)) again</li>\n",
    "</ol>"
   ]
  },
  {
   "cell_type": "code",
   "execution_count": null,
   "metadata": {
    "collapsed": true
   },
   "outputs": [],
   "source": [
    "a = 0"
   ]
  },
  {
   "cell_type": "code",
   "execution_count": null,
   "metadata": {
    "collapsed": true
   },
   "outputs": [],
   "source": [
    "a = a+1"
   ]
  },
  {
   "cell_type": "code",
   "execution_count": null,
   "metadata": {},
   "outputs": [],
   "source": [
    "print(a)"
   ]
  },
  {
   "cell_type": "markdown",
   "metadata": {
    "collapsed": true
   },
   "source": [
    "## 4) You are good to go!"
   ]
  },
  {
   "cell_type": "markdown",
   "metadata": {},
   "source": [
    "<center><img src=\"https://raw.githubusercontent.com/pkasper/info1-bm/master/2017/tutor_sessions/assets/antigravity.png\">[\"Python\" by \"Randall Munroe (XKCD)]</center>\n"
   ]
  },
  {
   "cell_type": "code",
   "execution_count": null,
   "metadata": {
    "collapsed": true
   },
   "outputs": [],
   "source": []
  }
 ],
 "metadata": {
  "kernelspec": {
   "display_name": "Python 3",
   "language": "python",
   "name": "python3"
  },
  "language_info": {
   "codemirror_mode": {
    "name": "ipython",
    "version": 3
   },
   "file_extension": ".py",
   "mimetype": "text/x-python",
   "name": "python",
   "nbconvert_exporter": "python",
   "pygments_lexer": "ipython3",
   "version": "3.5.3"
  }
 },
 "nbformat": 4,
 "nbformat_minor": 2
}
