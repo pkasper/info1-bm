{
 "cells": [
  {
   "cell_type": "markdown",
   "metadata": {},
   "source": [
    "## Informatik 1 - Biomedical Engineering\n",
    "## Tutor Session 3 -  Data Structures"
   ]
  },
  {
   "cell_type": "markdown",
   "metadata": {},
   "source": [
    "## Overview\n",
    "<ul>\n",
    "<li>What are data structures?</li>\n",
    "<li>Lists</li>\n",
    "<li>Tuples</li>\n",
    "<li>Sets</li>\n",
    "<li>Dictionaries</li>\n",
    "<li>Combination of data structures</li>\n",
    "\n",
    "</ul>"
   ]
  },
  {
   "cell_type": "markdown",
   "metadata": {},
   "source": [
    "## 1) What are data sturctures?\n",
    "\n",
    "<ul>\n",
    "<li>Containers for data</li>\n",
    "<li>Store information in certain forms</li>\n",
    "<li>Access and manipulate stored data</li>\n",
    "\n",
    "</ul>"
   ]
  },
  {
   "cell_type": "markdown",
   "metadata": {
    "collapsed": true
   },
   "source": [
    "## 2) Python Lists\n",
    "<ul>\n",
    "<li>List aka array, vector, etc.</li>\n",
    "<li>Python: more than just array</li>\n",
    "<ul>\n",
    "<li>Sequence type - iteration (remember loops, etc.)</li>\n",
    "<li>In-place manipulation</li>\n",
    "<li>Mutable</li>\n",
    "<li>Usability</li>\n",
    "</ul>\n",
    "<li>Lists start at position 0, not 1!(index out of range)</li>\n",
    "<li>Indexing: offset from the beginning (0 + index)</li>\n",
    "</ul>\n",
    "\n",
    "## 2.1) List: examples\n",
    "<ul>\n",
    "<li>Implicit declaration: square brackets</li>\n",
    "<li>Explicit declaration: list()</li>\n",
    "<li>A list can have elements of mixed types</li>\n",
    "</ul>"
   ]
  },
  {
   "cell_type": "code",
   "execution_count": null,
   "metadata": {
    "collapsed": true
   },
   "outputs": [],
   "source": [
    "# Initializing a list\n",
    "some_list = [-1, 0, 1, 2, 3, 4, 5]"
   ]
  },
  {
   "cell_type": "code",
   "execution_count": null,
   "metadata": {
    "collapsed": true
   },
   "outputs": [],
   "source": [
    "print(some_list[0])\n",
    "print(some_list[0:3])\n",
    "print(some_list[3:])\n",
    "print(some_list[::2])\n",
    "\n",
    "print(some_list[3:1:-1]) #What happens?\n",
    "\n",
    "# print(some_list[7])   # <-- off by one error!"
   ]
  },
  {
   "cell_type": "code",
   "execution_count": null,
   "metadata": {
    "collapsed": true
   },
   "outputs": [],
   "source": [
    "mixed_list = [12, \"twelve\", 12.0]\n",
    "print(mixed_list)"
   ]
  },
  {
   "cell_type": "markdown",
   "metadata": {
    "collapsed": true
   },
   "source": [
    "## 2.2) List: methonds\n",
    "\n",
    "Most useful methods for lists:\n",
    "<ul>\n",
    "<li>append</li>\n",
    "<li>sort</li>\n",
    "<li>reverse</li>\n",
    "<li>len</li>\n",
    "</ul>"
   ]
  },
  {
   "cell_type": "code",
   "execution_count": null,
   "metadata": {
    "collapsed": true
   },
   "outputs": [],
   "source": [
    "print(some_list, \"length:\", len(some_list))\n",
    "some_list.append(2.5)\n",
    "print(some_list, \"length:\", len(some_list))"
   ]
  },
  {
   "cell_type": "code",
   "execution_count": null,
   "metadata": {
    "collapsed": true
   },
   "outputs": [],
   "source": [
    "some_list.sort()\n",
    "print(\"Sorted:\", some_list)\n",
    "some_list.reverse()\n",
    "print(\"Reversed:\", some_list)"
   ]
  },
  {
   "cell_type": "markdown",
   "metadata": {},
   "source": [
    ".sort() and .reverse() work in-place!"
   ]
  },
  {
   "cell_type": "code",
   "execution_count": null,
   "metadata": {
    "collapsed": true
   },
   "outputs": [],
   "source": [
    "another_list = [2, 6, 4, 3, 5]\n",
    "sorted_list = sorted(another_list) # creates a copy\n",
    "print(another_list)\n",
    "print(sorted_list)"
   ]
  },
  {
   "cell_type": "markdown",
   "metadata": {
    "collapsed": true
   },
   "source": [
    "More list methods:\n",
    "<ul>\n",
    "<li>extend</li>\n",
    "<li>insert</li>\n",
    "<li>pop</li>\n",
    "<li>clear</li>\n",
    "<li>count</li>\n",
    "</ul>"
   ]
  },
  {
   "cell_type": "code",
   "execution_count": null,
   "metadata": {
    "collapsed": true
   },
   "outputs": [],
   "source": [
    "list_1 = [1,2,3,4]\n",
    "list_2 = [5,6,7]\n",
    "list_1.append(list_2)\n",
    "print(list_1)"
   ]
  },
  {
   "cell_type": "code",
   "execution_count": null,
   "metadata": {
    "collapsed": true
   },
   "outputs": [],
   "source": [
    "list_1 = [1,2,3,4]\n",
    "list_2 = [5,6,7]\n",
    "list_1.extend(list_2)\n",
    "print(list_1)"
   ]
  },
  {
   "cell_type": "code",
   "execution_count": null,
   "metadata": {
    "collapsed": true
   },
   "outputs": [],
   "source": [
    "list_3 = list_1 + [8, 9]\n",
    "print(list_3)"
   ]
  },
  {
   "cell_type": "code",
   "execution_count": null,
   "metadata": {
    "collapsed": true
   },
   "outputs": [],
   "source": [
    "list_3.insert(4,4.5)    # list.insert(position, value)\n",
    "print(list_3)"
   ]
  },
  {
   "cell_type": "code",
   "execution_count": null,
   "metadata": {
    "collapsed": true
   },
   "outputs": [],
   "source": [
    "list_3.pop()\n",
    "print(list_3)"
   ]
  },
  {
   "cell_type": "code",
   "execution_count": null,
   "metadata": {
    "collapsed": true
   },
   "outputs": [],
   "source": [
    "list_3.count(6)"
   ]
  },
  {
   "cell_type": "code",
   "execution_count": null,
   "metadata": {
    "collapsed": true
   },
   "outputs": [],
   "source": [
    "list_3.clear()\n",
    "print(list_3)"
   ]
  },
  {
   "cell_type": "markdown",
   "metadata": {
    "collapsed": true
   },
   "source": [
    "## 2.3) Working with Lists"
   ]
  },
  {
   "cell_type": "code",
   "execution_count": null,
   "metadata": {
    "collapsed": true
   },
   "outputs": [],
   "source": [
    "some_list = [\"Graz\", \"München\", \"Wien\", \"Salzburg\", \"Linz\"]"
   ]
  },
  {
   "cell_type": "code",
   "execution_count": null,
   "metadata": {
    "collapsed": true
   },
   "outputs": [],
   "source": [
    "for index in range(len(some_list)):   #Iterating over list indices\n",
    "    print(index, \":\", some_list[index])"
   ]
  },
  {
   "cell_type": "code",
   "execution_count": null,
   "metadata": {
    "collapsed": true
   },
   "outputs": [],
   "source": [
    "for element in some_list:   #Iterating over list\n",
    "    print(element)"
   ]
  },
  {
   "cell_type": "code",
   "execution_count": null,
   "metadata": {
    "collapsed": true
   },
   "outputs": [],
   "source": [
    "for index, value in enumerate(some_list):\n",
    "    print(index, \":\", value)"
   ]
  },
  {
   "cell_type": "code",
   "execution_count": null,
   "metadata": {
    "collapsed": true
   },
   "outputs": [],
   "source": [
    "new_list = some_list            #Two variables for one list\n",
    "another_new_list = some_list[:] #Getting a copy of the list\n",
    "some_list.clear()\n",
    "print(new_list)\n",
    "print(another_new_list)"
   ]
  },
  {
   "cell_type": "markdown",
   "metadata": {},
   "source": [
    "## 3) Python tuples\n",
    "<ul>\n",
    "<li>Immutable sequence type (iterable, but you cannot change single elements) -item assignment not supported</li>\n",
    "<li>can not contain mutable objects (like lists)</li>\n",
    "</ul>\n",
    "\n",
    "Examples:"
   ]
  },
  {
   "cell_type": "code",
   "execution_count": null,
   "metadata": {
    "collapsed": true
   },
   "outputs": [],
   "source": [
    "#Declaring tuples\n",
    "newspapers = 'Die_Presse', 'Der_Standard', 'FAZ'\n",
    "some_words_and_numbers = ('hi', 'bye', 15)  # Preferred\n",
    "\n",
    "#Special tuples\n",
    "one_element_tuple = ('singleton', )\n",
    "empty_tuple = ()\n",
    "\n",
    "#newspapers[2] = 'Die_Zeit'    <- Not a valid action for tuples!"
   ]
  },
  {
   "cell_type": "code",
   "execution_count": null,
   "metadata": {
    "collapsed": true
   },
   "outputs": [],
   "source": [
    "print(newspapers[2])"
   ]
  },
  {
   "cell_type": "code",
   "execution_count": null,
   "metadata": {
    "collapsed": true
   },
   "outputs": [],
   "source": [
    "#Value unpacking / multiple assingment\n",
    "np1, np2, np3 = newspapers\n",
    "print(np1, np2, np3)"
   ]
  },
  {
   "cell_type": "markdown",
   "metadata": {},
   "source": [
    "## 4) Python sets\n",
    "<ul>\n",
    "<li>Mathematical sets</li>\n",
    "<li>Unordered collection with no duplicate elements</li>\n",
    "<li>Support mathematical operations, e.g. union, intersect, difference</li>\n",
    "<li>Sets with complex elements (lists, etc.):\n",
    "modification/extension necessary (not easy!)</li>\n",
    "<li>Elements have to be uniqe and easily comparable (hashable)</li>\n",
    "</ul>"
   ]
  },
  {
   "cell_type": "code",
   "execution_count": null,
   "metadata": {
    "collapsed": true
   },
   "outputs": [],
   "source": [
    "#Declaring a set implicitly: curly brackets {}\n",
    "backpack = {'notebook', 'phone', 'key', 'gum', 'pen'}\n",
    "\n",
    "print(backpack)"
   ]
  },
  {
   "cell_type": "code",
   "execution_count": null,
   "metadata": {
    "collapsed": true,
    "scrolled": true
   },
   "outputs": [],
   "source": [
    "#Declaring with funktion set()\n",
    "other_bag = set(['key', 'sandwitch', 'bottle'])\n",
    "one_element_set = set('singleton')\n",
    "\n",
    "#Empty set - explicit declaration: set(), not{}!\n",
    "empty_set = set()\n",
    "\n",
    "#Set with mixed elements\n",
    "my_set = {1,2,3,3,5,6,4,3,3,3,'hallo'}\n",
    "print(my_set)\n",
    "\n",
    "#test_set = {1,2,3,[1,2,3]} <- can't compare int and list (unhashable)"
   ]
  },
  {
   "cell_type": "markdown",
   "metadata": {},
   "source": [
    "## 4.1) Set: methods"
   ]
  },
  {
   "cell_type": "code",
   "execution_count": null,
   "metadata": {
    "collapsed": true
   },
   "outputs": [],
   "source": [
    "backpack = {'notebook', 'phone', 'key', 'gum'}\n",
    "other_bag = {'key', 'sandwitch', 'bottle', 'phone'}\n",
    "bag = {'phone', 'gum'}\n",
    "\n",
    "print(\"Intersection: \", backpack & other_bag) #Items in both bags\n",
    "print(\"Difference: \",backpack ^ other_bag)    #Items in only one of the bags\n",
    "print(\"Union: \", backpack | other_bag)        #Combine both bags"
   ]
  },
  {
   "cell_type": "markdown",
   "metadata": {},
   "source": [
    "## 5) Python dictionaries\n",
    "<ul>\n",
    "<li>Aka hash map, associative array</li>\n",
    "<li>Collection of key: value pairs</li>\n",
    "<li>Dictionary is indexed by keys, not numbers</li>\n",
    "<li>Keys</li>\n",
    "<ul>\n",
    "<li>...must be unique and of an immutable data type</li>\n",
    "<li>...can be strings or numbers (must be hashable)</li>\n",
    "<li>...are a set: sorted by hash values, do not stick to user-defined item order</li>\n",
    "</ul>\n",
    "</ul>"
   ]
  },
  {
   "cell_type": "code",
   "execution_count": null,
   "metadata": {
    "collapsed": true
   },
   "outputs": [],
   "source": [
    "# Declaring a dictionary\n",
    "contact_info = {'name': 'someone', 'phone': 12345, 'city': 'Graz'}"
   ]
  },
  {
   "cell_type": "code",
   "execution_count": null,
   "metadata": {},
   "outputs": [],
   "source": [
    "print(\"Dictionary keys:\", contact_info.keys())\n",
    "print(\"Dictionary values:\", contact_info.values())\n",
    "print(\"Dictionary Items:\", contact_info.items())"
   ]
  },
  {
   "cell_type": "code",
   "execution_count": null,
   "metadata": {},
   "outputs": [],
   "source": [
    "#Working with dictionaries\n",
    "contact_info['phone'] = 98765  #Changing values using a key\n",
    "\n",
    "for key, value in contact_info.items():\n",
    "    print(key, value)"
   ]
  },
  {
   "cell_type": "code",
   "execution_count": null,
   "metadata": {},
   "outputs": [],
   "source": [
    "contact_info['mail'] = \"something@tugraz.at\"\n",
    "print(contact_info)"
   ]
  },
  {
   "cell_type": "code",
   "execution_count": null,
   "metadata": {},
   "outputs": [],
   "source": [
    "additional_data = {\"country\": \"Austria\", \"street\": \"Inffeldgasse\"}\n",
    "contact_info.update(additional_data)\n",
    "print(contact_info)"
   ]
  },
  {
   "cell_type": "code",
   "execution_count": null,
   "metadata": {},
   "outputs": [],
   "source": [
    "print(\"name\" in contact_info)\n",
    "print(\"test\" in contact_info)"
   ]
  },
  {
   "cell_type": "code",
   "execution_count": null,
   "metadata": {},
   "outputs": [],
   "source": [
    "contact_info[\"wrong_key\"]"
   ]
  },
  {
   "cell_type": "code",
   "execution_count": null,
   "metadata": {},
   "outputs": [],
   "source": [
    "del contact_info[\"mail\"]\n",
    "print(contact_info)"
   ]
  },
  {
   "cell_type": "markdown",
   "metadata": {
    "collapsed": true
   },
   "source": [
    "## 6) Combination of data structures"
   ]
  },
  {
   "cell_type": "markdown",
   "metadata": {},
   "source": [
    "<ul>\n",
    "<li>List of lists (matrix)</li>\n",
    "<li>Tuple of lists</li>\n",
    "<li>Dictionary with list as values</li>\n",
    "<li>A dictionary within a dictionary</li>\n",
    "<li>and so on</li>\n",
    "</ul>"
   ]
  },
  {
   "cell_type": "code",
   "execution_count": null,
   "metadata": {
    "collapsed": true
   },
   "outputs": [],
   "source": [
    "#Simple matrix = list of lists\n",
    "my_map = []\n",
    "for x in range(3):\n",
    "    for y in range(3):\n",
    "        coordinates = [x,y]\n",
    "        my_map.append(coordinates)\n",
    "\n",
    "for coordinates in my_map:\n",
    "    print(coordinates)\n"
   ]
  },
  {
   "cell_type": "code",
   "execution_count": null,
   "metadata": {
    "collapsed": true
   },
   "outputs": [],
   "source": [
    "#Declaring a list with dictionaries as elements\n",
    "list_of_grades = [\n",
    "    {'name': 'Musterman', 'grade': 4},\n",
    "    {'name': 'Musterfrau', 'grade': 1}\n",
    "]\n",
    "\n",
    "print(list_of_grades[0]['name'])"
   ]
  },
  {
   "cell_type": "code",
   "execution_count": null,
   "metadata": {
    "collapsed": true
   },
   "outputs": [],
   "source": [
    "#Declaring two combined dictionaries\n",
    "children = {'son': 15, 'daughter': 18}\n",
    "cars = {'label': 'volvo', 'power': '120ps'}\n",
    "parents = {'mother': children, 'father': cars}\n",
    "\n",
    "print(parents['mother']['son'])\n",
    "print(parents['father']['power'])"
   ]
  },
  {
   "cell_type": "markdown",
   "metadata": {},
   "source": [
    "# Example Program\n",
    "Create a tic tac toe game.\n",
    "\n",
    "<ul>\n",
    "<li>Create a matrix with 3 columns and rows</li>\n",
    "<li>Fill matrix with '_'</li>\n",
    "<li>Fill the matrix with 3 'X' or 'O' (horizontally or vertically) to win</li>\n",
    "</ul>\n"
   ]
  },
  {
   "cell_type": "code",
   "execution_count": null,
   "metadata": {
    "collapsed": true
   },
   "outputs": [],
   "source": [
    "game_board = []\n",
    "for index in range(3):\n",
    "    game_board.append(['_']*3)\n",
    "\n",
    "player = 'X'\n",
    "\n",
    "for rounds in range(9):\n",
    "    x = int(input(\"Enter the x-coordinate: \"))\n",
    "    y = int(input(\"Enter the y-coordinate: \"))\n",
    "    game_board[y][x] = player\n",
    "    for row in game_board:\n",
    "        print(row)\n",
    "    if player == 'X':\n",
    "        player = 'Y'\n",
    "    else:\n",
    "        player = 'X'\n"
   ]
  }
 ],
 "metadata": {
  "kernelspec": {
   "display_name": "Python 3",
   "language": "python",
   "name": "python3"
  },
  "language_info": {
   "codemirror_mode": {
    "name": "ipython",
    "version": 3
   },
   "file_extension": ".py",
   "mimetype": "text/x-python",
   "name": "python",
   "nbconvert_exporter": "python",
   "pygments_lexer": "ipython3",
   "version": "3.6.3"
  }
 },
 "nbformat": 4,
 "nbformat_minor": 2
}
