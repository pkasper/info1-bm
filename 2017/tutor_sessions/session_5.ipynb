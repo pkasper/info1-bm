{
 "cells": [
  {
   "cell_type": "markdown",
   "metadata": {},
   "source": [
    "# <center>Command Line Arguments / Slicing</center>"
   ]
  },
  {
   "cell_type": "markdown",
   "metadata": {},
   "source": [
    "## 1 Argparse\n",
    "\n",
    "A convenience package for handling command line parameters"
   ]
  },
  {
   "cell_type": "code",
   "execution_count": null,
   "metadata": {
    "collapsed": true
   },
   "outputs": [],
   "source": [
    "# Simulate argv because notebooks have their very own stuff there\n",
    "\n",
    "import sys\n",
    "sys.argv = [\"program.py\", \"-x1\"]\n",
    "sys.argv = [\"program.py\", \"-x\", \"1\"]  # argv are always strings"
   ]
  },
  {
   "cell_type": "markdown",
   "metadata": {},
   "source": [
    "### 1.1 Basic workflow"
   ]
  },
  {
   "cell_type": "code",
   "execution_count": null,
   "metadata": {},
   "outputs": [],
   "source": [
    "# step 0: import the package\n",
    "import argparse\n",
    "\n",
    "# Step 1: instantiate a parser\n",
    "arg_parser = argparse.ArgumentParser()\n",
    "\n",
    "# step 2+: Add our parameters\n",
    "arg_parser.add_argument(\"-x\", type=int)\n",
    "\n",
    "#step 3: Parse the sys.argv (does use sys.argv as default)\n",
    "parsed_params = arg_parser.parse_args()\n",
    "\n",
    "#step 4: extract the variables\n",
    "cmd_params = vars(parsed_params)\n",
    "\n",
    "print(cmd_params)"
   ]
  },
  {
   "cell_type": "markdown",
   "metadata": {},
   "source": [
    "### 1.2 Further important tricks\n",
    "##### 1.2.1 Long and short forms"
   ]
  },
  {
   "cell_type": "code",
   "execution_count": null,
   "metadata": {},
   "outputs": [],
   "source": [
    "arg_parser = argparse.ArgumentParser()\n",
    "arg_parser.add_argument(\"-f\", \"--first\", type=int)\n",
    "arg_parser.add_argument(\"-s\", \"--second\", type=str) # note the second will be a string, even if we provide a number\n",
    "\n",
    "\n",
    "sys.argv = [\"program.py\", \"-f\", \"1\", \"-s\", \"2\"]\n",
    "cmd_params = vars(arg_parser.parse_args())\n",
    "print(cmd_params)\n",
    "\n",
    "# the name is always defined by -- name"
   ]
  },
  {
   "cell_type": "markdown",
   "metadata": {},
   "source": [
    "##### 1.2.2 default values"
   ]
  },
  {
   "cell_type": "code",
   "execution_count": null,
   "metadata": {},
   "outputs": [],
   "source": [
    "arg_parser = argparse.ArgumentParser()\n",
    "arg_parser.add_argument(\"-x\", type=int, default=1337)\n",
    "\n",
    "sys.argv = [\"program.py\", \"-x\", \"1\"]\n",
    "# sys.argv = [\"program.py\"] # ccomment in to test defaults\n",
    "cmd_params = vars(arg_parser.parse_args())\n",
    "print(cmd_params)"
   ]
  },
  {
   "cell_type": "markdown",
   "metadata": {},
   "source": [
    "##### 1.2.3 existence checks"
   ]
  },
  {
   "cell_type": "code",
   "execution_count": null,
   "metadata": {},
   "outputs": [],
   "source": [
    "arg_parser = argparse.ArgumentParser()\n",
    "arg_parser.add_argument(\"--run\", action=\"store_true\")\n",
    "\n",
    "sys.argv = [\"program.py\", \"--run\"]\n",
    "# sys.argv = [\"program.py\"]\n",
    "cmd_params = vars(arg_parser.parse_args())\n",
    "print(cmd_params)\n",
    "\n",
    "# The param will always be there and you get True of False to see if it was used in the command line"
   ]
  },
  {
   "cell_type": "code",
   "execution_count": null,
   "metadata": {},
   "outputs": [],
   "source": [
    "sys.argv = [\"program.py\", \"-h\"]\n",
    "# sys.argv = [\"program.py\"]\n",
    "cmd_params = vars(arg_parser.parse_args())\n",
    "print(cmd_params)"
   ]
  },
  {
   "cell_type": "markdown",
   "metadata": {},
   "source": [
    "## 2 Slicing"
   ]
  },
  {
   "cell_type": "markdown",
   "metadata": {},
   "source": [
    "Access specific parts of an indexed object\n",
    "* Lists\n",
    "* Tuples\n",
    "* Strings (they are nothing but a list of characters)\n",
    "\n",
    "Access with []  \n",
    "Define ranges with [x:y]  \n",
    "Define step sizes with [x:y:stepsize]  \n",
    "Always makes a copy (not a reference)"
   ]
  },
  {
   "cell_type": "code",
   "execution_count": null,
   "metadata": {
    "collapsed": true
   },
   "outputs": [],
   "source": [
    "#create list to work with\n",
    "tmp_list = [0,1,2,3,4,5,6,7,8,9] # for lists\n",
    "tmp_list = \"0123456789\"         # for strings\n"
   ]
  },
  {
   "cell_type": "code",
   "execution_count": null,
   "metadata": {},
   "outputs": [],
   "source": [
    "# Access the second element \n",
    "print(tmp_list[1])\n",
    "\n",
    "# Remember Lists start with element 0"
   ]
  },
  {
   "cell_type": "code",
   "execution_count": null,
   "metadata": {},
   "outputs": [],
   "source": [
    "# Access the second to last element \n",
    "print(tmp_list[-2])\n",
    "\n",
    "# Here -1 is actually the very last because -0 does not exist"
   ]
  },
  {
   "cell_type": "code",
   "execution_count": null,
   "metadata": {},
   "outputs": [],
   "source": [
    "# Sublist from second to second to last\n",
    "print(tmp_list[2:-2])\n",
    "\n",
    "# if the first index is larger than the second (eg: tmp_list[3:2]) you get an empty list"
   ]
  },
  {
   "cell_type": "code",
   "execution_count": null,
   "metadata": {},
   "outputs": [],
   "source": [
    "# Sublist from second to second to last but only taking every second element\n",
    "print(tmp_list[2:-2:2])"
   ]
  },
  {
   "cell_type": "code",
   "execution_count": null,
   "metadata": {},
   "outputs": [],
   "source": [
    "# Get the list from the second one onwards\n",
    "print(tmp_list[2:])"
   ]
  },
  {
   "cell_type": "code",
   "execution_count": null,
   "metadata": {},
   "outputs": [],
   "source": [
    "# Get the list until the second to last\n",
    "print(tmp_list[:-2])"
   ]
  },
  {
   "cell_type": "markdown",
   "metadata": {},
   "source": [
    "#### 2.2 Complex Example: Hangman"
   ]
  },
  {
   "cell_type": "code",
   "execution_count": null,
   "metadata": {},
   "outputs": [],
   "source": [
    "min_word_len = 6 # minimum length of the target word\n",
    "\n",
    "# Load words into a set\n",
    "with open('words.txt', 'r') as words_file:\n",
    "    words = [l.strip().lower() for l in words_file if len(l) >= min_word_len] #do many things in one pretty line\n",
    "    \n",
    "print(len(words)) # Print the number of words with that critera"
   ]
  },
  {
   "cell_type": "code",
   "execution_count": null,
   "metadata": {
    "collapsed": true
   },
   "outputs": [],
   "source": [
    "import random # package for random numbers\n",
    "selected_word = random.choice(words) # pick one random word"
   ]
  },
  {
   "cell_type": "code",
   "execution_count": null,
   "metadata": {},
   "outputs": [],
   "source": [
    "print(selected_word) # cheater"
   ]
  },
  {
   "cell_type": "code",
   "execution_count": null,
   "metadata": {},
   "outputs": [],
   "source": [
    "correct_letters = [False] * len(selected_word)\n",
    "guessed_letters = []\n",
    "current_word = ['_'] * len(selected_word)\n",
    "wrong_letters_count = 0\n",
    "\n",
    "while wrong_letters_count < 7 and False in correct_letters:\n",
    "    # ask the user to enter a letter\n",
    "    letter = input('Guess a letter: ')\n",
    "    letter = letter.lower()\n",
    "    # only one letter at a time!\n",
    "    while (len(letter) is not 1):\n",
    "        letter = input('Guess one letter only: ')\n",
    "        letter = letter.lower()\n",
    "        \n",
    "\n",
    "    if letter not in guessed_letters:\n",
    "        # the word contain the player's letter!\n",
    "        if letter in selected_word:\n",
    "\n",
    "            # now where do we find the letter?\n",
    "            # We're not using find() because it only finds the first occurrence\n",
    "            for i in range(len(selected_word)):\n",
    "                if selected_word[i] == letter:\n",
    "                    # this letter was guessed correctly,\n",
    "                    # so let's set that position to True\n",
    "                    correct_letters[i] = True\n",
    "\n",
    "                    # show the player the current status by showing all\n",
    "                    # correct letters in the word\n",
    "                    current_word[i] = selected_word[i]\n",
    "                    # the known letters are in a list, so to print them correctly,\n",
    "                    # they need to be joined to a string\n",
    "                    print('This is what you know so far: ' + ' '.join(current_word))                \n",
    "\n",
    "        else:\n",
    "            # that means one attempt less available...\n",
    "            wrong_letters_count += 1\n",
    "            print('Sorry, my word does not contain ' + letter + '. You have ' + str(7 - wrong_letters_count + 1) + ' guesses remaining.')\n",
    "\n",
    "            # this letter cannot be used anymore\n",
    "            guessed_letters.append(letter)\n",
    "\n",
    "\n",
    "if False in correct_letters:\n",
    "    print('Sorry, you lost.')\n",
    "    # everything was guessed correctly\n",
    "else:\n",
    "    print('Yay, you won!')"
   ]
  },
  {
   "cell_type": "code",
   "execution_count": null,
   "metadata": {
    "collapsed": true
   },
   "outputs": [],
   "source": []
  }
 ],
 "metadata": {
  "kernelspec": {
   "display_name": "Python 3",
   "language": "python",
   "name": "python3"
  },
  "language_info": {
   "codemirror_mode": {
    "name": "ipython",
    "version": 3
   },
   "file_extension": ".py",
   "mimetype": "text/x-python",
   "name": "python",
   "nbconvert_exporter": "python",
   "pygments_lexer": "ipython3",
   "version": "3.6.2"
  }
 },
 "nbformat": 4,
 "nbformat_minor": 2
}
