{
 "cells": [
  {
   "cell_type": "markdown",
   "metadata": {},
   "source": [
    "# Informatik 1 - Biomedical Engineering\n",
    "## Tutor Session 1 -  Syntax/Variables and Datatypes"
   ]
  },
  {
   "cell_type": "markdown",
   "metadata": {},
   "source": [
    "## Overview\n",
    "<ul>\n",
    "<li>Use the Newsgroup</li>\n",
    "<li>Syntax</li>\n",
    "<li>Variables and Datatypes</li>\n",
    "<li>Typecasts</li>\n",
    "<li>Operators</li>\n",
    "<li>String-operators</li>\n",
    "<li>If Then Else</li>\n",
    "<li>for-Schleife</li>\n",
    "<li>I/O</li>\n",
    "<li>while-Schleife</li>\n",
    "<li>Examples</li>\n",
    "\n",
    "</ul>"
   ]
  },
  {
   "cell_type": "markdown",
   "metadata": {},
   "source": [
    "## Newsgroups\n",
    "<ul>\n",
    "<li>Use the Newsgroup for Questions</li>\n",
    "<li>tu-graz.lv.info-bm</li>\n",
    "<li>You have to read it</li>\n",
    "</ul>"
   ]
  },
  {
   "cell_type": "markdown",
   "metadata": {},
   "source": [
    "## Syntax\n",
    "\n",
    "The syntax specifys some rules, you have to follow. Python works with indents. You have to use the same indent in your whole document.\n",
    "<ul>\n",
    "<li>2 Spaces</li>\n",
    "<li>4 Spaces</li>\n",
    "<li>1 Tab</li>\n",
    "</ul>"
   ]
  },
  {
   "cell_type": "markdown",
   "metadata": {},
   "source": [
    "wrong"
   ]
  },
  {
   "cell_type": "code",
   "execution_count": 42,
   "metadata": {
    "collapsed": false
   },
   "outputs": [
    {
     "ename": "IndentationError",
     "evalue": "expected an indented block (<ipython-input-42-d0e93b0e0af1>, line 2)",
     "output_type": "error",
     "traceback": [
      "\u001b[1;36m  File \u001b[1;32m\"<ipython-input-42-d0e93b0e0af1>\"\u001b[1;36m, line \u001b[1;32m2\u001b[0m\n\u001b[1;33m    a = 10\u001b[0m\n\u001b[1;37m    ^\u001b[0m\n\u001b[1;31mIndentationError\u001b[0m\u001b[1;31m:\u001b[0m expected an indented block\n"
     ]
    }
   ],
   "source": [
    "def main():\n",
    "a = 10"
   ]
  },
  {
   "cell_type": "markdown",
   "metadata": {},
   "source": [
    "right"
   ]
  },
  {
   "cell_type": "code",
   "execution_count": null,
   "metadata": {
    "collapsed": true
   },
   "outputs": [],
   "source": [
    "def main():\n",
    "    a = 10\n",
    "    print(a)"
   ]
  },
  {
   "cell_type": "markdown",
   "metadata": {},
   "source": [
    "## Variables and Datatypes\n",
    "<ul>\n",
    "<li>Variables are Placeholder</li>\n",
    "<li>Datatypes specify for what a variable needs place</li>\n",
    "<li>In Python the datatype declaration is done automatically</li>\n",
    "<li>Three types of datatypes:</li>\n",
    "<ul>\n",
    "<li>Numbers:</li>\n",
    "<ul>\n",
    "<li>Integer                [int]</li>\n",
    "<li>Float                  [float]</li>\n",
    "<li>Double                 [double]</li>\n",
    "</ul>\n",
    "<li>Text:</li>\n",
    "<ul>\n",
    "<li>Character              [char]</li>\n",
    "<li>String                 [str]</li>\n",
    "</ul>\n",
    "<li>Boolean:</li>\n",
    "<ul>\n",
    "<li>True</li>\n",
    "<li>False</li>\n",
    "</ul>\n",
    "</ul>\n",
    "</ul>"
   ]
  },
  {
   "cell_type": "code",
   "execution_count": null,
   "metadata": {
    "collapsed": true
   },
   "outputs": [],
   "source": [
    "integer = 12 #int\n",
    "string = \"I am a String\" #str\n",
    "floating_number = 3.45 #float\n",
    "character = '5' #char"
   ]
  },
  {
   "cell_type": "code",
   "execution_count": null,
   "metadata": {
    "collapsed": true
   },
   "outputs": [],
   "source": [
    "#now you guess\n",
    "var0 = 123\n",
    "var1 = \"234\"\n",
    "var2 = 3.4546\n",
    "var3 = '2'"
   ]
  },
  {
   "cell_type": "code",
   "execution_count": null,
   "metadata": {
    "collapsed": true
   },
   "outputs": [],
   "source": [
    "print(type(var0))\n",
    "print(type(var1))\n",
    "print(type(var2))\n",
    "print(type(var3))"
   ]
  },
  {
   "cell_type": "markdown",
   "metadata": {},
   "source": [
    "## Typecasts\n",
    "you can cast a variable, so it changes its type"
   ]
  },
  {
   "cell_type": "code",
   "execution_count": 58,
   "metadata": {
    "collapsed": false
   },
   "outputs": [
    {
     "name": "stdout",
     "output_type": "stream",
     "text": [
      "23 <class 'str'>\n",
      "23 <class 'int'>\n"
     ]
    }
   ],
   "source": [
    "string = '23'\n",
    "print(string, type(string))\n",
    "string = int(string)\n",
    "print(string, type(string))"
   ]
  },
  {
   "cell_type": "markdown",
   "metadata": {},
   "source": [
    "## Operators\n",
    "Operators have one or more arguments as input and produce a new value.\n",
    "<ul>\n",
    "<li>assignment operator(=)</li>\n",
    "<li>mathematical operators</li>\n",
    "<ul>\n",
    "<li>Addition(+)</li>\n",
    "<li>Subtraction(-)</li>\n",
    "<li>Multiplication(*)</li>\n",
    "<li>Division(/)</li>\n",
    "<li>Modulo(%)</li>\n",
    "</ul>\n",
    "<li>Comparison operators --> returns a boolean(true or false)</li>\n",
    "<ul>\n",
    "<li> <,<=,>,>=,==,!= </li>\n",
    "</ul>\n",
    "<li>Bit operators</li>\n",
    "<ul>\n",
    "<li> &,|,^ </li>\n",
    "</ul>\n",
    "<li>Shift operators</li>\n",
    "<ul>\n",
    "<li> <<,>> </li>\n",
    "</ul>\n",
    "</ul>"
   ]
  },
  {
   "cell_type": "code",
   "execution_count": null,
   "metadata": {
    "collapsed": true
   },
   "outputs": [],
   "source": [
    "result = integer + string\n",
    "print(result)"
   ]
  },
  {
   "cell_type": "code",
   "execution_count": null,
   "metadata": {
    "collapsed": true
   },
   "outputs": [],
   "source": [
    "result = integer\n",
    "print(result,type(result))"
   ]
  },
  {
   "cell_type": "code",
   "execution_count": null,
   "metadata": {
    "collapsed": true
   },
   "outputs": [],
   "source": [
    "result += floating_number\n",
    "print(result,type(result))"
   ]
  },
  {
   "cell_type": "code",
   "execution_count": null,
   "metadata": {
    "collapsed": true
   },
   "outputs": [],
   "source": [
    "result = integer + character\n",
    "print(result,type(result))"
   ]
  },
  {
   "cell_type": "code",
   "execution_count": null,
   "metadata": {
    "collapsed": true
   },
   "outputs": [],
   "source": [
    "result = string + character\n",
    "print(result,type(result))"
   ]
  },
  {
   "cell_type": "code",
   "execution_count": null,
   "metadata": {
    "collapsed": true
   },
   "outputs": [],
   "source": [
    "result = integer > floating_number\n",
    "print(result,type(result))"
   ]
  },
  {
   "cell_type": "code",
   "execution_count": null,
   "metadata": {
    "collapsed": true
   },
   "outputs": [],
   "source": [
    "result = string < character\n",
    "print(result,type(result))"
   ]
  },
  {
   "cell_type": "markdown",
   "metadata": {},
   "source": [
    "## String Operators\n",
    "<ul>\n",
    "<li>len(string)</li>\n",
    "<li>string[4]</li>\n",
    "<li>string.isdigit()</li>\n",
    "<li>string.split()</li>\n",
    "<li>string.find()</li>\n",
    "<li>string.replace()</li>\n",
    "<li>string.format()</li>\n",
    "<li>More information: https://docs.python.org/3.1/library/stdtypes.html#string-methods</li>\n",
    "\n",
    "</ul>"
   ]
  },
  {
   "cell_type": "code",
   "execution_count": 12,
   "metadata": {
    "collapsed": false
   },
   "outputs": [
    {
     "name": "stdout",
     "output_type": "stream",
     "text": [
      "length of string:  13\n",
      "Char on specific position:   \n",
      "Part of string:  m a \n",
      "Is digit:  True <class 'str'>\n",
      "['I', 'am', 'a', 'string']\n",
      "['I am a str', 'ng']\n",
      "['I ', 'm ', ' string']\n",
      "7\n",
      "I am a character list\n",
      "I can count from 1 to the incredible number 100\n"
     ]
    }
   ],
   "source": [
    "string = \"I am a string\"\n",
    "print(\"length of string: \", len(string))\n",
    "print(\"Char on specific position: \", string[4])\n",
    "print(\"Part of string: \", string[3:7])\n",
    "number_string = \"23\"\n",
    "print(\"Is digit: \", number_string.isdigit(), type(number_string))\n",
    "#split examples\n",
    "print(string.split( ))\n",
    "print(string.split('i',1))\n",
    "print(string.split('a'))\n",
    "#find\n",
    "print(string.find(\"string\"))#returns the index\n",
    "#replace\n",
    "print(string.replace(\"string\",\"character list\"))\n",
    "#format\n",
    "print(\"I can count from {} to the incredible number {}\".format(1, 100))"
   ]
  },
  {
   "cell_type": "markdown",
   "metadata": {},
   "source": [
    "## IF THEN ELSE\n"
   ]
  },
  {
   "cell_type": "code",
   "execution_count": null,
   "metadata": {
    "collapsed": true
   },
   "outputs": [],
   "source": [
    "condition = 42\n",
    "if condition == 42:\n",
    "    print (\"the answer is 42\")\n",
    "else:\n",
    "    print (\"So long and thanks for all the fish\")\n"
   ]
  },
  {
   "cell_type": "code",
   "execution_count": null,
   "metadata": {
    "collapsed": true
   },
   "outputs": [],
   "source": [
    "condition = 100\n",
    "if condition == 42:\n",
    "    print (\"the answer is 42\")\n",
    "elif condition == 3.14159:\n",
    "    print (\"today is Pi day\")\n",
    "elif condition == 2:\n",
    "    print (\"2 is the only even prime number\")\n",
    "else:\n",
    "    print (\"var is not an interesting number\")"
   ]
  },
  {
   "cell_type": "markdown",
   "metadata": {},
   "source": [
    "## for-Schleife"
   ]
  },
  {
   "cell_type": "code",
   "execution_count": null,
   "metadata": {
    "collapsed": true
   },
   "outputs": [],
   "source": [
    "for i in range(0,9)\n",
    "    print(i)"
   ]
  },
  {
   "cell_type": "markdown",
   "metadata": {},
   "source": [
    "## I/O\n",
    "Python build-in function open() opens a file and returns a File Object\n",
    "<ul>\n",
    "<li>r - Reading a file</li>\n",
    "<li>w - Open for writing (truncating the file first)</li>\n",
    "<li>a - Open for writing (appending to the end if exists)</li>\n",
    "<li>x - Create a new file and open it for writing</li>\n",
    "<li>b - Binary mode (default is text mode)</li>\n",
    "</ul>\n",
    "The build-in function input() lets the user interact with the program"
   ]
  },
  {
   "cell_type": "code",
   "execution_count": null,
   "metadata": {
    "collapsed": true
   },
   "outputs": [],
   "source": [
    "#reading whole file\n",
    "tf = open(’textfile.txt’, ’r’)\n",
    "content = tf.read()\n",
    "tf.close()"
   ]
  },
  {
   "cell_type": "code",
   "execution_count": null,
   "metadata": {
    "collapsed": true
   },
   "outputs": [],
   "source": [
    "#reading line by line\n",
    "tf = open(’textfile.txt’, ’r’)\n",
    "for line in tf:\n",
    "    print(line)\n",
    "tf.close()"
   ]
  },
  {
   "cell_type": "code",
   "execution_count": null,
   "metadata": {
    "collapsed": true
   },
   "outputs": [],
   "source": [
    "#writing to a file\n",
    "tf = open(’textfile.txt’, ’w’)\n",
    "for i in range(10):\n",
    "    line = ’Line number ’ + str(i+1) + ’\\n’\n",
    "    tf.write(line)\n",
    "tf.close()"
   ]
  },
  {
   "cell_type": "code",
   "execution_count": 4,
   "metadata": {
    "collapsed": false
   },
   "outputs": [
    {
     "name": "stdout",
     "output_type": "stream",
     "text": [
      "Type in my value: 34\n",
      "Variable: 34, my type is: <class 'str'>\n"
     ]
    }
   ],
   "source": [
    "#input function\n",
    "\n",
    "var = input(\"Type in my value: \")\n",
    "print(\"Variable: {}, my type is: {}\".format(var,type(var)))"
   ]
  },
  {
   "cell_type": "markdown",
   "metadata": {},
   "source": [
    "## while-Schleife"
   ]
  },
  {
   "cell_type": "code",
   "execution_count": null,
   "metadata": {
    "collapsed": true
   },
   "outputs": [],
   "source": [
    "condition = 0\n",
    "while condition <= 10:\n",
    "    print(condition)\n",
    "    condition = condition+1"
   ]
  },
  {
   "cell_type": "markdown",
   "metadata": {},
   "source": [
    "# Example Program\n",
    "Try to add your Matrikelnumber to your name and print it out."
   ]
  },
  {
   "cell_type": "code",
   "execution_count": 50,
   "metadata": {
    "collapsed": false
   },
   "outputs": [
    {
     "name": "stdout",
     "output_type": "stream",
     "text": [
      "benjamin01430425\n"
     ]
    }
   ],
   "source": [
    "name = \"benjamin\"\n",
    "m_number = \"01430425\"\n",
    "result = name+m_number\n",
    "print(result)"
   ]
  },
  {
   "cell_type": "markdown",
   "metadata": {},
   "source": [
    "write a program that lets you guess an integer, the program should only stop, when the number is guessed"
   ]
  },
  {
   "cell_type": "code",
   "execution_count": 56,
   "metadata": {
    "collapsed": false
   },
   "outputs": [
    {
     "name": "stdout",
     "output_type": "stream",
     "text": [
      "Enter a number: 23\n",
      "Congratulations! You guessed it.\n"
     ]
    }
   ],
   "source": [
    "def guessNum(number):\n",
    "    #print(number)\n",
    "    condition = True\n",
    "    while condition:\n",
    "        guess =  int(input(\"Enter a number: \"))\n",
    "        if guess == number:\n",
    "            print(\"Congratulations! You guessed it.\")\n",
    "            condition = False\n",
    "        elif guess > number:\n",
    "            print(\"Smaller Number\")\n",
    "        elif guess < number:\n",
    "            print(\"Bigger Number\")\n",
    "\n",
    "def main():\n",
    "    number = int(23) \n",
    "    guessNum(number)\n",
    "\n",
    "if __name__ == \"__main__\":\n",
    "    main()"
   ]
  },
  {
   "cell_type": "code",
   "execution_count": null,
   "metadata": {
    "collapsed": true
   },
   "outputs": [],
   "source": []
  }
 ],
 "metadata": {
  "kernelspec": {
   "display_name": "Python 3",
   "language": "python",
   "name": "python3"
  },
  "language_info": {
   "codemirror_mode": {
    "name": "ipython",
    "version": 3
   },
   "file_extension": ".py",
   "mimetype": "text/x-python",
   "name": "python",
   "nbconvert_exporter": "python",
   "pygments_lexer": "ipython3",
   "version": "3.6.0"
  }
 },
 "nbformat": 4,
 "nbformat_minor": 2
}
