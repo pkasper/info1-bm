{
 "cells": [
  {
   "cell_type": "code",
   "execution_count": null,
   "metadata": {
    "collapsed": true
   },
   "outputs": [],
   "source": [
    "import numpy as np"
   ]
  },
  {
   "cell_type": "code",
   "execution_count": null,
   "metadata": {
    "collapsed": false
   },
   "outputs": [],
   "source": [
    "def solve_equation_system(coefficients, right_side):\n",
    "    # check if the coefficients and right side match: same number of rows\n",
    "    if coefficients.shape[0] != right_side.shape[0]:\n",
    "        print(\"Dimensions of left and right side of the equation system don't match.\")\n",
    "    \n",
    "    elif coefficients.shape[0] != coefficients.shape[1]:\n",
    "        print(\"Coefficient matrix must be square.\")\n",
    "    \n",
    "    else:\n",
    "        inverse = np.linalg.inv(coefficients)\n",
    "        return np.dot(inverse, right_side)"
   ]
  },
  {
   "cell_type": "code",
   "execution_count": null,
   "metadata": {
    "collapsed": false
   },
   "outputs": [],
   "source": [
    "# equation system:\n",
    "# x + z = 6\n",
    "# -3y + z = 7\n",
    "# 2x + y + 3z = 15\n",
    "\n",
    "# as matrix\n",
    "coefficients = np.array([[1, 0, 1], [0, -3, 1], [2, 1, 3]])\n",
    "right_side = np.array([[6], [7], [15]])\n",
    "print(solve_equation_system(coefficients, right_side))"
   ]
  },
  {
   "cell_type": "code",
   "execution_count": null,
   "metadata": {
    "collapsed": false
   },
   "outputs": [],
   "source": []
  }
 ],
 "metadata": {
  "anaconda-cloud": {},
  "kernelspec": {
   "display_name": "Python [conda root]",
   "language": "python",
   "name": "conda-root-py"
  },
  "language_info": {
   "codemirror_mode": {
    "name": "ipython",
    "version": 3
   },
   "file_extension": ".py",
   "mimetype": "text/x-python",
   "name": "python",
   "nbconvert_exporter": "python",
   "pygments_lexer": "ipython3",
   "version": "3.5.2"
  }
 },
 "nbformat": 4,
 "nbformat_minor": 1
}
