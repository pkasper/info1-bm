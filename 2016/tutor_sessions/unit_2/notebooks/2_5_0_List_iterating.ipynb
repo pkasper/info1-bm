{
 "cells": [
  {
   "cell_type": "code",
   "execution_count": 3,
   "metadata": {
    "collapsed": false
   },
   "outputs": [
    {
     "name": "stdout",
     "output_type": "stream",
     "text": [
      "zero\n",
      "one\n",
      "two\n",
      "three\n",
      "four\n"
     ]
    }
   ],
   "source": [
    "# Print all elements of a list\n",
    "\n",
    "another_list = ['zero', 'one', 'two', 'three', 'four']\n",
    "for element in another_list:\n",
    "    print(element)    \n"
   ]
  },
  {
   "cell_type": "code",
   "execution_count": 2,
   "metadata": {
    "collapsed": false
   },
   "outputs": [
    {
     "name": "stdout",
     "output_type": "stream",
     "text": [
      "0 zero\n",
      "1 one\n",
      "2 two\n",
      "3 three\n",
      "4 four\n"
     ]
    }
   ],
   "source": [
    "# Print all elements and indices of a list\n",
    "\n",
    "for index in range(len(another_list)):\n",
    "    print(index, another_list[index])\n"
   ]
  },
  {
   "cell_type": "code",
   "execution_count": 4,
   "metadata": {
    "collapsed": false
   },
   "outputs": [
    {
     "name": "stdout",
     "output_type": "stream",
     "text": [
      "zero\n",
      "one\n",
      "two\n",
      "three\n",
      "four\n"
     ]
    }
   ],
   "source": [
    "# Iterating over a list in the way of other languages\n",
    "\n",
    "some_index = 0\n",
    "list_length = len(another_list)\n",
    "\n",
    "while some_index < list_length:\n",
    "    print(another_list[some_index])\n",
    "    some_index += 1"
   ]
  }
 ],
 "metadata": {
  "anaconda-cloud": {},
  "kernelspec": {
   "display_name": "Python [Root]",
   "language": "python",
   "name": "Python [Root]"
  },
  "language_info": {
   "codemirror_mode": {
    "name": "ipython",
    "version": 3
   },
   "file_extension": ".py",
   "mimetype": "text/x-python",
   "name": "python",
   "nbconvert_exporter": "python",
   "pygments_lexer": "ipython3",
   "version": "3.5.2"
  }
 },
 "nbformat": 4,
 "nbformat_minor": 0
}
