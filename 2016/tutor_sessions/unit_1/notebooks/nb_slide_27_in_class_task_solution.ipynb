{
 "cells": [
  {
   "cell_type": "code",
   "execution_count": 1,
   "metadata": {
    "collapsed": true
   },
   "outputs": [],
   "source": [
    "last_denominator = 11\n",
    "operator = '-'\n",
    "act = 1"
   ]
  },
  {
   "cell_type": "code",
   "execution_count": 2,
   "metadata": {
    "collapsed": false
   },
   "outputs": [
    {
     "name": "stdout",
     "output_type": "stream",
     "text": [
      "1 / 1\n",
      "  -\n",
      "1 / 3\n",
      "  +\n",
      "1 / 5\n",
      "  -\n",
      "1 / 7\n",
      "  +\n",
      "1 / 9\n",
      "  -\n",
      "1 / 11\n",
      "  +\n",
      " ...\n",
      "= pi / 4\n"
     ]
    }
   ],
   "source": [
    "while act <= last_denominator:\n",
    "    print(1, '/', act)\n",
    "    print(' ', operator)\n",
    "    act += 2\n",
    "    if operator == '-':\n",
    "        operator = '+'\n",
    "    else:\n",
    "        operator = '-'\n",
    "print(' ...\\n= pi / 4')"
   ]
  },
  {
   "cell_type": "code",
   "execution_count": null,
   "metadata": {
    "collapsed": true
   },
   "outputs": [],
   "source": []
  },
  {
   "cell_type": "code",
   "execution_count": null,
   "metadata": {
    "collapsed": true
   },
   "outputs": [],
   "source": []
  }
 ],
 "metadata": {
  "kernelspec": {
   "display_name": "Python 3",
   "language": "python",
   "name": "python3"
  },
  "language_info": {
   "codemirror_mode": {
    "name": "ipython",
    "version": 3
   },
   "file_extension": ".py",
   "mimetype": "text/x-python",
   "name": "python",
   "nbconvert_exporter": "python",
   "pygments_lexer": "ipython3",
   "version": "3.5.1"
  }
 },
 "nbformat": 4,
 "nbformat_minor": 0
}
