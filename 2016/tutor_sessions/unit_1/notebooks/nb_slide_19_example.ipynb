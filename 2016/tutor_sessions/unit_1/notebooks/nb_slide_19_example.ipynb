{
 "cells": [
  {
   "cell_type": "code",
   "execution_count": null,
   "metadata": {
    "collapsed": false
   },
   "outputs": [],
   "source": [
    "weather = input('How is the weather today (rainy/sunny): ')\n",
    "\n",
    "if weather == 'rainy':\n",
    "    print('clean your room!')\n",
    "elif weather == 'sunny':\n",
    "    print('you can go swimming :-)')\n",
    "else:\n",
    "    print('pff. don\\'t have a recommendation.')\n",
    "print('anyhow, watch a movie at night.')"
   ]
  },
  {
   "cell_type": "code",
   "execution_count": null,
   "metadata": {
    "collapsed": true
   },
   "outputs": [],
   "source": []
  }
 ],
 "metadata": {
  "kernelspec": {
   "display_name": "Python 3",
   "language": "python",
   "name": "python3"
  },
  "language_info": {
   "codemirror_mode": {
    "name": "ipython",
    "version": 3
   },
   "file_extension": ".py",
   "mimetype": "text/x-python",
   "name": "python",
   "nbconvert_exporter": "python",
   "pygments_lexer": "ipython3",
   "version": "3.5.1"
  }
 },
 "nbformat": 4,
 "nbformat_minor": 0
}
