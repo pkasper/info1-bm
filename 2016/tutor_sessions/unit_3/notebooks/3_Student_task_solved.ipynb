{
 "cells": [
  {
   "cell_type": "code",
   "execution_count": null,
   "metadata": {
    "collapsed": false
   },
   "outputs": [],
   "source": [
    "# Opening the file and reading the data\n",
    "import pickle\n",
    "with open('small_list.pickle', 'rb') as file:\n",
    "    number_list = pickle.load(file)"
   ]
  },
  {
   "cell_type": "code",
   "execution_count": null,
   "metadata": {
    "collapsed": false
   },
   "outputs": [],
   "source": [
    "# Calculate the mean from a list of numbers "
   ]
  },
  {
   "cell_type": "code",
   "execution_count": null,
   "metadata": {
    "collapsed": true
   },
   "outputs": [],
   "source": [
    "def calc_median(elem_list):\n",
    "    elem_list.sort()\n",
    "    length = len(elem_list)\n",
    "    half_length = int(length / 2)\n",
    "    \n",
    "    # Even number of elements in list\n",
    "    if length % 2 == 0:\n",
    "        first = elem_list[half_length - 1]\n",
    "        second = elem_list[half_length]\n",
    "        median = (first + second) / 2\n",
    "    \n",
    "    else:\n",
    "        median = elem_list[half_length - 1]\n",
    "    \n",
    "    return median"
   ]
  },
  {
   "cell_type": "code",
   "execution_count": null,
   "metadata": {
    "collapsed": false
   },
   "outputs": [],
   "source": [
    "calc_median(number_list)"
   ]
  }
 ],
 "metadata": {
  "anaconda-cloud": {},
  "kernelspec": {
   "display_name": "Python [Root]",
   "language": "python",
   "name": "Python [Root]"
  },
  "language_info": {
   "codemirror_mode": {
    "name": "ipython",
    "version": 3
   },
   "file_extension": ".py",
   "mimetype": "text/x-python",
   "name": "python",
   "nbconvert_exporter": "python",
   "pygments_lexer": "ipython3",
   "version": "3.5.2"
  }
 },
 "nbformat": 4,
 "nbformat_minor": 0
}
