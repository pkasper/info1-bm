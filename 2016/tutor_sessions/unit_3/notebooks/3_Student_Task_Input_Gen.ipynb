{
 "cells": [
  {
   "cell_type": "code",
   "execution_count": null,
   "metadata": {
    "collapsed": false
   },
   "outputs": [],
   "source": [
    "# Creating a pickle file with lists\n",
    "import pickle\n",
    "from numpy.random import normal, binomial"
   ]
  },
  {
   "cell_type": "code",
   "execution_count": null,
   "metadata": {
    "collapsed": false
   },
   "outputs": [],
   "source": [
    "# Generating the input lists with random variables from distribution\n",
    "# Standard normal distribution\n",
    "# Short\n",
    "normal_dist_short = normal(0.0, 1.0, 100)\n",
    "normal_short = normal_dist_short.tolist()\n",
    "\n",
    "# Long\n",
    "normal_dist_long = normal(0.0, 1.0, 1000000)\n",
    "normal_long = normal_dist_long.tolist()"
   ]
  },
  {
   "cell_type": "code",
   "execution_count": null,
   "metadata": {
    "collapsed": false
   },
   "outputs": [],
   "source": [
    "# Binomial distribution, n = 100, p = 0.9\n",
    "# Short\n",
    "binom_dist_short = binomial(100, 0.9, 100)\n",
    "binom_short = binom_dist_short.tolist()\n",
    "\n",
    "# Long\n",
    "binom_dist_long = binomial(100, 0.9, 100000)\n",
    "binom_long = binom_dist_long.tolist()"
   ]
  },
  {
   "cell_type": "code",
   "execution_count": null,
   "metadata": {
    "collapsed": false
   },
   "outputs": [],
   "source": [
    "# Pickling the results    \n",
    "result_list = [normal_short, normal_long, binom_short, binom_long]\n",
    "list_names = ['normal_short', 'normal_long', 'binom_short', 'binom_long']\n",
    "\n",
    "for item in range(4):\n",
    "    filename = list_names[item] + '.pickle'\n",
    "    with open(filename, 'wb') as file:\n",
    "        pickle.dump(result_list[item], file)"
   ]
  },
  {
   "cell_type": "code",
   "execution_count": null,
   "metadata": {
    "collapsed": true
   },
   "outputs": [],
   "source": [
    "# How to get the data from pickle file (example)\n",
    "with open('binom_short.pickle', 'rb') as file:\n",
    "    current_list = pickle.load(file)"
   ]
  },
  {
   "cell_type": "code",
   "execution_count": null,
   "metadata": {
    "collapsed": false
   },
   "outputs": [],
   "source": [
    "current_list"
   ]
  },
  {
   "cell_type": "code",
   "execution_count": null,
   "metadata": {
    "collapsed": true
   },
   "outputs": [],
   "source": []
  }
 ],
 "metadata": {
  "anaconda-cloud": {},
  "kernelspec": {
   "display_name": "Python [Root]",
   "language": "python",
   "name": "Python [Root]"
  },
  "language_info": {
   "codemirror_mode": {
    "name": "ipython",
    "version": 3
   },
   "file_extension": ".py",
   "mimetype": "text/x-python",
   "name": "python",
   "nbconvert_exporter": "python",
   "pygments_lexer": "ipython3",
   "version": "3.5.2"
  }
 },
 "nbformat": 4,
 "nbformat_minor": 0
}
