{
 "cells": [
  {
   "cell_type": "code",
   "execution_count": null,
   "metadata": {
    "collapsed": false
   },
   "outputs": [],
   "source": [
    "  # Modify the name to trigger the different errors\n",
    "try:\n",
    "    name = \"Johnny Bravo\" # try Johnny Bravo or Johnny\n",
    "    mat_nr = 4396469 # try str(4396469)\n",
    "    print(\"Your name is \" + name + \" and your matr number is \" + mat_nr)\n",
    "except SyntaxError:\n",
    "    print(\"Syntax Error: We can't catch those...\")\n",
    "except NameError:\n",
    "    print(\"Name Error: Variable probably isn't defined yet...\")\n",
    "except TypeError:\n",
    "    print(\"Type Error: Number should be text to be printable...\")   \n",
    "else:\n",
    "    print(\"Johnny is a coding god!\")"
   ]
  },
  {
   "cell_type": "code",
   "execution_count": null,
   "metadata": {
    "collapsed": true
   },
   "outputs": [],
   "source": []
  }
 ],
 "metadata": {
  "kernelspec": {
   "display_name": "Python [conda root]",
   "language": "python",
   "name": "conda-root-py"
  },
  "language_info": {
   "codemirror_mode": {
    "name": "ipython",
    "version": 3
   },
   "file_extension": ".py",
   "mimetype": "text/x-python",
   "name": "python",
   "nbconvert_exporter": "python",
   "pygments_lexer": "ipython3",
   "version": "3.5.2"
  }
 },
 "nbformat": 4,
 "nbformat_minor": 1
}
