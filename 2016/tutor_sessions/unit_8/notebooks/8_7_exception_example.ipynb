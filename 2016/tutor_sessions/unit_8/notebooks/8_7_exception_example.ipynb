{
 "cells": [
  {
   "cell_type": "code",
   "execution_count": null,
   "metadata": {
    "collapsed": true
   },
   "outputs": [],
   "source": [
    "# Your name and matr_nr\n",
    "try:\n",
    "    name = \"Johnny Bravo\"\n",
    "    mat_nr = 4396469\n",
    "    print(\"Your name is \" + name + \" and your matr number is \" + mat_nr)\n",
    "except:\n",
    "    print(\"Johnny never learned to code....\")\n",
    "    name = \"Johnny Bravo\"\n",
    "    mat_nr = str(4396469)\n",
    "    print(\"Your name is \" + name + \" and your matr number is \" + mat_nr)"
   ]
  }
 ],
 "metadata": {
  "kernelspec": {
   "display_name": "Python [conda root]",
   "language": "python",
   "name": "conda-root-py"
  },
  "language_info": {
   "codemirror_mode": {
    "name": "ipython",
    "version": 3
   },
   "file_extension": ".py",
   "mimetype": "text/x-python",
   "name": "python",
   "nbconvert_exporter": "python",
   "pygments_lexer": "ipython3",
   "version": "3.5.2"
  }
 },
 "nbformat": 4,
 "nbformat_minor": 1
}
