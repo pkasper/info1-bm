{
 "cells": [
  {
   "cell_type": "code",
   "execution_count": null,
   "metadata": {
    "collapsed": false
   },
   "outputs": [],
   "source": [
    "# DNA string matching\n",
    "\n",
    "def get_dna_sequence(file_name):\n",
    "    dna_sequence = ''\n",
    "    dna_file = open(file_name, 'r')\n",
    "    \n",
    "    for line in dna_file:\n",
    "        dna_sequence += line\n",
    "\n",
    "    dna_sequence = dna_sequence.replace(' ', '')\n",
    "    dna_sequence = dna_sequence.replace('\\n', '')\n",
    "    \n",
    "    dna_file.close()\n",
    "\n",
    "    return dna_sequence\n",
    "\n",
    "\n",
    "yeast_dna = get_dna_sequence('bakers_yeast.txt')\n"
   ]
  },
  {
   "cell_type": "code",
   "execution_count": null,
   "metadata": {
    "collapsed": false
   },
   "outputs": [],
   "source": [
    "# find some shorter sequences\n",
    "\n",
    "find_agt = yeast_dna.find('AGT')\n",
    "print(find_agt)"
   ]
  },
  {
   "cell_type": "code",
   "execution_count": null,
   "metadata": {
    "collapsed": false
   },
   "outputs": [],
   "source": [
    "# this just gave us the first occurrence\n",
    "# what if there are more?\n",
    "# let's search in substrings!\n",
    "\n",
    "matches = []\n",
    "index = 0\n",
    "sequence_to_find = 'AGT'\n",
    "\n",
    "while True:\n",
    "    new_index = yeast_dna[index:].find(sequence_to_find)\n",
    "    if new_index is -1:\n",
    "        break\n",
    "    else:\n",
    "        index += new_index + 1\n",
    "        matches.append(index)\n",
    "\n",
    "print(matches)"
   ]
  },
  {
   "cell_type": "code",
   "execution_count": null,
   "metadata": {
    "collapsed": true
   },
   "outputs": [],
   "source": [
    "# find a specific genome\n",
    "\n",
    "genome_dna = get_dna_sequence('AXL2_genomic.txt')\n",
    "\n",
    "print(yeast_dna.find(genome_dna))"
   ]
  }
 ],
 "metadata": {
  "kernelspec": {
   "display_name": "Python [conda root]",
   "language": "python",
   "name": "conda-root-py"
  },
  "language_info": {
   "codemirror_mode": {
    "name": "ipython",
    "version": 3
   },
   "file_extension": ".py",
   "mimetype": "text/x-python",
   "name": "python",
   "nbconvert_exporter": "python",
   "pygments_lexer": "ipython3",
   "version": "3.5.2"
  }
 },
 "nbformat": 4,
 "nbformat_minor": 0
}
