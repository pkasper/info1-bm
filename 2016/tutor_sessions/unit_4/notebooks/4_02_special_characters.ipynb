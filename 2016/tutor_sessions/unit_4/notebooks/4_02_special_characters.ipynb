{
 "cells": [
  {
   "cell_type": "code",
   "execution_count": null,
   "metadata": {
    "collapsed": true
   },
   "outputs": [],
   "source": [
    "# Escape special characters\n",
    "\n",
    "special_chars1 = \"Hi,\\n\\\"how\\\" are you?\"\n",
    "special_chars2 = 'Hi,\\n\"how\" are you?'\n",
    "\n",
    "print(special_chars1)\n",
    "print(special_chars1)"
   ]
  }
 ],
 "metadata": {
  "kernelspec": {
   "display_name": "Python [conda root]",
   "language": "python",
   "name": "conda-root-py"
  },
  "language_info": {
   "codemirror_mode": {
    "name": "ipython",
    "version": 3
   },
   "file_extension": ".py",
   "mimetype": "text/x-python",
   "name": "python",
   "nbconvert_exporter": "python",
   "pygments_lexer": "ipython3",
   "version": "3.5.2"
  }
 },
 "nbformat": 4,
 "nbformat_minor": 1
}
