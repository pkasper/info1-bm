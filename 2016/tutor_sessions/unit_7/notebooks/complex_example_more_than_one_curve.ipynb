{
 "cells": [
  {
   "cell_type": "code",
   "execution_count": null,
   "metadata": {
    "collapsed": true
   },
   "outputs": [],
   "source": [
    "%matplotlib notebook\n",
    "import numpy as np\n",
    "import matplotlib.pyplot as plt\n",
    "\n",
    "# import two functions out of the retirement_model.py file\n",
    "from retirement_model import calc_savings, calc_retirement_account"
   ]
  },
  {
   "cell_type": "code",
   "execution_count": null,
   "metadata": {
    "collapsed": false
   },
   "outputs": [],
   "source": [
    "def get_curve(currect_income, remaining_years, saving_ratio, burn_rate_per_month, income_increase, interest):\n",
    "    # call function calc_savings and save the result to an array\n",
    "    savings = np.array(calc_savings(currect_income, saving_ratio,\n",
    "        income_increase, remaining_years, interest))\n",
    "\n",
    "    # accumulate row 1 by reason of showing increasing income\n",
    "    savings[:,1] = np.add.accumulate(savings[:,1])\n",
    "\n",
    "    # call function calc_retirement_account and also save output to abs\n",
    "    # numpy array\n",
    "    total_savings = savings[-1, 1]\n",
    "    retirement = np.array(calc_retirement_account(total_savings,\n",
    "        burn_rate_per_month, interest))\n",
    "    # we only want to return one curve, so we have to concatenate these two matrices\n",
    "    curve = np.concatenate(\n",
    "        (savings, retirement + (remaining_years, 0)), axis=0)\n",
    "    #scale down cash\n",
    "    curve[:, 1] *= (1/1000)\n",
    "    #shift right the years, cause we don't want to start at 0\n",
    "    curve[:, 0] += 1\n",
    "    return curve                                                     "
   ]
  },
  {
   "cell_type": "code",
   "execution_count": null,
   "metadata": {
    "collapsed": false
   },
   "outputs": [],
   "source": [
    "curve_1 = get_curve(currect_income=3500, remaining_years=40, saving_ratio=0.15,\n",
    "                    burn_rate_per_month=1500, income_increase=1.03, interest=1.01)\n",
    "\n",
    "curve_2 = get_curve(currect_income=4000, remaining_years=40, saving_ratio=0.15,\n",
    "                    burn_rate_per_month=2300, income_increase=1.03, interest=1.01)\n",
    "\n",
    "curve_3 = get_curve(currect_income=3500, remaining_years=20, saving_ratio=0.5,\n",
    "                    burn_rate_per_month=2300, income_increase=1.03, interest=1.01)\n",
    "\n",
    "curves = [(curve_1, 'red', 'income 3500, br 1500'), (curve_2, 'blue', 'income 4000'), (curve_3, 'green', 'inc.2500,saving 50%')]"
   ]
  },
  {
   "cell_type": "code",
   "execution_count": null,
   "metadata": {
    "collapsed": false
   },
   "outputs": [],
   "source": [
    "# do the fun part: plotting all curves to a figure\n",
    "for curve, color, label in curves:\n",
    "    plt.plot(curve[:,0], curve[:,1], color=color,\n",
    "        linestyle='solid', label=label)\n",
    "\n",
    "plt.legend(numpoints=1, fontsize=10)\n",
    "plt.xlabel('Years')\n",
    "plt.ylabel('Cash Balance [1.000 \\u20AC]')\n",
    "\n",
    "max_y = max(np.max(tup[0][:,1]) for tup in curves)\n",
    "plt.ylim((0, max_y * 1.1))\n",
    "plt.grid()"
   ]
  },
  {
   "cell_type": "code",
   "execution_count": null,
   "metadata": {
    "collapsed": true
   },
   "outputs": [],
   "source": []
  }
 ],
 "metadata": {
  "kernelspec": {
   "display_name": "Python 3",
   "language": "python",
   "name": "python3"
  },
  "language_info": {
   "codemirror_mode": {
    "name": "ipython",
    "version": 3
   },
   "file_extension": ".py",
   "mimetype": "text/x-python",
   "name": "python",
   "nbconvert_exporter": "python",
   "pygments_lexer": "ipython3",
   "version": "3.5.1"
  }
 },
 "nbformat": 4,
 "nbformat_minor": 0
}
