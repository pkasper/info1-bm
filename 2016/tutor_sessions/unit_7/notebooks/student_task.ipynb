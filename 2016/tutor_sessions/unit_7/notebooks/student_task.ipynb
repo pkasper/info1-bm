{
 "cells": [
  {
   "cell_type": "code",
   "execution_count": null,
   "metadata": {
    "collapsed": false
   },
   "outputs": [],
   "source": [
    "%matplotlib notebook\n",
    "import matplotlib.pyplot as plt"
   ]
  },
  {
   "cell_type": "code",
   "execution_count": null,
   "metadata": {
    "collapsed": false
   },
   "outputs": [],
   "source": [
    "# read csv file into these lists:\n",
    "close, high, low = [], [], []\n",
    "\n",
    "# columns: Date(0), Open(1), High(2), Low(3), Close(4) ,Volume(5)\n",
    "with open('atx.csv') as csv_file:\n",
    "    #skip first line\n",
    "    csv_file.readline()\n",
    "    for line in csv_file:\n",
    "        line = line.strip().split(',')\n",
    "        assert len(line) == 6\n",
    "        high.append(float(line[2]))\n",
    "        low.append(float(line[3]))\n",
    "        close.append(float(line[4]))\n",
    "# revert all lists (the last value is the first of the file - we want to plot it at the end)\n",
    "_ =[l.reverse() for l in (close, high, low)]"
   ]
  },
  {
   "cell_type": "code",
   "execution_count": null,
   "metadata": {
    "collapsed": false,
    "scrolled": true
   },
   "outputs": [],
   "source": [
    "plt.plot(close, label='closing price')\n",
    "\n",
    "#bonus, fill between:\n",
    "plt.fill_between(list(range(len(close))), low, high, color='darkblue', alpha=0.3, label='daily range')\n",
    "#plt.ylim(0, max(high)*1.1)\n",
    "plt.legend()\n",
    "plt.grid(True)"
   ]
  },
  {
   "cell_type": "code",
   "execution_count": null,
   "metadata": {
    "collapsed": true
   },
   "outputs": [],
   "source": []
  }
 ],
 "metadata": {
  "kernelspec": {
   "display_name": "Python 3",
   "language": "python",
   "name": "python3"
  },
  "language_info": {
   "codemirror_mode": {
    "name": "ipython",
    "version": 3
   },
   "file_extension": ".py",
   "mimetype": "text/x-python",
   "name": "python",
   "nbconvert_exporter": "python",
   "pygments_lexer": "ipython3",
   "version": "3.5.1"
  },
  "widgets": {
   "state": {},
   "version": "1.1.2"
  }
 },
 "nbformat": 4,
 "nbformat_minor": 0
}
