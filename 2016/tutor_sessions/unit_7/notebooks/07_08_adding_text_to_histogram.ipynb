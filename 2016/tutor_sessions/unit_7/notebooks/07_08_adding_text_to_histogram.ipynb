{
 "cells": [
  {
   "cell_type": "code",
   "execution_count": null,
   "metadata": {
    "collapsed": true
   },
   "outputs": [],
   "source": [
    "%matplotlib notebook\n",
    "import matplotlib.pyplot as plt\n",
    "import numpy as np"
   ]
  },
  {
   "cell_type": "code",
   "execution_count": null,
   "metadata": {
    "collapsed": false
   },
   "outputs": [],
   "source": [
    "mu, sigma = 100, 15\n",
    "x = mu + sigma * np.random.randn(10000)\n",
    "\n",
    "plt.hist(x, 50, normed=1, facecolor='g', alpha=0.75)\n",
    "\n",
    "#Adding text to our histogram:\n",
    "plt.title('Histogram of IQ')\n",
    "\n",
    "math_text = r'$\\mu={},\\ \\sigma={}$'.format(mu, sigma)\n",
    "plt.text(60, .025, math_text)\n",
    "\n",
    "\n",
    "math_text = r'$F(x) = \\frac{1}{\\sigma \\sqrt{2\\pi}} \\int_{-\\infty}^{x} {e} ^{-\\frac{1}{2}}(\\frac{t-\\mu}{\\sigma})$'\n",
    "plt.text(110, .026, math_text, fontsize=15)\n",
    "\n",
    "normal_text = 'Hello World'\n",
    "plt.text(min(x), .01, normal_text, fontsize=15)\n",
    "\n",
    "plt.xlabel('Smarts')\n",
    "plt.ylabel('Probability')"
   ]
  }
 ],
 "metadata": {
  "kernelspec": {
   "display_name": "Python 3",
   "language": "python",
   "name": "python3"
  },
  "language_info": {
   "codemirror_mode": {
    "name": "ipython",
    "version": 3
   },
   "file_extension": ".py",
   "mimetype": "text/x-python",
   "name": "python",
   "nbconvert_exporter": "python",
   "pygments_lexer": "ipython3",
   "version": "3.5.1"
  }
 },
 "nbformat": 4,
 "nbformat_minor": 0
}
