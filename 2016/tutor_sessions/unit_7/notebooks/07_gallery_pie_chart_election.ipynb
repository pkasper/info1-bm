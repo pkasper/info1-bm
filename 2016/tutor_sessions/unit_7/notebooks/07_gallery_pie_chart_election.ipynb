{
 "cells": [
  {
   "cell_type": "code",
   "execution_count": null,
   "metadata": {
    "collapsed": true
   },
   "outputs": [],
   "source": [
    "%matplotlib notebook\n",
    "import numpy as np\n",
    "import matplotlib.pyplot as plt"
   ]
  },
  {
   "cell_type": "code",
   "execution_count": null,
   "metadata": {
    "collapsed": false
   },
   "outputs": [],
   "source": [
    "labels = ['Griss', 'Hofer', 'Hundstorfer', 'Khol', 'Lugner', 'VdB']\n",
    "sizes = [18.9, 35.1, 11.3, 11.1, 2.3, 21.3]\n",
    "colors = ['gold', 'blue', 'red', 'black', 'brown', 'green']\n",
    "plt.title('Austrian presidential election 16, first round')\n",
    "#hofer and vdb shall be exploded:\n",
    "explode = (0, 0.1, 0, 0, 0, 0.1)\n",
    "\n",
    "plt.pie(sizes, labels=labels, colors=colors,\n",
    "        autopct='%1.1f%%', startangle=90,\n",
    "        explode=explode, shadow=True)\n",
    "# Set aspect ratio to be equal so that pie is drawn as a circle.\n",
    "plt.axis('equal')"
   ]
  }
 ],
 "metadata": {
  "kernelspec": {
   "display_name": "Python 3",
   "language": "python",
   "name": "python3"
  },
  "language_info": {
   "codemirror_mode": {
    "name": "ipython",
    "version": 3
   },
   "file_extension": ".py",
   "mimetype": "text/x-python",
   "name": "python",
   "nbconvert_exporter": "python",
   "pygments_lexer": "ipython3",
   "version": "3.5.1"
  }
 },
 "nbformat": 4,
 "nbformat_minor": 0
}
