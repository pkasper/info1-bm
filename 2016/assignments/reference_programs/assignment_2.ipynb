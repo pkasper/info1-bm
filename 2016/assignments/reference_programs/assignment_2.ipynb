{
 "cells": [
  {
   "cell_type": "code",
   "execution_count": null,
   "metadata": {
    "collapsed": true
   },
   "outputs": [],
   "source": [
    "# Command Line Simulation"
   ]
  },
  {
   "cell_type": "code",
   "execution_count": null,
   "metadata": {
    "collapsed": true
   },
   "outputs": [],
   "source": [
    "command_line = \"assignment_2.py s0010_re.p i\"\n",
    "\n",
    "import sys\n",
    "sys.argv = command_line.split(\" \")\n",
    "\n",
    "#print(sys.argv)"
   ]
  },
  {
   "cell_type": "markdown",
   "metadata": {},
   "source": [
    "# Homework 2\n",
    " - a) Einlesen und signal \"i\" selecten\n",
    " - b) std und mean als Funktionen implementieren\n",
    " - c) Heartbeat detection via outlier und in Liste speichern\n",
    " - d) dump as CSV (separator: \",\")"
   ]
  },
  {
   "cell_type": "markdown",
   "metadata": {
    "collapsed": true
   },
   "source": [
    "# a)"
   ]
  },
  {
   "cell_type": "code",
   "execution_count": null,
   "metadata": {
    "collapsed": true
   },
   "outputs": [],
   "source": [
    "file_base_name = sys.argv[1][0:sys.argv[1].rfind(\".\")]\n",
    "\n",
    "data_file = sys.argv[1]\n",
    "csv_file = file_base_name + \".csv\""
   ]
  },
  {
   "cell_type": "code",
   "execution_count": null,
   "metadata": {
    "collapsed": true
   },
   "outputs": [],
   "source": [
    "import pickle"
   ]
  },
  {
   "cell_type": "code",
   "execution_count": null,
   "metadata": {
    "collapsed": false
   },
   "outputs": [],
   "source": [
    "data = None\n",
    "\n",
    "with open(data_file, \"rb\") as pickle_file:\n",
    "    data = pickle.load(pickle_file)\n"
   ]
  },
  {
   "cell_type": "code",
   "execution_count": null,
   "metadata": {
    "collapsed": false
   },
   "outputs": [],
   "source": [
    "signal = None\n",
    "for signal_index in data:\n",
    "    if data[signal_index]['name'] == sys.argv[2]:\n",
    "        signal = data[signal_index]"
   ]
  },
  {
   "cell_type": "markdown",
   "metadata": {},
   "source": [
    "# b)"
   ]
  },
  {
   "cell_type": "code",
   "execution_count": null,
   "metadata": {
    "collapsed": false
   },
   "outputs": [],
   "source": [
    "def list_mean(_data_list):\n",
    "    return sum(_data_list) / len(_data_list)"
   ]
  },
  {
   "cell_type": "code",
   "execution_count": null,
   "metadata": {
    "collapsed": true
   },
   "outputs": [],
   "source": [
    "def list_std(_data_list):\n",
    "    mean = list_mean(_data_list)\n",
    "    tmp = 0\n",
    "    for val in _data_list:\n",
    "        tmp += (val - mean)**2\n",
    "    tmp /= len(_data_list)\n",
    "    return tmp ** (1/2)"
   ]
  },
  {
   "cell_type": "markdown",
   "metadata": {},
   "source": [
    "# c)"
   ]
  },
  {
   "cell_type": "code",
   "execution_count": null,
   "metadata": {
    "collapsed": true
   },
   "outputs": [],
   "source": [
    "heartbeats = []"
   ]
  },
  {
   "cell_type": "code",
   "execution_count": null,
   "metadata": {
    "collapsed": true
   },
   "outputs": [],
   "source": [
    "signal_mean = list_mean(signal['data'])"
   ]
  },
  {
   "cell_type": "code",
   "execution_count": null,
   "metadata": {
    "collapsed": true
   },
   "outputs": [],
   "source": [
    "signal_std = list_std(signal['data'])"
   ]
  },
  {
   "cell_type": "code",
   "execution_count": null,
   "metadata": {
    "collapsed": false
   },
   "outputs": [],
   "source": [
    "threshold = signal_mean + (2 * signal_std)\n",
    "above_threshold = False\n",
    "for index, entry in enumerate(signal['data']):\n",
    "    if (entry > threshold) and not above_threshold:\n",
    "        heartbeats.append(index)\n",
    "        above_threshold = True\n",
    "#        print(index, entry)\n",
    "    elif (entry <= threshold) and above_threshold:\n",
    "        above_threshold = False"
   ]
  },
  {
   "cell_type": "markdown",
   "metadata": {},
   "source": [
    "# d)"
   ]
  },
  {
   "cell_type": "code",
   "execution_count": null,
   "metadata": {
    "collapsed": false
   },
   "outputs": [],
   "source": [
    "with open(csv_file, \"w\") as out_file:\n",
    "    out_file.write(\",\".join([str(x) for x in heartbeats]))"
   ]
  },
  {
   "cell_type": "code",
   "execution_count": null,
   "metadata": {
    "collapsed": false
   },
   "outputs": [],
   "source": [
    "for index, beat in enumerate(heartbeats):\n",
    "    print(index, beat)"
   ]
  },
  {
   "cell_type": "code",
   "execution_count": null,
   "metadata": {
    "collapsed": false
   },
   "outputs": [],
   "source": [
    "print(threshold)"
   ]
  },
  {
   "cell_type": "code",
   "execution_count": null,
   "metadata": {
    "collapsed": true
   },
   "outputs": [],
   "source": []
  }
 ],
 "metadata": {
  "kernelspec": {
   "display_name": "Python 3",
   "language": "python",
   "name": "python3"
  },
  "language_info": {
   "codemirror_mode": {
    "name": "ipython",
    "version": 3
   },
   "file_extension": ".py",
   "mimetype": "text/x-python",
   "name": "python",
   "nbconvert_exporter": "python",
   "pygments_lexer": "ipython3",
   "version": "3.4.3"
  }
 },
 "nbformat": 4,
 "nbformat_minor": 0
}
