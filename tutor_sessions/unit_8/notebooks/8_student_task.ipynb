{
 "cells": [
  {
   "cell_type": "code",
   "execution_count": null,
   "metadata": {
    "collapsed": true
   },
   "outputs": [],
   "source": [
    "import sys"
   ]
  },
  {
   "cell_type": "code",
   "execution_count": null,
   "metadata": {
    "collapsed": false
   },
   "outputs": [],
   "source": [
    "while(True):\n",
    "  try:\n",
    "    first_name, last_name = input(\"What is your name? \").split(\" \")\n",
    "  except ValueError:\n",
    "    print(\"We need your first and your last name\")\n",
    "  except:\n",
    "    print(\"'Something' went wrong\")\n",
    "  else:\n",
    "    break"
   ]
  },
  {
   "cell_type": "code",
   "execution_count": null,
   "metadata": {
    "collapsed": false
   },
   "outputs": [],
   "source": [
    "while(True):\n",
    "  try:\n",
    "    age = int(input(\"What is your age? \"))\n",
    "    if age < 5:\n",
    "        raise AssertionError()\n",
    "  except ValueError:\n",
    "    print(\"That is not a number\")\n",
    "  except AssertionError:\n",
    "    print(\"You can already read and write?\")\n",
    "  except:\n",
    "    print(\"'Something' went wrong\")\n",
    "  else:\n",
    "    break"
   ]
  },
  {
   "cell_type": "code",
   "execution_count": null,
   "metadata": {
    "collapsed": true
   },
   "outputs": [],
   "source": []
  }
 ],
 "metadata": {
  "anaconda-cloud": {},
  "kernelspec": {
   "display_name": "Python [conda root]",
   "language": "python",
   "name": "conda-root-py"
  },
  "language_info": {
   "codemirror_mode": {
    "name": "ipython",
    "version": 3
   },
   "file_extension": ".py",
   "mimetype": "text/x-python",
   "name": "python",
   "nbconvert_exporter": "python",
   "pygments_lexer": "ipython3",
   "version": "3.5.2"
  }
 },
 "nbformat": 4,
 "nbformat_minor": 1
}
