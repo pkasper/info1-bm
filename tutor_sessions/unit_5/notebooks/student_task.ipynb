{
 "cells": [
  {
   "cell_type": "code",
   "execution_count": null,
   "metadata": {
    "collapsed": false
   },
   "outputs": [],
   "source": [
    "# import the packages we need\n",
    "import string\n",
    "import random\n",
    "\n",
    "# set up our letters\n",
    "letters = list(string.ascii_uppercase)\n",
    "vowels = [\"A\", \"E\", \"I\", \"O\", \"U\"]"
   ]
  },
  {
   "cell_type": "code",
   "execution_count": null,
   "metadata": {
    "collapsed": false
   },
   "outputs": [],
   "source": [
    "# assign value for each letter\n",
    "dictionary = {letter: random.randint(1,5) for letter in letters}"
   ]
  },
  {
   "cell_type": "code",
   "execution_count": null,
   "metadata": {
    "collapsed": false
   },
   "outputs": [],
   "source": [
    "# get the first 4 sampled letters\n",
    "user_letters = random.sample(letters, 4)\n",
    "\n",
    "# lets add 4 totally random ones and finally 2 vowels\n",
    "user_letters += [letters[random.randint(0,len(letters) - 1)] for i in range(4)] + [vowels[random.randint(0,len(vowels) - 1)] for i in range(2)] "
   ]
  },
  {
   "cell_type": "code",
   "execution_count": null,
   "metadata": {
    "collapsed": false
   },
   "outputs": [],
   "source": [
    "# start the game loop\n",
    "\n",
    "correct_word = False\n",
    "while not correct_word:\n",
    "    print(\"These are your letters: \" + str(user_letters))\n",
    "    user_input = input(\"Please enter your word:\").upper()\n",
    "    print(\"You entered: \" + user_input)\n",
    "    input_letters = list(user_input)\n",
    "    \n",
    "    # make a copy of the letters so we can remove them one by one\n",
    "    remaining_letters = user_letters\n",
    "    \n",
    "    score = 0\n",
    "    \n",
    "    # we start by assuming the input is correct\n",
    "    correct_word = True\n",
    "    \n",
    "    # check each letter\n",
    "    for input_letter in input_letters:\n",
    "        # tell the user he is incorrect and jump back to the start\n",
    "        if input_letter not in remaining_letters:\n",
    "            print(\"Invalid letter: '\" + input_letter + \"'\")\n",
    "            correct_word = False\n",
    "            break\n",
    "            \n",
    "        # remove the current letter from the allowed list and increase the score\n",
    "        remaining_letters.remove(input_letter)\n",
    "        score += dictionary[input_letter]\n",
    "    \n",
    "    # if all letters were allowed the user was correct. \n",
    "    if correct_word:\n",
    "        print(\"You entered '\" + user_input + \"'.\")\n",
    "        print(\"You get \" + str(score) + \" points!\")\n",
    "        break\n",
    "    "
   ]
  },
  {
   "cell_type": "code",
   "execution_count": null,
   "metadata": {
    "collapsed": true
   },
   "outputs": [],
   "source": []
  }
 ],
 "metadata": {
  "anaconda-cloud": {},
  "kernelspec": {
   "display_name": "Python [Root]",
   "language": "python",
   "name": "Python [Root]"
  },
  "language_info": {
   "codemirror_mode": {
    "name": "ipython",
    "version": 3
   },
   "file_extension": ".py",
   "mimetype": "text/x-python",
   "name": "python",
   "nbconvert_exporter": "python",
   "pygments_lexer": "ipython3",
   "version": "3.5.2"
  }
 },
 "nbformat": 4,
 "nbformat_minor": 0
}
