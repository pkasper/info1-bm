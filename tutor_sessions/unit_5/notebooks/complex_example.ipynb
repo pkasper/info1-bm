{
 "cells": [
  {
   "cell_type": "code",
   "execution_count": null,
   "metadata": {
    "collapsed": true
   },
   "outputs": [],
   "source": [
    "#set up the base values\n",
    "current_income = 2500 # how much we make right now\n",
    "remaining_years = 40 # how many more years do we work\n",
    "ratio = 0.15 # what rate of our income do we save?\n",
    "burn_rate = 2300 # how much money do we need once retired?\n",
    "\n",
    "income_increase = 1.03\n",
    "interest = 1.01"
   ]
  },
  {
   "cell_type": "code",
   "execution_count": null,
   "metadata": {
    "collapsed": true
   },
   "outputs": [],
   "source": [
    "# a little generator that yields the current year and the amount of money i make\n",
    "def salary(_base, _factor, _years):\n",
    "    current = _base\n",
    "    yield 0, current\n",
    "    \n",
    "    for year in range(_years):\n",
    "        current = current * _factor\n",
    "        yield year, current"
   ]
  },
  {
   "cell_type": "code",
   "execution_count": null,
   "metadata": {
    "collapsed": false
   },
   "outputs": [],
   "source": [
    "#calculate the savings for each year. remember early savings receive interest more times\n",
    "savings = [interest**(remaining_years - year) * ((income*ratio) * 12) for year,income in salary(current_income, income_increase, remaining_years)]"
   ]
  },
  {
   "cell_type": "code",
   "execution_count": null,
   "metadata": {
    "collapsed": false
   },
   "outputs": [],
   "source": [
    "#let's look at how much we save each year\n",
    "savings"
   ]
  },
  {
   "cell_type": "code",
   "execution_count": null,
   "metadata": {
    "collapsed": false
   },
   "outputs": [],
   "source": [
    "#overall savings. looks good, doesn't it?\n",
    "total_savings = sum(savings)\n",
    "total_savings"
   ]
  },
  {
   "cell_type": "code",
   "execution_count": null,
   "metadata": {
    "collapsed": true
   },
   "outputs": [],
   "source": [
    "# now we retire. let's see how long we last"
   ]
  },
  {
   "cell_type": "code",
   "execution_count": null,
   "metadata": {
    "collapsed": false
   },
   "outputs": [],
   "source": [
    "def retirement(_savings, _burn_rate, _interest):\n",
    "    while True:\n",
    "        _savings = (_savings - _burn_rate*12) * _interest\n",
    "        yield _savings\n",
    "        if _savings < 0:\n",
    "            break"
   ]
  },
  {
   "cell_type": "code",
   "execution_count": null,
   "metadata": {
    "collapsed": false
   },
   "outputs": [],
   "source": [
    "_ = [print(years, remaining) \n",
    "     for years, remaining \n",
    "     in enumerate(retirement(total_savings, burn_rate, interest))]"
   ]
  },
  {
   "cell_type": "code",
   "execution_count": null,
   "metadata": {
    "collapsed": true
   },
   "outputs": [],
   "source": [
    "# is that long enough?"
   ]
  }
 ],
 "metadata": {
  "kernelspec": {
   "display_name": "Python [Root]",
   "language": "python",
   "name": "Python [Root]"
  },
  "language_info": {
   "codemirror_mode": {
    "name": "ipython",
    "version": 3
   },
   "file_extension": ".py",
   "mimetype": "text/x-python",
   "name": "python",
   "nbconvert_exporter": "python",
   "pygments_lexer": "ipython3",
   "version": "3.5.2"
  }
 },
 "nbformat": 4,
 "nbformat_minor": 0
}
