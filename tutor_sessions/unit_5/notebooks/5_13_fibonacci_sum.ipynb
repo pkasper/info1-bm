{
 "cells": [
  {
   "cell_type": "markdown",
   "metadata": {},
   "source": [
    "## boring version"
   ]
  },
  {
   "cell_type": "code",
   "execution_count": 1,
   "metadata": {
    "collapsed": false
   },
   "outputs": [
    {
     "name": "stdout",
     "output_type": "stream",
     "text": [
      "[0, 1, 2, 4, 7, 12, 20, 33, 54, 88]\n"
     ]
    }
   ],
   "source": [
    "fibonacci = [0, 1, 1, 2, 3, 5, 8, 13, 21, 34]  # Long enough...\n",
    "fibonacci_sum = []\n",
    "current_sum = 0\n",
    "\n",
    "for entry in fibonacci:\n",
    "    current_sum += entry\n",
    "    fibonacci_sum.append(current_sum)\n",
    "\n",
    "print(fibonacci_sum)  # [0, 1, 2, 4, 7, 12, 20, 33, 54, 88]"
   ]
  },
  {
   "cell_type": "markdown",
   "metadata": {},
   "source": [
    "## generator version"
   ]
  },
  {
   "cell_type": "code",
   "execution_count": 4,
   "metadata": {
    "collapsed": false
   },
   "outputs": [
    {
     "name": "stdout",
     "output_type": "stream",
     "text": [
      "[0, 1, 2, 4, 7, 12, 20, 33, 54, 88]\n"
     ]
    }
   ],
   "source": [
    "fibonacci = [0, 1, 1, 2, 3, 5, 8, 13, 21, 34]  # Long enough...\n",
    "\n",
    "#  the generator\n",
    "def accumulate(_list):\n",
    "    total = 0\n",
    "    for x in _list:\n",
    "        total += x\n",
    "        yield total\n",
    "\n",
    "# the 1-liner\n",
    "fibonacci_sum = list(accumulate(fibonacci))\n",
    "print(fibonacci_sum)  # [0, 1, 2, 4, 7, 12, 20, 33, 54, 88]"
   ]
  },
  {
   "cell_type": "code",
   "execution_count": null,
   "metadata": {
    "collapsed": true
   },
   "outputs": [],
   "source": []
  }
 ],
 "metadata": {
  "kernelspec": {
   "display_name": "Python [Root]",
   "language": "python",
   "name": "Python [Root]"
  },
  "language_info": {
   "codemirror_mode": {
    "name": "ipython",
    "version": 3
   },
   "file_extension": ".py",
   "mimetype": "text/x-python",
   "name": "python",
   "nbconvert_exporter": "python",
   "pygments_lexer": "ipython3",
   "version": "3.5.2"
  }
 },
 "nbformat": 4,
 "nbformat_minor": 0
}
