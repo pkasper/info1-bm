{
 "cells": [
  {
   "cell_type": "markdown",
   "metadata": {},
   "source": [
    "# Source"
   ]
  },
  {
   "cell_type": "code",
   "execution_count": null,
   "metadata": {
    "collapsed": false
   },
   "outputs": [],
   "source": [
    "fibonacci = [0, 1, 1, 2, 3, 5, 8, 13, 21, 34]  # Long enough...\n",
    "odd_squared = []\n",
    "for entry in fibonacci:\n",
    "    if entry % 2 == 1:\n",
    "        odd_squared.append(entry**2)\n",
    "    else:\n",
    "        odd_squared.append(entry)\n",
    "        \n",
    "print(odd_squared) # [0, 1, 1, 2, 9, 25, 8, 169, 441, 34]"
   ]
  },
  {
   "cell_type": "code",
   "execution_count": null,
   "metadata": {
    "collapsed": false
   },
   "outputs": [],
   "source": [
    "fibonacci = [0, 1, 1, 2, 3, 5, 8, 13, 21, 34]  # Long enough...\n",
    "odd_squared = [x**2  if x % 2 == 1 else x for x in fibonacci ]\n",
    "print(odd_squared)"
   ]
  },
  {
   "cell_type": "markdown",
   "metadata": {},
   "source": [
    "# Speed\n",
    "### (%%timeit is a jupyter magic command)"
   ]
  },
  {
   "cell_type": "code",
   "execution_count": null,
   "metadata": {
    "collapsed": false
   },
   "outputs": [],
   "source": [
    "%%timeit\n",
    "fibonacci = [0, 1, 1, 2, 3, 5, 8, 13, 21, 34]  # Long enough...\n",
    "odd_squared = []\n",
    "for entry in fibonacci:\n",
    "    if entry % 2 == 1:\n",
    "        odd_squared.append(entry**2)\n",
    "    else:\n",
    "        odd_squared.append(entry)"
   ]
  },
  {
   "cell_type": "code",
   "execution_count": null,
   "metadata": {
    "collapsed": false
   },
   "outputs": [],
   "source": [
    "%%timeit\n",
    "fibonacci = [0, 1, 1, 2, 3, 5, 8, 13, 21, 34]  # Long enough...\n",
    "odd_squared = [x**2  if x % 2 == 1 else x for x in fibonacci ]"
   ]
  },
  {
   "cell_type": "code",
   "execution_count": null,
   "metadata": {
    "collapsed": true
   },
   "outputs": [],
   "source": []
  }
 ],
 "metadata": {
  "anaconda-cloud": {},
  "kernelspec": {
   "display_name": "Python [Root]",
   "language": "python",
   "name": "Python [Root]"
  },
  "language_info": {
   "codemirror_mode": {
    "name": "ipython",
    "version": 3
   },
   "file_extension": ".py",
   "mimetype": "text/x-python",
   "name": "python",
   "nbconvert_exporter": "python",
   "pygments_lexer": "ipython3",
   "version": "3.5.2"
  }
 },
 "nbformat": 4,
 "nbformat_minor": 0
}
