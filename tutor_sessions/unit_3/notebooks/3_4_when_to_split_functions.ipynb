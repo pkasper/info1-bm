{
 "cells": [
  {
   "cell_type": "code",
   "execution_count": null,
   "metadata": {
    "collapsed": true
   },
   "outputs": [],
   "source": [
    "# Example: triangle information \n",
    "def triangle_circumfer_area(param_a, param_b, param_c, height):\n",
    "    circumference = param_a + param_b + param_c\n",
    "    area = (param_a * height) / 2\n",
    "    return circumference, area\n"
   ]
  },
  {
   "cell_type": "code",
   "execution_count": null,
   "metadata": {
    "collapsed": true
   },
   "outputs": [],
   "source": [
    "# We can return both with one function, but it \n",
    "# would be better to split this function for clarity and usability\n",
    "def triangle_circumfer(side_a, side_b, side_c):\n",
    "    circumference = side_a + side_b + side_c\n",
    "    return circumference\n",
    "\n",
    "def triangle_area(side, height_of_side):\n",
    "    area = (side * height_of_side) / 2\n",
    "    return area"
   ]
  }
 ],
 "metadata": {
  "kernelspec": {
   "display_name": "Python [Root]",
   "language": "python",
   "name": "Python [Root]"
  },
  "language_info": {
   "codemirror_mode": {
    "name": "ipython",
    "version": 3
   },
   "file_extension": ".py",
   "mimetype": "text/x-python",
   "name": "python",
   "nbconvert_exporter": "python",
   "pygments_lexer": "ipython3",
   "version": "3.5.2"
  }
 },
 "nbformat": 4,
 "nbformat_minor": 0
}
