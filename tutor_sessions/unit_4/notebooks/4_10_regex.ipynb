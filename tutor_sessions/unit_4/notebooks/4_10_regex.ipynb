{
 "cells": [
  {
   "cell_type": "code",
   "execution_count": 2,
   "metadata": {
    "collapsed": false
   },
   "outputs": [],
   "source": [
    "# Find with regular expressions\n",
    "# documentation: https://docs.python.org/3/library/re.html\n",
    "# careful: re.match() only checks for matches at the beginning of the string!\n",
    "\n",
    "import re"
   ]
  },
  {
   "cell_type": "code",
   "execution_count": 7,
   "metadata": {
    "collapsed": false
   },
   "outputs": [
    {
     "name": "stdout",
     "output_type": "stream",
     "text": [
      "--- Simple Match ---\n",
      "l\n",
      "Hell\n",
      "He\n"
     ]
    }
   ],
   "source": [
    "# re.search(pattern, string)\n",
    "match1 = re.search('l', 'Hello World.')\n",
    "print('--- Simple Match ---')\n",
    "# the entire match is saved as group 0\n",
    "print(match1.group(0))\n",
    "\n",
    "match2 = re.search('(He)ll', 'Hello World.')\n",
    "print(match2.group(0))\n",
    "print(match2.group(1))"
   ]
  },
  {
   "cell_type": "code",
   "execution_count": 8,
   "metadata": {
    "collapsed": false
   },
   "outputs": [
    {
     "name": "stdout",
     "output_type": "stream",
     "text": [
      "--- List of Matches ---\n",
      "['ll', 'ld']\n"
     ]
    }
   ],
   "source": [
    "# all matches in a list\n",
    "\n",
    "print('--- List of Matches ---')\n",
    "match2 = re.findall('l[a-z]', 'Hello World.')\n",
    "\n",
    "print(match2)"
   ]
  },
  {
   "cell_type": "code",
   "execution_count": 9,
   "metadata": {
    "collapsed": false
   },
   "outputs": [
    {
     "name": "stdout",
     "output_type": "stream",
     "text": [
      "--- Groups ---\n",
      "entire number +43-680-1234567\n",
      "country code +43\n",
      "operator code 680\n",
      "phone number 1234567\n"
     ]
    }
   ],
   "source": [
    "# use groups\n",
    "\n",
    "print('--- Groups ---')\n",
    "match3 = re.search('(\\+\\d+)-(\\d+)-(\\d+)', '+43-680-1234567')\n",
    "print('entire number ' + match3.group(0))\n",
    "print('country code ' + match3.group(1))\n",
    "print('operator code ' + match3.group(2))\n",
    "print('phone number ' + match3.group(3))"
   ]
  },
  {
   "cell_type": "code",
   "execution_count": null,
   "metadata": {
    "collapsed": true
   },
   "outputs": [],
   "source": []
  }
 ],
 "metadata": {
  "anaconda-cloud": {},
  "kernelspec": {
   "display_name": "Python [conda root]",
   "language": "python",
   "name": "conda-root-py"
  },
  "language_info": {
   "codemirror_mode": {
    "name": "ipython",
    "version": 3
   },
   "file_extension": ".py",
   "mimetype": "text/x-python",
   "name": "python",
   "nbconvert_exporter": "python",
   "pygments_lexer": "ipython3",
   "version": "3.5.2"
  }
 },
 "nbformat": 4,
 "nbformat_minor": 1
}
