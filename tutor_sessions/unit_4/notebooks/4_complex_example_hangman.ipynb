{
 "cells": [
  {
   "cell_type": "code",
   "execution_count": null,
   "metadata": {
    "collapsed": false
   },
   "outputs": [],
   "source": [
    "# Load words into a set\n",
    "word_list = open('words.txt', 'r')\n",
    "\n",
    "words = []\n",
    "\n",
    "for line in word_list:\n",
    "    words.append(line.strip())\n",
    "\n",
    "word_list.close()"
   ]
  },
  {
   "cell_type": "code",
   "execution_count": null,
   "metadata": {
    "collapsed": false
   },
   "outputs": [],
   "source": [
    "# Select a random word\n",
    "\n",
    "import random\n",
    "selected_word = random.choice(words)\n",
    "# make it lower case so we don't have to worry about cases\n",
    "selected_word = selected_word.lower()"
   ]
  },
  {
   "cell_type": "code",
   "execution_count": null,
   "metadata": {
    "collapsed": false
   },
   "outputs": [],
   "source": [
    "# Set up game tracking variables\n",
    "\n",
    "correct_letters = [False] * len(selected_word)\n",
    "guessed_letters = []\n",
    "current_word = ['_'] * len(selected_word)\n",
    "wrong_letters_count = 0"
   ]
  },
  {
   "cell_type": "code",
   "execution_count": null,
   "metadata": {
    "collapsed": false
   },
   "outputs": [],
   "source": [
    "# Ask player for character input\n",
    "\n",
    "while wrong_letters_count < 7 and False in correct_letters:\n",
    "    \n",
    "    # ask the user to enter a letter\n",
    "    letter = input('Guess a letter: ')\n",
    "    letter = letter.lower()\n",
    "    \n",
    "    # only one letter at a time!\n",
    "    while (len(letter) is not 1):\n",
    "        letter = input('Guess one letter only: ')\n",
    "        letter = letter.lower()\n",
    "    \n",
    "    # has this letter already been guessed before? Only continue if it hasn't\n",
    "    if letter not in guessed_letters:\n",
    "        \n",
    "        # the word contain the player's letter!\n",
    "        if letter in selected_word:\n",
    "            # now where do we find the letter? We're not using find() because it only finds the first occurrence\n",
    "            for i in range(len(selected_word)):\n",
    "                if selected_word[i] == letter:\n",
    "                    # this letter was guessed correctly, so let's set that position to True\n",
    "                    correct_letters[i] = True\n",
    "                    \n",
    "                    # show the player the current status by showing all correct letters in the word\n",
    "                    current_word[i] = selected_word[i]\n",
    "            # the known letters are in a list, so to print them correctly, they need to be joined to a string\n",
    "            print('This is what you know so far: ' + ' '.join(current_word))\n",
    "        \n",
    "        # it doesn't contain the letter\n",
    "        else:\n",
    "            # that means one attempt less available...\n",
    "            wrong_letters_count += 1\n",
    "            print('Sorry, my word does not contain ' + letter + '. You have ' + str(7 - wrong_letters_count + 1) + ' guesses remaining.')\n",
    "\n",
    "    # this letter cannot be used anymore\n",
    "    guessed_letters.append(letter)\n",
    "\n",
    "# the word has not been guessed but all guesses are used up - the player lost\n",
    "if False in correct_letters:\n",
    "    print('Sorry, you lost.')\n",
    "\n",
    "# everything was guessed correctly\n",
    "else:\n",
    "    print('Yay, you won!')"
   ]
  },
  {
   "cell_type": "code",
   "execution_count": null,
   "metadata": {
    "collapsed": true
   },
   "outputs": [],
   "source": []
  }
 ],
 "metadata": {
  "anaconda-cloud": {},
  "kernelspec": {
   "display_name": "Python [conda root]",
   "language": "python",
   "name": "conda-root-py"
  },
  "language_info": {
   "codemirror_mode": {
    "name": "ipython",
    "version": 3
   },
   "file_extension": ".py",
   "mimetype": "text/x-python",
   "name": "python",
   "nbconvert_exporter": "python",
   "pygments_lexer": "ipython3",
   "version": "3.5.2"
  }
 },
 "nbformat": 4,
 "nbformat_minor": 0
}
