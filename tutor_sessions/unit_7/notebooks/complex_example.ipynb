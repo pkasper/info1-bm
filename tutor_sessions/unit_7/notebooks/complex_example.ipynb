{
 "cells": [
  {
   "cell_type": "code",
   "execution_count": null,
   "metadata": {
    "collapsed": true
   },
   "outputs": [],
   "source": [
    "%matplotlib notebook\n",
    "import numpy as np\n",
    "import matplotlib.pyplot as plt"
   ]
  },
  {
   "cell_type": "code",
   "execution_count": null,
   "metadata": {
    "collapsed": true
   },
   "outputs": [],
   "source": [
    "# import two functions out of the retirement_model.py file\n",
    "from retirement_model import calc_savings, calc_retirement_account"
   ]
  },
  {
   "cell_type": "code",
   "execution_count": null,
   "metadata": {
    "collapsed": true
   },
   "outputs": [],
   "source": [
    "# declaring a few constants:\n",
    "CURRENT_INCOME = 3500 # how much we make right now\n",
    "REMAING_YEARS = 40 # how many more years do we work\n",
    "SAVING_RATIO = 0.15 # what rate of our income do we save?\n",
    "BURN_RATE_PER_MONTH = 2300 # how much money do we need once retired?\n",
    "INCOME_INCREASE = 1.03 # annual salary increase\n",
    "INTEREST = 1.01        # 1% annual interest rate"
   ]
  },
  {
   "cell_type": "code",
   "execution_count": null,
   "metadata": {
    "collapsed": true
   },
   "outputs": [],
   "source": [
    "# call function calc_savings and save the result to an array\n",
    "savings = np.array(calc_savings(CURRENT_INCOME, SAVING_RATIO,\n",
    "    INCOME_INCREASE, REMAING_YEARS, INTEREST))\n",
    "\n",
    "# accumulate row 1 by reason of showing increasing income\n",
    "savings[:,1] = np.add.accumulate(savings[:,1])\n",
    "\n",
    "# call function calc_retirement_account and also save output to abs\n",
    "# numpy array\n",
    "total_savings = savings[-1, 1]\n",
    "retirement = np.array(calc_retirement_account(total_savings,\n",
    "    BURN_RATE_PER_MONTH, INTEREST))"
   ]
  },
  {
   "cell_type": "code",
   "execution_count": null,
   "metadata": {
    "collapsed": true
   },
   "outputs": [],
   "source": [
    "# we only want to plot one curve, so we have to concatenate these two matrices\n",
    "curve = np.concatenate(\n",
    "    (savings, retirement + (REMAING_YEARS, 0)), axis=0)\n",
    "#scale down cash\n",
    "curve[:, 1] *= (1/1000)\n",
    "#shift right the years, cause we don't want to start at 0\n",
    "curve[:, 0] += 1"
   ]
  },
  {
   "cell_type": "code",
   "execution_count": null,
   "metadata": {
    "collapsed": false
   },
   "outputs": [],
   "source": [
    "# do the fun part: plotting using matplotlib\n",
    "plt.plot(curve[:,0], curve[:,1], color='red',\n",
    "    linestyle='solid', label='savings')\n",
    "\n",
    "plt.plot(REMAING_YEARS, curve[REMAING_YEARS-1, 1], color='red',\n",
    "    marker='p', linestyle='', label='quit job')\n",
    "\n",
    "plt.legend(numpoints=1)\n",
    "plt.xlabel('Years')\n",
    "plt.ylabel('Cash Balance [1.000 \\u20AC]')\n",
    "plt.ylim((0, np.max(curve[:,1]) * 1.1))\n",
    "plt.grid()"
   ]
  },
  {
   "cell_type": "code",
   "execution_count": null,
   "metadata": {
    "collapsed": true
   },
   "outputs": [],
   "source": []
  }
 ],
 "metadata": {
  "kernelspec": {
   "display_name": "Python 3",
   "language": "python",
   "name": "python3"
  },
  "language_info": {
   "codemirror_mode": {
    "name": "ipython",
    "version": 3
   },
   "file_extension": ".py",
   "mimetype": "text/x-python",
   "name": "python",
   "nbconvert_exporter": "python",
   "pygments_lexer": "ipython3",
   "version": "3.5.1"
  }
 },
 "nbformat": 4,
 "nbformat_minor": 0
}
