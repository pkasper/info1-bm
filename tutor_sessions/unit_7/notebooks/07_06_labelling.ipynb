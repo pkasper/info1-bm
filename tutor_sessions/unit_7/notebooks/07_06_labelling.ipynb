{
 "cells": [
  {
   "cell_type": "code",
   "execution_count": null,
   "metadata": {
    "collapsed": true
   },
   "outputs": [],
   "source": [
    "%matplotlib notebook\n",
    "import matplotlib.pyplot as plt\n",
    "import numpy as np"
   ]
  },
  {
   "cell_type": "code",
   "execution_count": null,
   "metadata": {
    "collapsed": false
   },
   "outputs": [],
   "source": [
    "# evenly sampled from 0 to 2PI,  0.1 intervals\n",
    "t = np.arange(0., 2 * np.pi, 0.1)\n",
    "\n",
    "# sine, cosine and a green line\n",
    "plt.plot(t, np.sin(t), color='red', linestyle='dashed', label='sine')\n",
    "plt.plot(t, np.cos(t), color='blue', linestyle='', marker='s', label='cosine')\n",
    "plt.hlines(0, 0, 2 * np.pi, color='green', label='hline')\n",
    "plt.xlabel('x values')\n",
    "plt.ylabel('y values')\n",
    "plt.axis([0, 2*np.pi, -1, +1])\n",
    "plt.legend()\n",
    "plt.show()"
   ]
  },
  {
   "cell_type": "code",
   "execution_count": null,
   "metadata": {
    "collapsed": true
   },
   "outputs": [],
   "source": []
  }
 ],
 "metadata": {
  "kernelspec": {
   "display_name": "Python 3",
   "language": "python",
   "name": "python3"
  },
  "language_info": {
   "codemirror_mode": {
    "name": "ipython",
    "version": 3
   },
   "file_extension": ".py",
   "mimetype": "text/x-python",
   "name": "python",
   "nbconvert_exporter": "python",
   "pygments_lexer": "ipython3",
   "version": "3.5.1"
  }
 },
 "nbformat": 4,
 "nbformat_minor": 0
}
