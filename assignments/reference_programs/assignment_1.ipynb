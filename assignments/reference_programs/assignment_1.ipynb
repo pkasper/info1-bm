{
 "cells": [
  {
   "cell_type": "markdown",
   "metadata": {},
   "source": [
    "# Command Line Simulation"
   ]
  },
  {
   "cell_type": "code",
   "execution_count": null,
   "metadata": {
    "collapsed": false
   },
   "outputs": [],
   "source": [
    "command_line = \"assignment_1.py s0010_re.dat 38400\"\n",
    "\n",
    "import sys\n",
    "sys.argv = command_line.split(\" \")\n",
    "\n",
    "#print(sys.argv)"
   ]
  },
  {
   "cell_type": "markdown",
   "metadata": {},
   "source": [
    "# Homework 1\n",
    " - a) Einlesen\n",
    " - b) In Datenstruktur parsen\n",
    " - c) Als pickle dumpen"
   ]
  },
  {
   "cell_type": "markdown",
   "metadata": {},
   "source": [
    "## Data Structure"
   ]
  },
  {
   "cell_type": "code",
   "execution_count": null,
   "metadata": {
    "collapsed": true
   },
   "outputs": [],
   "source": [
    "sensor_data = {0: {\"name\": \"i\", \"data\": []},\n",
    "               1: {\"name\": \"ii\", \"data\": []},\n",
    "               2: {\"name\": \"iii\", \"data\": []},\n",
    "               3: {\"name\": \"avr\", \"data\": []},\n",
    "               4: {\"name\": \"avl\", \"data\": []},\n",
    "               5: {\"name\": \"avf\", \"data\": []},\n",
    "               6: {\"name\": \"v1\", \"data\": []},\n",
    "               7: {\"name\": \"v2\", \"data\": []},\n",
    "               8: {\"name\": \"v3\", \"data\": []},\n",
    "               9: {\"name\": \"v4\", \"data\": []},\n",
    "               10: {\"name\": \"v5\", \"data\": []},\n",
    "               11: {\"name\": \"v6\", \"data\": []}\n",
    "              }"
   ]
  },
  {
   "cell_type": "markdown",
   "metadata": {
    "collapsed": true
   },
   "source": [
    "# a)"
   ]
  },
  {
   "cell_type": "code",
   "execution_count": null,
   "metadata": {
    "collapsed": false
   },
   "outputs": [],
   "source": [
    "file_base_name = sys.argv[1][0:sys.argv[1].rfind(\".\")]\n",
    "num_frames = int(sys.argv[2])\n",
    "\n",
    "in_file = sys.argv[1][:]\n",
    "out_file = file_base_name + \".p\""
   ]
  },
  {
   "cell_type": "code",
   "execution_count": null,
   "metadata": {
    "collapsed": false
   },
   "outputs": [],
   "source": [
    "signal_file = open(in_file, \"rb\")"
   ]
  },
  {
   "cell_type": "markdown",
   "metadata": {},
   "source": [
    "# b)"
   ]
  },
  {
   "cell_type": "code",
   "execution_count": null,
   "metadata": {
    "collapsed": false
   },
   "outputs": [],
   "source": [
    "import struct"
   ]
  },
  {
   "cell_type": "code",
   "execution_count": null,
   "metadata": {
    "collapsed": false
   },
   "outputs": [],
   "source": [
    "for signal_timestamp in range(num_frames):\n",
    "    for signal_index in range(len(sensor_data)):\n",
    "        sensor_data[signal_index]['data'].append(struct.unpack(\"h\", signal_file.read(2))[0])"
   ]
  },
  {
   "cell_type": "code",
   "execution_count": null,
   "metadata": {
    "collapsed": true
   },
   "outputs": [],
   "source": [
    "signal_file.close()"
   ]
  },
  {
   "cell_type": "markdown",
   "metadata": {},
   "source": [
    "# c)"
   ]
  },
  {
   "cell_type": "code",
   "execution_count": null,
   "metadata": {
    "collapsed": true
   },
   "outputs": [],
   "source": [
    "import pickle"
   ]
  },
  {
   "cell_type": "code",
   "execution_count": null,
   "metadata": {
    "collapsed": false
   },
   "outputs": [],
   "source": [
    "with open(out_file, \"wb\") as pickle_file:\n",
    "    pickle.dump(sensor_data, pickle_file)"
   ]
  },
  {
   "cell_type": "code",
   "execution_count": null,
   "metadata": {
    "collapsed": true
   },
   "outputs": [],
   "source": []
  }
 ],
 "metadata": {
  "anaconda-cloud": {},
  "kernelspec": {
   "display_name": "Python [default]",
   "language": "python",
   "name": "python3"
  },
  "language_info": {
   "codemirror_mode": {
    "name": "ipython",
    "version": 3
   },
   "file_extension": ".py",
   "mimetype": "text/x-python",
   "name": "python",
   "nbconvert_exporter": "python",
   "pygments_lexer": "ipython3",
   "version": "3.5.2"
  }
 },
 "nbformat": 4,
 "nbformat_minor": 0
}
